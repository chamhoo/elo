{
 "cells": [
  {
   "cell_type": "markdown",
   "metadata": {},
   "source": [
    "# Feature Enginnering 6\n",
    "***\n",
    "这个 FE 我们将要将商户信息融入进去，试试效果。\n",
    "我想了一个办法，对于 mer_merchant_category_id ，我应该创建一个特征is_diff_with_merchant_category_id， 将与merchant_category_id不同的项目标记为True。对于 mer_subsector_id，mer_state_id,city_id, category_1 同理，至于 category_2,直接onehot展开。"
   ]
  },
  {
   "cell_type": "code",
   "execution_count": 1,
   "metadata": {},
   "outputs": [],
   "source": [
    "import pandas as pd\n",
    "import numpy as np\n",
    "import matplotlib.pyplot as plt"
   ]
  },
  {
   "cell_type": "code",
   "execution_count": 2,
   "metadata": {},
   "outputs": [],
   "source": [
    "usecol = [\n",
    "    'category_1', \n",
    "    'category_2',\n",
    "    'state_id', \n",
    "    'city_id',\n",
    "    'subsector_id', \n",
    "    'merchant_id',\n",
    "    'card_id',\n",
    "    'merchant_category_id'\n",
    "]"
   ]
  },
  {
   "cell_type": "code",
   "execution_count": 3,
   "metadata": {},
   "outputs": [],
   "source": [
    "mer = pd.read_csv('/root/data/merchants.csv')\n",
    "his = pd.read_csv('/root/data/historical_transactions.csv', usecols=usecol)\n",
    "new = pd.read_csv('/root/data/new_merchant_transactions.csv', usecols=usecol)"
   ]
  },
  {
   "cell_type": "code",
   "execution_count": 4,
   "metadata": {},
   "outputs": [
    {
     "name": "stdout",
     "output_type": "stream",
     "text": [
      "334633 334696\n"
     ]
    }
   ],
   "source": [
    "print(mer.merchant_id.nunique(), mer.shape[0])"
   ]
  },
  {
   "cell_type": "code",
   "execution_count": 5,
   "metadata": {},
   "outputs": [],
   "source": [
    "old_his_col = his.columns.tolist()\n",
    "old_his_col.remove('card_id')"
   ]
  },
  {
   "cell_type": "code",
   "execution_count": 6,
   "metadata": {},
   "outputs": [],
   "source": [
    "mer_count = mer.groupby('merchant_id').merchant_id.count()\n",
    "mutiple_mer_id = mer_count[mer_count > 1].index\n",
    "\n",
    "for mer_idx in mutiple_mer_id:\n",
    "    index = mer[mer.merchant_id == mer_idx].index\n",
    "    mer.drop(index[: -1], axis=0, inplace=True)\n",
    "    \n",
    "del mer_count, mutiple_mer_id, index, mer_idx"
   ]
  },
  {
   "cell_type": "code",
   "execution_count": 7,
   "metadata": {},
   "outputs": [],
   "source": [
    "mer.columns = ['mer_'+i if i != 'merchant_id' else i for i in mer.columns]\n",
    "his = pd.merge(his, mer, on='merchant_id', how='left')\n",
    "new = pd.merge(new, mer, on='merchant_id', how='left')"
   ]
  },
  {
   "cell_type": "code",
   "execution_count": 8,
   "metadata": {},
   "outputs": [],
   "source": [
    "#for i in his.columns:\n",
    "#    if his[i].dtype != 'object':\n",
    "#        his[i] = his[i].astype('float32')\n",
    "#        \n",
    "#for i in new.columns:\n",
    "#    if new[i].dtype != 'object':\n",
    "#        new[i] = new[i].astype('float32')"
   ]
  },
  {
   "cell_type": "code",
   "execution_count": 9,
   "metadata": {},
   "outputs": [],
   "source": [
    "col = [\n",
    "    'category_1', \n",
    "    'state_id', \n",
    "    'city_id',\n",
    "    'subsector_id', \n",
    "    'merchant_category_id'\n",
    "]\n",
    "\n",
    "\n",
    "def search_diff(line1, line2):\n",
    "    diffidx = [0 if line[0]==line[1] else 1 for line in zip(line1, line2)]\n",
    "    return diffidx\n",
    "\n",
    "\n",
    "for i in col:\n",
    "    line1 = his[i]\n",
    "    line2 = his['mer_'+i]\n",
    "    his[f'is_diff_with_{i}'] = search_diff(line1, line2)\n",
    "    his.drop([i], axis=1, inplace=True)\n",
    "    his.drop(['mer_'+i], axis=1, inplace=True)\n",
    "    del line1, line2\n",
    "\n",
    "\n",
    "for i in col:\n",
    "    line1 = new[i]\n",
    "    line2 = new['mer_'+i]\n",
    "    new[f'is_diff_with_{i}'] = search_diff(line1, line2)\n",
    "    new.drop([i], axis=1, inplace=True)\n",
    "    new.drop(['mer_'+i], axis=1, inplace=True)\n",
    "    del line1, line2"
   ]
  },
  {
   "cell_type": "code",
   "execution_count": 10,
   "metadata": {},
   "outputs": [],
   "source": [
    "dum_col = [\n",
    "    'mer_category_2',\n",
    "    'mer_category_4',\n",
    "    'mer_most_recent_sales_range',\n",
    "    'mer_most_recent_purchases_range'\n",
    "]\n",
    "his = pd.get_dummies(his, columns=dum_col, dummy_na=True, dtype='bool')\n",
    "new = pd.get_dummies(new, columns=dum_col, dummy_na=True, dtype='bool')"
   ]
  },
  {
   "cell_type": "code",
   "execution_count": 11,
   "metadata": {},
   "outputs": [],
   "source": [
    "his.drop(['merchant_id', 'category_2'], axis=1, inplace=True)\n",
    "new.drop(['merchant_id', 'category_2'], axis=1, inplace=True)"
   ]
  },
  {
   "cell_type": "code",
   "execution_count": 12,
   "metadata": {},
   "outputs": [],
   "source": [
    "his.fillna(0, inplace=True)\n",
    "new.fillna(0, inplace=True)\n",
    "\n",
    "his.replace(np.inf, 0, inplace=True)\n",
    "new.replace(np.inf, 0, inplace=True)"
   ]
  },
  {
   "cell_type": "code",
   "execution_count": 13,
   "metadata": {},
   "outputs": [],
   "source": [
    "def cal_mode(serise):\n",
    "    return serise.mode()[0]\n",
    "\n",
    "\n",
    "def agg_dataframe(df):\n",
    "    agg = {'mer_category_2_1.0':['mean'],\n",
    "           'mer_category_2_2.0':['mean'], \n",
    "           'mer_category_2_3.0':['mean'],\n",
    "           'mer_category_2_4.0':['mean'], \n",
    "           'mer_category_2_5.0':['mean'], \n",
    "           'mer_category_2_nan':['mean'],\n",
    "           'mer_category_4_N':['mean'],\n",
    "           'mer_category_4_Y':['mean'],\n",
    "           'mer_category_4_nan':['mean'],\n",
    "           'mer_most_recent_sales_range_A':['mean'],\n",
    "           'mer_most_recent_sales_range_B':['mean'],\n",
    "           'mer_most_recent_sales_range_C':['mean'],\n",
    "           'mer_most_recent_sales_range_D':['mean'],\n",
    "           'mer_most_recent_sales_range_E':['mean'],\n",
    "           'mer_most_recent_sales_range_nan':['mean'],\n",
    "           'mer_most_recent_purchases_range_A':['mean'],\n",
    "           'mer_most_recent_purchases_range_B':['mean'],\n",
    "           'mer_most_recent_purchases_range_C':['mean'],\n",
    "           'mer_most_recent_purchases_range_D':['mean'],\n",
    "           'mer_most_recent_purchases_range_E':['mean'], \n",
    "           'mer_most_recent_purchases_range_nan':['mean'],\n",
    "           'is_diff_with_category_1':['mean'],\n",
    "           'is_diff_with_state_id':['mean'],\n",
    "           'is_diff_with_city_id':['mean'],\n",
    "           'is_diff_with_subsector_id':['mean'], \n",
    "           'is_diff_with_merchant_category_id':['mean'],\n",
    "           'mer_numerical_1':['min', 'max', 'std', 'mean', 'sum'],\n",
    "           'mer_numerical_2':['min', 'max', 'std', 'mean', 'sum'],\n",
    "           'mer_avg_sales_lag3':['min', 'max', 'std', 'mean', 'sum'],\n",
    "           'mer_avg_purchases_lag3':['min', 'max', 'std', 'mean', 'sum'],\n",
    "           'mer_active_months_lag3':['min', 'max', 'std', 'mean', 'sum'],\n",
    "           'mer_avg_sales_lag6':['min', 'max', 'std', 'mean', 'sum'],\n",
    "           'mer_avg_purchases_lag6':['min', 'max', 'std', 'mean', 'sum'],\n",
    "           'mer_active_months_lag6':['min', 'max', 'std', 'mean', 'sum'],\n",
    "           'mer_avg_sales_lag12':['min', 'max', 'std', 'mean', 'sum'],\n",
    "           'mer_avg_purchases_lag12':['min', 'max', 'std', 'mean', 'sum'],\n",
    "           'mer_active_months_lag12':['min', 'max', 'std', 'mean', 'sum'],\n",
    "           'mer_merchant_group_id':[cal_mode]}\n",
    "    \n",
    "    df_agg = df.groupby('card_id').agg(agg)\n",
    "    df_agg.columns = ['_'.join(col).strip() for col in df_agg.columns.values]\n",
    "    df_agg.reset_index(inplace=True)\n",
    "    return df_agg"
   ]
  },
  {
   "cell_type": "code",
   "execution_count": 14,
   "metadata": {},
   "outputs": [],
   "source": [
    "agg_his = agg_dataframe(his)\n",
    "agg_his.columns = ['his_' + c if c != 'card_id' else c for c in agg_his.columns]\n",
    "agg_new = agg_dataframe(new)\n",
    "agg_new.columns = ['new_' + c if c != 'card_id' else c for c in agg_new.columns]"
   ]
  },
  {
   "cell_type": "code",
   "execution_count": 15,
   "metadata": {},
   "outputs": [],
   "source": [
    "train = pd.read_csv('/root/tempfile/train_final121201.csv')\n",
    "test = pd.read_csv('/root/tempfile/test_final121201.csv')"
   ]
  },
  {
   "cell_type": "code",
   "execution_count": 18,
   "metadata": {},
   "outputs": [],
   "source": [
    "train = pd.merge(train, agg_his, on='card_id', how='left')\n",
    "train = pd.merge(train, agg_new, on='card_id', how='left')\n",
    "\n",
    "test = pd.merge(test, agg_his, on='card_id', how='left')\n",
    "test = pd.merge(test, agg_new, on='card_id', how='left')"
   ]
  },
  {
   "cell_type": "code",
   "execution_count": 19,
   "metadata": {},
   "outputs": [],
   "source": [
    "train.fillna(0, inplace=True)\n",
    "test.fillna(0, inplace=True)"
   ]
  },
  {
   "cell_type": "code",
   "execution_count": 23,
   "metadata": {},
   "outputs": [],
   "source": [
    "train.to_csv('/root/tempfile/train_final122812.csv',index=False)\n",
    "test.to_csv('/root/tempfile/test_final122812.csv',index=False)"
   ]
  }
 ],
 "metadata": {
  "kernelspec": {
   "display_name": "Python 3",
   "language": "python",
   "name": "python3"
  },
  "language_info": {
   "codemirror_mode": {
    "name": "ipython",
    "version": 3
   },
   "file_extension": ".py",
   "mimetype": "text/x-python",
   "name": "python",
   "nbconvert_exporter": "python",
   "pygments_lexer": "ipython3",
   "version": "3.7.1"
  }
 },
 "nbformat": 4,
 "nbformat_minor": 2
}
