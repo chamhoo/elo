{
 "cells": [
  {
   "cell_type": "code",
   "execution_count": 1,
   "metadata": {},
   "outputs": [],
   "source": [
    "import numpy as np\n",
    "import pandas as pd\n",
    "import time\n",
    "import datetime\n",
    "import gc\n",
    "import matplotlib.pyplot as plt\n",
    "\n",
    "import warnings\n",
    "warnings.filterwarnings('ignore')"
   ]
  },
  {
   "cell_type": "code",
   "execution_count": 2,
   "metadata": {},
   "outputs": [],
   "source": [
    "train = pd.read_csv('/root/data/train.csv')\n",
    "test = pd.read_csv('/root/data/test.csv')\n",
    "his = pd.read_csv('/root/data/historical_transactions.csv')\n",
    "new = pd.read_csv('/root/data/new_merchant_transactions.csv')"
   ]
  },
  {
   "cell_type": "code",
   "execution_count": 3,
   "metadata": {
    "scrolled": true
   },
   "outputs": [
    {
     "data": {
      "text/html": [
       "<div>\n",
       "<style scoped>\n",
       "    .dataframe tbody tr th:only-of-type {\n",
       "        vertical-align: middle;\n",
       "    }\n",
       "\n",
       "    .dataframe tbody tr th {\n",
       "        vertical-align: top;\n",
       "    }\n",
       "\n",
       "    .dataframe thead th {\n",
       "        text-align: right;\n",
       "    }\n",
       "</style>\n",
       "<table border=\"1\" class=\"dataframe\">\n",
       "  <thead>\n",
       "    <tr style=\"text-align: right;\">\n",
       "      <th></th>\n",
       "      <th>authorized_flag</th>\n",
       "      <th>card_id</th>\n",
       "      <th>city_id</th>\n",
       "      <th>category_1</th>\n",
       "      <th>installments</th>\n",
       "      <th>category_3</th>\n",
       "      <th>merchant_category_id</th>\n",
       "      <th>merchant_id</th>\n",
       "      <th>month_lag</th>\n",
       "      <th>purchase_amount</th>\n",
       "      <th>purchase_date</th>\n",
       "      <th>category_2</th>\n",
       "      <th>state_id</th>\n",
       "      <th>subsector_id</th>\n",
       "    </tr>\n",
       "  </thead>\n",
       "  <tbody>\n",
       "    <tr>\n",
       "      <th>0</th>\n",
       "      <td>Y</td>\n",
       "      <td>C_ID_4e6213e9bc</td>\n",
       "      <td>88</td>\n",
       "      <td>N</td>\n",
       "      <td>0</td>\n",
       "      <td>A</td>\n",
       "      <td>80</td>\n",
       "      <td>M_ID_e020e9b302</td>\n",
       "      <td>-8</td>\n",
       "      <td>-0.703331</td>\n",
       "      <td>2017-06-25 15:33:07</td>\n",
       "      <td>1.0</td>\n",
       "      <td>16</td>\n",
       "      <td>37</td>\n",
       "    </tr>\n",
       "    <tr>\n",
       "      <th>1</th>\n",
       "      <td>Y</td>\n",
       "      <td>C_ID_4e6213e9bc</td>\n",
       "      <td>88</td>\n",
       "      <td>N</td>\n",
       "      <td>0</td>\n",
       "      <td>A</td>\n",
       "      <td>367</td>\n",
       "      <td>M_ID_86ec983688</td>\n",
       "      <td>-7</td>\n",
       "      <td>-0.733128</td>\n",
       "      <td>2017-07-15 12:10:45</td>\n",
       "      <td>1.0</td>\n",
       "      <td>16</td>\n",
       "      <td>16</td>\n",
       "    </tr>\n",
       "    <tr>\n",
       "      <th>2</th>\n",
       "      <td>Y</td>\n",
       "      <td>C_ID_4e6213e9bc</td>\n",
       "      <td>88</td>\n",
       "      <td>N</td>\n",
       "      <td>0</td>\n",
       "      <td>A</td>\n",
       "      <td>80</td>\n",
       "      <td>M_ID_979ed661fc</td>\n",
       "      <td>-6</td>\n",
       "      <td>-0.720386</td>\n",
       "      <td>2017-08-09 22:04:29</td>\n",
       "      <td>1.0</td>\n",
       "      <td>16</td>\n",
       "      <td>37</td>\n",
       "    </tr>\n",
       "  </tbody>\n",
       "</table>\n",
       "</div>"
      ],
      "text/plain": [
       "  authorized_flag          card_id  city_id category_1  installments  \\\n",
       "0               Y  C_ID_4e6213e9bc       88          N             0   \n",
       "1               Y  C_ID_4e6213e9bc       88          N             0   \n",
       "2               Y  C_ID_4e6213e9bc       88          N             0   \n",
       "\n",
       "  category_3  merchant_category_id      merchant_id  month_lag  \\\n",
       "0          A                    80  M_ID_e020e9b302         -8   \n",
       "1          A                   367  M_ID_86ec983688         -7   \n",
       "2          A                    80  M_ID_979ed661fc         -6   \n",
       "\n",
       "   purchase_amount        purchase_date  category_2  state_id  subsector_id  \n",
       "0        -0.703331  2017-06-25 15:33:07         1.0        16            37  \n",
       "1        -0.733128  2017-07-15 12:10:45         1.0        16            16  \n",
       "2        -0.720386  2017-08-09 22:04:29         1.0        16            37  "
      ]
     },
     "execution_count": 3,
     "metadata": {},
     "output_type": "execute_result"
    }
   ],
   "source": [
    "his.head(3)"
   ]
  },
  {
   "cell_type": "code",
   "execution_count": 4,
   "metadata": {},
   "outputs": [],
   "source": [
    "his['amount'] = (his.purchase_amount - his.purchase_amount.min())*1"
   ]
  },
  {
   "cell_type": "code",
   "execution_count": null,
   "metadata": {},
   "outputs": [],
   "source": [
    "# 创建一个特征，用来计算每次交易后当次的还款日需要还款多少,我们简化一下，把最后还款日设定为下个月。\n",
    "card_id_list = his.card_id.tolist()\n",
    "amount_list = his.amount.tolist()\n",
    "month_lag_list = his.month_lag.tolist()\n",
    "installments_list = his.installments.tolist()\n",
    "\n",
    "\n",
    "def repayment(card_id, amount, month_lag, installments, i):\n",
    "    need_repay = 0\n",
    "    i_min = i-6000\n",
    "    i_max = i+6000\n",
    "    \n",
    "    if i_min < 0:\n",
    "        i_min = 0\n",
    "    if i_max > len(card_id):\n",
    "        i_max = len(card_id)\n",
    "        \n",
    "    for n in range(i_min, i_max, 1):\n",
    "        if card_id[n] == card_id[i]:\n",
    "            if installments[n] == 0:\n",
    "                if month_lag[n] == month_lag[i]:\n",
    "                    need_repay += amount[n]\n",
    "            else:\n",
    "                if (month_lag[i] >= month_lag[n]+1) and (month_lag[i] <= month_lag[n]+installments[n]):\n",
    "                    need_repay += amount[n]/installments[n]\n",
    "\n",
    "    return need_repay\n",
    "            \n",
    "    \n",
    "a = time.time()\n",
    "need_pay = [repayment(card_id_list, amount_list, month_lag_list, installments_list, i) for i in range(len(card_id_list))]\n",
    "print(time.time()-a)    \n",
    "\n",
    "del card_id_list, amount_list, month_lag_list, installments_list\n",
    "np.save('/root/tempfile/need_pay.npy', np.array(need_pay))"
   ]
  },
  {
   "cell_type": "code",
   "execution_count": 5,
   "metadata": {},
   "outputs": [
    {
     "name": "stdout",
     "output_type": "stream",
     "text": [
      "0 -13\n"
     ]
    }
   ],
   "source": [
    "# 构造一个特征，用来计算其在每个月身上的债务总额。\n",
    "# 我们假设每个月之内消费的款项，还款日在下一个月月底的最后一天。并且假设大家都在最后一天还款\n",
    "# 首先，确定month_lag的最大值和最小值。\n",
    "print(his.month_lag.max(), his.month_lag.min())"
   ]
  },
  {
   "cell_type": "code",
   "execution_count": 10,
   "metadata": {},
   "outputs": [],
   "source": [
    "his.reset_index(inplace=True)"
   ]
  },
  {
   "cell_type": "code",
   "execution_count": null,
   "metadata": {},
   "outputs": [],
   "source": [
    "def debt(card_id, month_lag):\n",
    "    global his, index_max, index_min\n",
    "    for i in range(index_min, index_max+1):\n",
    "        "
   ]
  },
  {
   "cell_type": "code",
   "execution_count": null,
   "metadata": {
    "scrolled": true
   },
   "outputs": [],
   "source": [
    "index_max = his.groupby('card_id').index.max()\n",
    "index_min = his.groupby('card_id').index.min()\n",
    "\n",
    "debt_columns = ['card_id'] + [i for i in np.arange(-13, 1, 1)]\n",
    "debt_per_month = pd.DataFrame(np.zeros((index_max.shape[0], 15)), columns=debt_columns)\n",
    "\n"
   ]
  }
 ],
 "metadata": {
  "kernelspec": {
   "display_name": "Python 3",
   "language": "python",
   "name": "python3"
  },
  "language_info": {
   "codemirror_mode": {
    "name": "ipython",
    "version": 3
   },
   "file_extension": ".py",
   "mimetype": "text/x-python",
   "name": "python",
   "nbconvert_exporter": "python",
   "pygments_lexer": "ipython3",
   "version": "3.7.1"
  }
 },
 "nbformat": 4,
 "nbformat_minor": 2
}
