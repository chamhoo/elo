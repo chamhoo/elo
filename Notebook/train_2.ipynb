{
 "cells": [
  {
   "cell_type": "code",
   "execution_count": 16,
   "metadata": {},
   "outputs": [],
   "source": [
    "import pandas as pd\n",
    "import numpy as np\n",
    "import matplotlib.pyplot as plt\n",
    "import lightgbm as lgb\n",
    "from sklearn.model_selection import GridSearchCV\n",
    "from sklearn.preprocessing import LabelEncoder"
   ]
  },
  {
   "cell_type": "code",
   "execution_count": 3,
   "metadata": {},
   "outputs": [],
   "source": [
    "train_df = pd.read_csv('/root/tempfile/train_final121101.csv')\n",
    "test_df = pd.read_csv('/root/tempfile/test_final121101.csv')"
   ]
  },
  {
   "cell_type": "code",
   "execution_count": 25,
   "metadata": {},
   "outputs": [],
   "source": [
    "str_label = [\n",
    "    'auth_merchant_id_cal_mode',\n",
    "    'unauth_merchant_id_cal_mode', \n",
    "    'new_merchant_id_cal_mode'\n",
    "]\n",
    "for i in str_label:\n",
    "    le = LabelEncoder()\n",
    "    unique = train_df[i].append(test_df[i]).unique().tolist()\n",
    "    le.fit(unique)\n",
    "    train_df[i] = le.transform(train_df[i].tolist())\n",
    "    test_df[i] = le.transform(test_df[i].tolist())"
   ]
  },
  {
   "cell_type": "code",
   "execution_count": 31,
   "metadata": {},
   "outputs": [],
   "source": [
    "c_label = ['feature_1',\n",
    "           'feature_2',\n",
    "           'feature_3',\n",
    "           'auth_city_id_cal_mode',\n",
    "           'auth_merchant_category_id_cal_mode',\n",
    "           'auth_merchant_id_cal_mode',\n",
    "           'auth_state_id_cal_mode',\n",
    "           'auth_subsector_id_cal_mode',\n",
    "           'auth_dayofweek_cal_mode',\n",
    "           'unauth_city_id_cal_mode',\n",
    "           'unauth_merchant_category_id_cal_mode',\n",
    "           'unauth_merchant_id_cal_mode',\n",
    "           'unauth_state_id_cal_mode',\n",
    "           'unauth_subsector_id_cal_mode',\n",
    "           'unauth_dayofweek_cal_mode',\n",
    "           'new_city_id_cal_mode',\n",
    "           'new_merchant_category_id_cal_mode',\n",
    "           'new_merchant_id_cal_mode',\n",
    "           'new_state_id_cal_mode',\n",
    "           'new_subsector_id_cal_mode',\n",
    "           'new_dayofweek_cal_mode']"
   ]
  },
  {
   "cell_type": "code",
   "execution_count": null,
   "metadata": {},
   "outputs": [],
   "source": []
  }
 ],
 "metadata": {
  "kernelspec": {
   "display_name": "Python 3",
   "language": "python",
   "name": "python3"
  },
  "language_info": {
   "codemirror_mode": {
    "name": "ipython",
    "version": 3
   },
   "file_extension": ".py",
   "mimetype": "text/x-python",
   "name": "python",
   "nbconvert_exporter": "python",
   "pygments_lexer": "ipython3",
   "version": "3.7.1"
  }
 },
 "nbformat": 4,
 "nbformat_minor": 2
}
