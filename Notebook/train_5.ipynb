{
 "cells": [
  {
   "cell_type": "code",
   "execution_count": 1,
   "metadata": {},
   "outputs": [],
   "source": [
    "import pandas as pd\n",
    "import numpy as np\n",
    "import matplotlib.pyplot as plt\n",
    "import seaborn as sns\n",
    "\n",
    "import lightgbm as lgb\n",
    "from sklearn.preprocessing import LabelEncoder\n",
    "from sklearn.model_selection import train_test_split, GridSearchCV, KFold, StratifiedKFold, cross_val_score\n",
    "from hyperopt import fmin, tpe, hp, STATUS_OK, Trials\n",
    "from sklearn.metrics import mean_squared_error"
   ]
  },
  {
   "cell_type": "code",
   "execution_count": 2,
   "metadata": {},
   "outputs": [],
   "source": [
    "df_train = pd.read_csv('/root/tempfile/train_final191800.csv')\n",
    "df_test = pd.read_csv('/root/tempfile/test_final191800.csv')"
   ]
  },
  {
   "cell_type": "code",
   "execution_count": 4,
   "metadata": {},
   "outputs": [
    {
     "name": "stdout",
     "output_type": "stream",
     "text": [
      "card_id\n",
      "unauth_isholiday_mean\n",
      "new_isholiday_mean\n"
     ]
    }
   ],
   "source": [
    "for i in df_train.columns:\n",
    "    if df_train[i].dtype == 'object':\n",
    "        print(i)"
   ]
  },
  {
   "cell_type": "code",
   "execution_count": 10,
   "metadata": {},
   "outputs": [
    {
     "data": {
      "text/plain": [
       "0         False\n",
       "1         False\n",
       "2         False\n",
       "3         False\n",
       "4         False\n",
       "5         False\n",
       "6         False\n",
       "7         False\n",
       "8         False\n",
       "9         False\n",
       "10        False\n",
       "11        False\n",
       "12        False\n",
       "13        False\n",
       "14        False\n",
       "15        False\n",
       "16        False\n",
       "17        False\n",
       "18        False\n",
       "19        False\n",
       "20        False\n",
       "21        False\n",
       "22        False\n",
       "23        False\n",
       "24        False\n",
       "25        False\n",
       "26        False\n",
       "27        False\n",
       "28        False\n",
       "29        False\n",
       "          ...  \n",
       "201887    False\n",
       "201888    False\n",
       "201889    False\n",
       "201890    False\n",
       "201891    False\n",
       "201892    False\n",
       "201893    False\n",
       "201894    False\n",
       "201895    False\n",
       "201896    False\n",
       "201897    False\n",
       "201898    False\n",
       "201899    False\n",
       "201900    False\n",
       "201901    False\n",
       "201902    False\n",
       "201903    False\n",
       "201904    False\n",
       "201905    False\n",
       "201906    False\n",
       "201907    False\n",
       "201908    False\n",
       "201909    False\n",
       "201910    False\n",
       "201911    False\n",
       "201912    False\n",
       "201913    False\n",
       "201914    False\n",
       "201915    False\n",
       "201916    False\n",
       "Name: auth_isholiday_mean, Length: 201917, dtype: bool"
      ]
     },
     "execution_count": 10,
     "metadata": {},
     "output_type": "execute_result"
    }
   ],
   "source": [
    "df_train['auth_isholiday_mean']"
   ]
  },
  {
   "cell_type": "code",
   "execution_count": null,
   "metadata": {},
   "outputs": [],
   "source": [
    "df_train_columns = [c for c in df_train.columns if c not in ['card_id', 'first_active_month','target','outliers']]"
   ]
  },
  {
   "cell_type": "code",
   "execution_count": null,
   "metadata": {},
   "outputs": [],
   "source": [
    "def regression_cv(param, data, cv):\n",
    "    score = lgb.cv( \n",
    "        param, \n",
    "        data, \n",
    "        nfold=cv,\n",
    "        stratified=False, \n",
    "        shuffle=True,\n",
    "        metrics='rmse',\n",
    "        early_stopping_rounds=50,\n",
    "        verbose_eval=False, \n",
    "        show_stdv=False)\n",
    "    return score['rmse-mean'][-1]\n",
    "\n",
    "\n",
    "def hyperopt_train_test(params):\n",
    "    global df_train\n",
    "    \n",
    "    param = {\n",
    "        'objective':'regression',\n",
    "        \"boosting\": \"gbdt\",\n",
    "    }\n",
    "    param['max_depth'] = int(params['max_depth'])\n",
    "    param['num_leaves'] = int(params['num_leaves'])\n",
    "    param['min_data_in_leaf'] = int(params['min_data_in_leaf'])\n",
    "    param['reg_alpha'] = params['reg_alpha']\n",
    "    param['reg_lambda'] = params['reg_lambda']\n",
    "    param['feature_fraction'] = params['feature_fraction']\n",
    "    \n",
    "    df_train_columns = [c for c in df_train.columns if c not in ['card_id', 'first_active_month','target','outliers']]\n",
    "    data_train = lgb.Dataset(df_train[df_train_columns], label=df_train['target'])\n",
    "    return regression_cv(param, data_train, cv=5)\n",
    "\n",
    "\n",
    "def f(params):\n",
    "    global best\n",
    "    score = hyperopt_train_test(params)\n",
    "    if -score > best:\n",
    "        best = -score\n",
    "        print('new best:', -best, params)\n",
    "    return {'loss': score, 'status': STATUS_OK}"
   ]
  }
 ],
 "metadata": {
  "kernelspec": {
   "display_name": "Python 3",
   "language": "python",
   "name": "python3"
  },
  "language_info": {
   "codemirror_mode": {
    "name": "ipython",
    "version": 3
   },
   "file_extension": ".py",
   "mimetype": "text/x-python",
   "name": "python",
   "nbconvert_exporter": "python",
   "pygments_lexer": "ipython3",
   "version": "3.7.1"
  }
 },
 "nbformat": 4,
 "nbformat_minor": 2
}
