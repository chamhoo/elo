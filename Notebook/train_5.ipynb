{
 "cells": [
  {
   "cell_type": "code",
   "execution_count": 1,
   "metadata": {},
   "outputs": [],
   "source": [
    "import pandas as pd\n",
    "import numpy as np\n",
    "import matplotlib.pyplot as plt\n",
    "import lightgbm as lgb\n",
    "from sklearn.model_selection import GridSearchCV\n",
    "from sklearn.preprocessing import LabelEncoder\n",
    "from sklearn.model_selection import train_test_split"
   ]
  },
  {
   "cell_type": "code",
   "execution_count": 2,
   "metadata": {},
   "outputs": [],
   "source": [
    "old_train_df = pd.read_csv('/root/tempfile/train_final122002.csv')\n",
    "test_df = pd.read_csv('/root/tempfile/test_final122002.csv')"
   ]
  },
  {
   "cell_type": "code",
   "execution_count": 3,
   "metadata": {},
   "outputs": [],
   "source": [
    "train_df = old_train_df[old_train_df.target>-30]"
   ]
  },
  {
   "cell_type": "code",
   "execution_count": 4,
   "metadata": {},
   "outputs": [
    {
     "name": "stdout",
     "output_type": "stream",
     "text": [
      "(201917, 265) (123623, 264)\n"
     ]
    }
   ],
   "source": [
    "print(old_train_df.shape, test_df.shape)"
   ]
  },
  {
   "cell_type": "code",
   "execution_count": 5,
   "metadata": {},
   "outputs": [],
   "source": [
    "feature_col = [x for x in train_df.columns if x not in ['card_id','target']]\n",
    "y_train = train_df.target.values.astype('float')\n",
    "x_train = train_df[feature_col].values.astype('float')\n",
    "x_test = test_df[feature_col].values.astype('float')"
   ]
  },
  {
   "cell_type": "code",
   "execution_count": 6,
   "metadata": {},
   "outputs": [],
   "source": [
    "testindex = test_df.card_id"
   ]
  },
  {
   "cell_type": "code",
   "execution_count": 7,
   "metadata": {},
   "outputs": [],
   "source": [
    "del train_df, test_df, old_train_df"
   ]
  },
  {
   "cell_type": "code",
   "execution_count": 8,
   "metadata": {},
   "outputs": [],
   "source": [
    "lgb_model = lgb.LGBMRegressor(objective='regression',\n",
    "                              min_data_in_leaf=20,\n",
    "                              num_leaves=50,\n",
    "                              learning_rate=0.1, \n",
    "                              n_estimators=43, \n",
    "                              max_depth=8,\n",
    "                              metric='mse',\n",
    "                              bagging_fraction = 0.8,\n",
    "                              feature_fraction = 0.8,\n",
    "                              num_threads=2)"
   ]
  },
  {
   "cell_type": "code",
   "execution_count": 9,
   "metadata": {},
   "outputs": [
    {
     "name": "stdout",
     "output_type": "stream",
     "text": [
      "Fitting 5 folds for each of 200 candidates, totalling 1000 fits\n"
     ]
    },
    {
     "name": "stderr",
     "output_type": "stream",
     "text": [
      "[Parallel(n_jobs=4)]: Using backend LokyBackend with 4 concurrent workers.\n",
      "[Parallel(n_jobs=4)]: Done  42 tasks      | elapsed:  4.4min\n",
      "[Parallel(n_jobs=4)]: Done 192 tasks      | elapsed: 19.0min\n",
      "[Parallel(n_jobs=4)]: Done 442 tasks      | elapsed: 42.8min\n",
      "[Parallel(n_jobs=4)]: Done 792 tasks      | elapsed: 83.4min\n",
      "[Parallel(n_jobs=4)]: Done 1000 out of 1000 | elapsed: 107.7min finished\n"
     ]
    }
   ],
   "source": [
    "params_test1={\n",
    "    'max_depth': range(8,11,2),\n",
    "    'num_leaves':range(100, 300, 20),\n",
    "    'min_data_in_leaf':range(100,300,20)\n",
    "}\n",
    "gsearch1 = GridSearchCV(estimator=lgb_model, \n",
    "                        param_grid=params_test1,\n",
    "                        scoring='neg_mean_squared_error', \n",
    "                        cv=5,\n",
    "                        verbose=1, \n",
    "                        n_jobs=4)\n",
    "\n",
    "gs1 = gsearch1.fit(x_train, y_train)"
   ]
  },
  {
   "cell_type": "code",
   "execution_count": 10,
   "metadata": {},
   "outputs": [
    {
     "name": "stdout",
     "output_type": "stream",
     "text": [
      "{'max_depth': 10, 'min_data_in_leaf': 240, 'num_leaves': 160} -2.4339175243361613\n"
     ]
    }
   ],
   "source": [
    "print(gs1.best_params_, gs1.best_score_)"
   ]
  },
  {
   "cell_type": "code",
   "execution_count": null,
   "metadata": {},
   "outputs": [],
   "source": []
  }
 ],
 "metadata": {
  "kernelspec": {
   "display_name": "Python 3",
   "language": "python",
   "name": "python3"
  },
  "language_info": {
   "codemirror_mode": {
    "name": "ipython",
    "version": 3
   },
   "file_extension": ".py",
   "mimetype": "text/x-python",
   "name": "python",
   "nbconvert_exporter": "python",
   "pygments_lexer": "ipython3",
   "version": "3.7.1"
  }
 },
 "nbformat": 4,
 "nbformat_minor": 2
}
