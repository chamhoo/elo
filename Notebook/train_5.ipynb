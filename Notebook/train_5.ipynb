{
 "cells": [
  {
   "cell_type": "code",
   "execution_count": 24,
   "metadata": {},
   "outputs": [
    {
     "name": "stdout",
     "output_type": "stream",
     "text": [
      "The autoreload extension is already loaded. To reload it, use:\n",
      "  %reload_ext autoreload\n"
     ]
    }
   ],
   "source": [
    "%load_ext autoreload\n",
    "%autoreload 2\n",
    "\n",
    "import sys\n",
    "import pandas as pd\n",
    "import numpy as np\n",
    "import matplotlib.pyplot as plt\n",
    "import lightgbm as lgb\n",
    "from sklearn.model_selection import GridSearchCV\n",
    "from sklearn.preprocessing import LabelEncoder\n",
    "from sklearn.model_selection import KFoldFold\n",
    "sys.path.append('/root/code/elo/Tools/')\n",
    "from plot import *"
   ]
  },
  {
   "cell_type": "code",
   "execution_count": 2,
   "metadata": {},
   "outputs": [],
   "source": [
    "train_df = pd.read_csv('/root/tempfile/train_final122002.csv')\n",
    "test_df = pd.read_csv('/root/tempfile/test_final122002.csv')"
   ]
  },
  {
   "cell_type": "code",
   "execution_count": 3,
   "metadata": {},
   "outputs": [
    {
     "name": "stdout",
     "output_type": "stream",
     "text": [
      "(201917, 265) (123623, 264)\n"
     ]
    }
   ],
   "source": [
    "print(train_df.shape, test_df.shape)"
   ]
  },
  {
   "cell_type": "code",
   "execution_count": 4,
   "metadata": {},
   "outputs": [],
   "source": [
    "feature_col = [x for x in train_df.columns if x not in ['card_id','target']]\n",
    "y_train = train_df.target.values.astype('float')\n",
    "x_train = train_df[feature_col].values.astype('float')\n",
    "x_test = test_df[feature_col].values.astype('float')"
   ]
  },
  {
   "cell_type": "code",
   "execution_count": 5,
   "metadata": {},
   "outputs": [],
   "source": [
    "testindex = test_df.card_id"
   ]
  },
  {
   "cell_type": "code",
   "execution_count": 6,
   "metadata": {},
   "outputs": [],
   "source": [
    "del train_df, test_df"
   ]
  },
  {
   "cell_type": "code",
   "execution_count": 7,
   "metadata": {},
   "outputs": [],
   "source": [
    "lgb_model = lgb.LGBMRegressor(objective='regression',\n",
    "                              min_data_in_leaf=20,\n",
    "                              num_leaves=50,\n",
    "                              learning_rate=0.1, \n",
    "                              n_estimators=43, \n",
    "                              max_depth=8,\n",
    "                              metric='mse',\n",
    "                              bagging_fraction = 0.8,\n",
    "                              feature_fraction = 0.8)"
   ]
  },
  {
   "cell_type": "code",
   "execution_count": null,
   "metadata": {},
   "outputs": [],
   "source": [
    "params_test1={\n",
    "    'max_depth': range(8,11,1),\n",
    "    'num_leaves':range(100, 300, 20),\n",
    "    'min_data_in_leaf':range(100,300,20)\n",
    "}\n",
    "gsearch1 = GridSearchCV(estimator=lgb_model, \n",
    "                        param_grid=params_test1,\n",
    "                        scoring='neg_mean_squared_error', \n",
    "                        cv=5,\n",
    "                        verbose=1, \n",
    "                        n_jobs=8)\n",
    "\n",
    "gs1 = gsearch1.fit(x_train, y_train)"
   ]
  },
  {
   "cell_type": "code",
   "execution_count": null,
   "metadata": {},
   "outputs": [],
   "source": [
    "print(gs1.best_params_, gs1.best_score_)"
   ]
  },
  {
   "cell_type": "code",
   "execution_count": null,
   "metadata": {
    "scrolled": false
   },
   "outputs": [],
   "source": [
    "alpha = np.array(range(100, 300, 20))\n",
    "beta = np.array(range(100,300,20))\n",
    "score = np.array(gs1.cv_results_['mean_test_score'][:100])\n",
    "\n",
    "plot3D(alpha, beta, score, elev=30, azim=90)"
   ]
  },
  {
   "cell_type": "code",
   "execution_count": 10,
   "metadata": {},
   "outputs": [
    {
     "name": "stdout",
     "output_type": "stream",
     "text": [
      "Fitting 5 folds for each of 42 candidates, totalling 210 fits\n"
     ]
    },
    {
     "name": "stderr",
     "output_type": "stream",
     "text": [
      "[Parallel(n_jobs=8)]: Using backend LokyBackend with 8 concurrent workers.\n",
      "[Parallel(n_jobs=8)]: Done  34 tasks      | elapsed:  3.2min\n",
      "[Parallel(n_jobs=8)]: Done 184 tasks      | elapsed: 14.4min\n",
      "[Parallel(n_jobs=8)]: Done 210 out of 210 | elapsed: 16.5min finished\n"
     ]
    }
   ],
   "source": [
    "params_test2={\n",
    "    'max_depth': [8],\n",
    "    'num_leaves':range(100, 170, 10),\n",
    "    'min_data_in_leaf':range(200,260,10)\n",
    "}\n",
    "gsearch2 = GridSearchCV(estimator=lgb_model, \n",
    "                        param_grid=params_test2,\n",
    "                        scoring='neg_mean_squared_error', \n",
    "                        cv=5,\n",
    "                        verbose=1, \n",
    "                        n_jobs=8)\n",
    "\n",
    "gs2 = gsearch2.fit(x_train, y_train)"
   ]
  },
  {
   "cell_type": "code",
   "execution_count": 11,
   "metadata": {},
   "outputs": [
    {
     "name": "stdout",
     "output_type": "stream",
     "text": [
      "{'max_depth': 8, 'min_data_in_leaf': 240, 'num_leaves': 140} -13.408972438756566\n"
     ]
    }
   ],
   "source": [
    "print(gs2.best_params_, gs2.best_score_)"
   ]
  },
  {
   "cell_type": "code",
   "execution_count": 19,
   "metadata": {
    "scrolled": false
   },
   "outputs": [
    {
     "name": "stdout",
     "output_type": "stream",
     "text": [
      "(6, 7) (6, 7) (6, 7)\n"
     ]
    },
    {
     "data": {
      "image/png": "[encoded data removed]",
      "text/plain": [
       "<Figure size 720x720 with 1 Axes>"
      ]
     },
     "metadata": {
      "needs_background": "light"
     },
     "output_type": "display_data"
    }
   ],
   "source": [
    "alpha = np.array(range(100, 170, 10))\n",
    "beta = np.array(range(200,260,10))\n",
    "score = np.array(gs2.cv_results_['mean_test_score'])\n",
    "\n",
    "plot3D(alpha, beta, score, elev=0, azim=0, figsize=[10,10])"
   ]
  },
  {
   "cell_type": "code",
   "execution_count": 20,
   "metadata": {},
   "outputs": [
    {
     "name": "stdout",
     "output_type": "stream",
     "text": [
      "Fitting 5 folds for each of 100 candidates, totalling 500 fits\n"
     ]
    },
    {
     "name": "stderr",
     "output_type": "stream",
     "text": [
      "[Parallel(n_jobs=8)]: Using backend LokyBackend with 8 concurrent workers.\n",
      "[Parallel(n_jobs=8)]: Done  34 tasks      | elapsed:  3.2min\n",
      "[Parallel(n_jobs=8)]: Done 184 tasks      | elapsed: 14.6min\n",
      "[Parallel(n_jobs=8)]: Done 434 tasks      | elapsed: 33.8min\n",
      "[Parallel(n_jobs=8)]: Done 500 out of 500 | elapsed: 38.7min finished\n"
     ]
    }
   ],
   "source": [
    "params_test2={\n",
    "    'max_depth': [8],\n",
    "    'num_leaves':range(130, 150, 2),\n",
    "    'min_data_in_leaf':range(230,250,2)\n",
    "}\n",
    "gsearch2 = GridSearchCV(estimator=lgb_model, \n",
    "                        param_grid=params_test2,\n",
    "                        scoring='neg_mean_squared_error', \n",
    "                        cv=5,\n",
    "                        verbose=1, \n",
    "                        n_jobs=8)\n",
    "\n",
    "gs2 = gsearch2.fit(x_train, y_train)"
   ]
  },
  {
   "cell_type": "code",
   "execution_count": 21,
   "metadata": {},
   "outputs": [
    {
     "name": "stdout",
     "output_type": "stream",
     "text": [
      "{'max_depth': 8, 'min_data_in_leaf': 240, 'num_leaves': 140} -13.408972438756566\n"
     ]
    }
   ],
   "source": [
    "print(gs2.best_params_, gs2.best_score_)"
   ]
  },
  {
   "cell_type": "code",
   "execution_count": 22,
   "metadata": {},
   "outputs": [
    {
     "name": "stdout",
     "output_type": "stream",
     "text": [
      "(10, 10) (10, 10) (10, 10)\n"
     ]
    },
    {
     "data": {
      "image/png": "[encoded data removed]",
      "text/plain": [
       "<Figure size 720x720 with 1 Axes>"
      ]
     },
     "metadata": {
      "needs_background": "light"
     },
     "output_type": "display_data"
    }
   ],
   "source": [
    "alpha = np.array(range(130, 150, 2))\n",
    "beta = np.array(range(230,250, 2))\n",
    "score = np.array(gs2.cv_results_['mean_test_score'])\n",
    "\n",
    "plot3D(alpha, beta, score, elev=0, azim=0, figsize=[10,10])"
   ]
  },
  {
   "cell_type": "code",
   "execution_count": 23,
   "metadata": {},
   "outputs": [
    {
     "name": "stdout",
     "output_type": "stream",
     "text": [
      "Fitting 5 folds for each of 9 candidates, totalling 45 fits\n"
     ]
    },
    {
     "name": "stderr",
     "output_type": "stream",
     "text": [
      "[Parallel(n_jobs=8)]: Using backend LokyBackend with 8 concurrent workers.\n",
      "[Parallel(n_jobs=8)]: Done  45 out of  45 | elapsed:  3.8min finished\n"
     ]
    }
   ],
   "source": [
    "params_test2={\n",
    "    'max_depth': [8],\n",
    "    'num_leaves':[139, 140, 141],\n",
    "    'min_data_in_leaf':[239, 240, 241]\n",
    "}\n",
    "gsearch2 = GridSearchCV(estimator=lgb_model, \n",
    "                        param_grid=params_test2,\n",
    "                        scoring='neg_mean_squared_error', \n",
    "                        cv=5,\n",
    "                        verbose=1, \n",
    "                        n_jobs=8)\n",
    "\n",
    "gs2 = gsearch2.fit(x_train, y_train)"
   ]
  },
  {
   "cell_type": "code",
   "execution_count": 24,
   "metadata": {},
   "outputs": [
    {
     "name": "stdout",
     "output_type": "stream",
     "text": [
      "{'max_depth': 8, 'min_data_in_leaf': 241, 'num_leaves': 141} -13.407067247568651\n"
     ]
    }
   ],
   "source": [
    "print(gs2.best_params_, gs2.best_score_)"
   ]
  },
  {
   "cell_type": "code",
   "execution_count": 8,
   "metadata": {},
   "outputs": [
    {
     "name": "stdout",
     "output_type": "stream",
     "text": [
      "Fitting 5 folds for each of 100 candidates, totalling 500 fits\n"
     ]
    },
    {
     "name": "stderr",
     "output_type": "stream",
     "text": [
      "[Parallel(n_jobs=8)]: Using backend LokyBackend with 8 concurrent workers.\n",
      "[Parallel(n_jobs=8)]: Done  34 tasks      | elapsed:  2.8min\n",
      "[Parallel(n_jobs=8)]: Done 184 tasks      | elapsed: 13.4min\n",
      "[Parallel(n_jobs=8)]: Done 434 tasks      | elapsed: 31.5min\n",
      "[Parallel(n_jobs=8)]: Done 500 out of 500 | elapsed: 36.2min finished\n"
     ]
    }
   ],
   "source": [
    "params_test3={\n",
    "    'max_depth': [8],\n",
    "    'num_leaves':[141],\n",
    "    'min_data_in_leaf':[241],   \n",
    "    \"feature_fraction\": np.arange(0.5,1,0.05),\n",
    "    \"bagging_fraction\": np.arange(0.5,1,0.05)\n",
    "}\n",
    "gsearch3 = GridSearchCV(estimator=lgb_model, \n",
    "                        param_grid=params_test3,\n",
    "                        scoring='neg_mean_squared_error', \n",
    "                        cv=5,\n",
    "                        verbose=1, \n",
    "                        n_jobs=8)\n",
    "\n",
    "gs3 = gsearch3.fit(x_train, y_train)"
   ]
  },
  {
   "cell_type": "code",
   "execution_count": 15,
   "metadata": {},
   "outputs": [
    {
     "name": "stdout",
     "output_type": "stream",
     "text": [
      "{'bagging_fraction': 0.5, 'feature_fraction': 0.8000000000000003, 'max_depth': 8, 'min_data_in_leaf': 241, 'num_leaves': 141} -13.407067247568651\n"
     ]
    }
   ],
   "source": [
    "print(gs3.best_params_, gs3.best_score_)"
   ]
  },
  {
   "cell_type": "code",
   "execution_count": 17,
   "metadata": {},
   "outputs": [
    {
     "name": "stdout",
     "output_type": "stream",
     "text": [
      "Fitting 5 folds for each of 20 candidates, totalling 100 fits\n"
     ]
    },
    {
     "name": "stderr",
     "output_type": "stream",
     "text": [
      "[Parallel(n_jobs=8)]: Using backend LokyBackend with 8 concurrent workers.\n",
      "[Parallel(n_jobs=8)]: Done  34 tasks      | elapsed:  3.1min\n",
      "[Parallel(n_jobs=8)]: Done 100 out of 100 | elapsed:  8.1min finished\n"
     ]
    }
   ],
   "source": [
    "params_test3={\n",
    "    'max_depth': [8],\n",
    "    'num_leaves':[141],\n",
    "    'min_data_in_leaf':[241],   \n",
    "    \"feature_fraction\": np.arange(0.75,0.85,0.005),\n",
    "}\n",
    "gsearch3 = GridSearchCV(estimator=lgb_model, \n",
    "                        param_grid=params_test3,\n",
    "                        scoring='neg_mean_squared_error', \n",
    "                        cv=5,\n",
    "                        verbose=1, \n",
    "                        n_jobs=8)\n",
    "\n",
    "gs3 = gsearch3.fit(x_train, y_train)"
   ]
  },
  {
   "cell_type": "code",
   "execution_count": 18,
   "metadata": {},
   "outputs": [
    {
     "name": "stdout",
     "output_type": "stream",
     "text": [
      "{'feature_fraction': 0.8, 'max_depth': 8, 'min_data_in_leaf': 241, 'num_leaves': 141} -13.407067247568651\n"
     ]
    }
   ],
   "source": [
    "print(gs3.best_params_, gs3.best_score_)"
   ]
  },
  {
   "cell_type": "code",
   "execution_count": 19,
   "metadata": {},
   "outputs": [
    {
     "name": "stdout",
     "output_type": "stream",
     "text": [
      "Fitting 5 folds for each of 49 candidates, totalling 245 fits\n"
     ]
    },
    {
     "name": "stderr",
     "output_type": "stream",
     "text": [
      "[Parallel(n_jobs=8)]: Using backend LokyBackend with 8 concurrent workers.\n",
      "[Parallel(n_jobs=8)]: Done  34 tasks      | elapsed:  3.2min\n",
      "[Parallel(n_jobs=8)]: Done 184 tasks      | elapsed: 14.6min\n",
      "[Parallel(n_jobs=8)]: Done 245 out of 245 | elapsed: 19.2min finished\n"
     ]
    }
   ],
   "source": [
    "params_test4={\n",
    "    'max_depth': [8],\n",
    "    'num_leaves':[141],\n",
    "    'min_data_in_leaf':[241],   \n",
    "    \"feature_fraction\": [0.8],\n",
    "    'reg_alpha': [0, 0.001, 0.01, 0.03, 0.08, 0.3, 0.5],   \n",
    "    'reg_lambda': [0, 0.001, 0.01, 0.03, 0.08, 0.3, 0.5]\n",
    "}\n",
    "gsearch4 = GridSearchCV(estimator=lgb_model, \n",
    "                        param_grid=params_test4,\n",
    "                        scoring='neg_mean_squared_error', \n",
    "                        cv=5,\n",
    "                        verbose=1, \n",
    "                        n_jobs=8)\n",
    "\n",
    "gs4 = gsearch4.fit(x_train, y_train)"
   ]
  },
  {
   "cell_type": "code",
   "execution_count": 20,
   "metadata": {},
   "outputs": [
    {
     "name": "stdout",
     "output_type": "stream",
     "text": [
      "{'feature_fraction': 0.8, 'max_depth': 8, 'min_data_in_leaf': 241, 'num_leaves': 141, 'reg_alpha': 0.01, 'reg_lambda': 0.01} -13.401134213902568\n"
     ]
    }
   ],
   "source": [
    "print(gs4.best_params_, gs4.best_score_)"
   ]
  },
  {
   "cell_type": "code",
   "execution_count": 22,
   "metadata": {},
   "outputs": [
    {
     "name": "stdout",
     "output_type": "stream",
     "text": [
      "Fitting 5 folds for each of 100 candidates, totalling 500 fits\n"
     ]
    },
    {
     "name": "stderr",
     "output_type": "stream",
     "text": [
      "[Parallel(n_jobs=8)]: Using backend LokyBackend with 8 concurrent workers.\n",
      "[Parallel(n_jobs=8)]: Done  34 tasks      | elapsed:  3.2min\n",
      "[Parallel(n_jobs=8)]: Done 184 tasks      | elapsed: 14.7min\n",
      "[Parallel(n_jobs=8)]: Done 434 tasks      | elapsed: 33.9min\n",
      "[Parallel(n_jobs=8)]: Done 500 out of 500 | elapsed: 38.8min finished\n"
     ]
    }
   ],
   "source": [
    "params_test4={\n",
    "    'max_depth': [8],\n",
    "    'num_leaves':[141],\n",
    "    'min_data_in_leaf':[241],   \n",
    "    \"feature_fraction\": [0.8],\n",
    "    'reg_alpha': [0,0.005, 0.007, 0.008, 0.009, 0.01, 0.011, 0.012, 0.015, 0.2],   \n",
    "    'reg_lambda': [0,0.005, 0.007, 0.008, 0.009, 0.01, 0.011, 0.012, 0.015, 0.2]\n",
    "}\n",
    "gsearch4 = GridSearchCV(estimator=lgb_model, \n",
    "                        param_grid=params_test4,\n",
    "                        scoring='neg_mean_squared_error', \n",
    "                        cv=5,\n",
    "                        verbose=1, \n",
    "                        n_jobs=8)\n",
    "gs4 = gsearch4.fit(x_train, y_train)"
   ]
  },
  {
   "cell_type": "code",
   "execution_count": 23,
   "metadata": {},
   "outputs": [
    {
     "name": "stdout",
     "output_type": "stream",
     "text": [
      "{'feature_fraction': 0.8, 'max_depth': 8, 'min_data_in_leaf': 241, 'num_leaves': 141, 'reg_alpha': 0.009, 'reg_lambda': 0.005} -13.401133894487558\n"
     ]
    }
   ],
   "source": [
    "print(gs4.best_params_, gs4.best_score_)"
   ]
  },
  {
   "cell_type": "code",
   "execution_count": 25,
   "metadata": {
    "scrolled": false
   },
   "outputs": [
    {
     "name": "stdout",
     "output_type": "stream",
     "text": [
      "Training until validation scores don't improve for 500 rounds.\n",
      "[200]\ttraining's l2: 14.3707\tvalid_0's l2: 14.3824\n",
      "[400]\ttraining's l2: 14.0315\tvalid_0's l2: 14.0845\n",
      "[600]\ttraining's l2: 13.7739\tvalid_0's l2: 13.8814\n",
      "[800]\ttraining's l2: 13.5729\tvalid_0's l2: 13.7293\n",
      "[1000]\ttraining's l2: 13.4129\tvalid_0's l2: 13.6221\n",
      "[1200]\ttraining's l2: 13.2825\tvalid_0's l2: 13.5453\n",
      "[1400]\ttraining's l2: 13.1725\tvalid_0's l2: 13.4841\n",
      "[1600]\ttraining's l2: 13.0803\tvalid_0's l2: 13.4322\n",
      "[1800]\ttraining's l2: 13.0002\tvalid_0's l2: 13.3912\n",
      "[2000]\ttraining's l2: 12.9263\tvalid_0's l2: 13.3577\n",
      "[2200]\ttraining's l2: 12.8627\tvalid_0's l2: 13.333\n",
      "[2400]\ttraining's l2: 12.8065\tvalid_0's l2: 13.3148\n",
      "[2600]\ttraining's l2: 12.7533\tvalid_0's l2: 13.2991\n",
      "[2800]\ttraining's l2: 12.7065\tvalid_0's l2: 13.2862\n",
      "[3000]\ttraining's l2: 12.6636\tvalid_0's l2: 13.2755\n",
      "[3200]\ttraining's l2: 12.6233\tvalid_0's l2: 13.2665\n",
      "[3400]\ttraining's l2: 12.5849\tvalid_0's l2: 13.2582\n",
      "[3600]\ttraining's l2: 12.5487\tvalid_0's l2: 13.2501\n",
      "[3800]\ttraining's l2: 12.5137\tvalid_0's l2: 13.2423\n",
      "[4000]\ttraining's l2: 12.4788\tvalid_0's l2: 13.234\n",
      "[4200]\ttraining's l2: 12.4477\tvalid_0's l2: 13.2275\n",
      "[4400]\ttraining's l2: 12.4187\tvalid_0's l2: 13.2225\n",
      "[4600]\ttraining's l2: 12.3913\tvalid_0's l2: 13.2185\n",
      "[4800]\ttraining's l2: 12.3658\tvalid_0's l2: 13.2149\n",
      "[5000]\ttraining's l2: 12.3399\tvalid_0's l2: 13.2116\n",
      "[5200]\ttraining's l2: 12.3147\tvalid_0's l2: 13.2086\n",
      "[5400]\ttraining's l2: 12.2886\tvalid_0's l2: 13.2054\n",
      "[5600]\ttraining's l2: 12.2618\tvalid_0's l2: 13.2022\n",
      "[5800]\ttraining's l2: 12.2367\tvalid_0's l2: 13.2005\n",
      "[6000]\ttraining's l2: 12.2122\tvalid_0's l2: 13.1994\n",
      "[6200]\ttraining's l2: 12.1875\tvalid_0's l2: 13.1982\n",
      "[6400]\ttraining's l2: 12.1628\tvalid_0's l2: 13.1969\n",
      "[6600]\ttraining's l2: 12.1389\tvalid_0's l2: 13.1959\n",
      "[6800]\ttraining's l2: 12.1167\tvalid_0's l2: 13.1948\n",
      "[7000]\ttraining's l2: 12.0955\tvalid_0's l2: 13.1942\n",
      "[7200]\ttraining's l2: 12.0733\tvalid_0's l2: 13.1937\n",
      "[7400]\ttraining's l2: 12.0527\tvalid_0's l2: 13.1933\n",
      "[7600]\ttraining's l2: 12.034\tvalid_0's l2: 13.1927\n",
      "[7800]\ttraining's l2: 12.0141\tvalid_0's l2: 13.1919\n",
      "[8000]\ttraining's l2: 11.9951\tvalid_0's l2: 13.1906\n",
      "[8200]\ttraining's l2: 11.9782\tvalid_0's l2: 13.19\n",
      "[8400]\ttraining's l2: 11.9603\tvalid_0's l2: 13.1894\n",
      "[8600]\ttraining's l2: 11.9425\tvalid_0's l2: 13.1888\n",
      "[8800]\ttraining's l2: 11.9238\tvalid_0's l2: 13.1882\n",
      "[9000]\ttraining's l2: 11.9046\tvalid_0's l2: 13.1877\n",
      "[9200]\ttraining's l2: 11.8852\tvalid_0's l2: 13.1873\n",
      "[9400]\ttraining's l2: 11.8643\tvalid_0's l2: 13.1872\n",
      "[9600]\ttraining's l2: 11.8448\tvalid_0's l2: 13.1872\n",
      "[9800]\ttraining's l2: 11.8241\tvalid_0's l2: 13.1873\n",
      "[10000]\ttraining's l2: 11.8039\tvalid_0's l2: 13.187\n",
      "[10200]\ttraining's l2: 11.7843\tvalid_0's l2: 13.1869\n",
      "[10400]\ttraining's l2: 11.7653\tvalid_0's l2: 13.1862\n",
      "[10600]\ttraining's l2: 11.747\tvalid_0's l2: 13.1852\n",
      "[10800]\ttraining's l2: 11.7281\tvalid_0's l2: 13.1848\n",
      "[11000]\ttraining's l2: 11.7098\tvalid_0's l2: 13.1841\n",
      "[11200]\ttraining's l2: 11.6917\tvalid_0's l2: 13.1833\n",
      "[11400]\ttraining's l2: 11.6729\tvalid_0's l2: 13.1833\n",
      "[11600]\ttraining's l2: 11.6548\tvalid_0's l2: 13.1824\n",
      "[11800]\ttraining's l2: 11.6372\tvalid_0's l2: 13.1817\n",
      "[12000]\ttraining's l2: 11.6205\tvalid_0's l2: 13.1811\n",
      "[12200]\ttraining's l2: 11.6036\tvalid_0's l2: 13.181\n",
      "[12400]\ttraining's l2: 11.5877\tvalid_0's l2: 13.1805\n",
      "[12600]\ttraining's l2: 11.5709\tvalid_0's l2: 13.18\n",
      "[12800]\ttraining's l2: 11.5532\tvalid_0's l2: 13.1798\n",
      "[13000]\ttraining's l2: 11.5361\tvalid_0's l2: 13.1798\n",
      "[13200]\ttraining's l2: 11.5195\tvalid_0's l2: 13.1797\n",
      "[13400]\ttraining's l2: 11.503\tvalid_0's l2: 13.1799\n",
      "[13600]\ttraining's l2: 11.4863\tvalid_0's l2: 13.1797\n",
      "[13800]\ttraining's l2: 11.4697\tvalid_0's l2: 13.1798\n",
      "[14000]\ttraining's l2: 11.4529\tvalid_0's l2: 13.1797\n",
      "Early stopping, best iteration is:\n",
      "[13523]\ttraining's l2: 11.4935\tvalid_0's l2: 13.1796\n",
      "Training until validation scores don't improve for 500 rounds.\n",
      "[200]\ttraining's l2: 14.2773\tvalid_0's l2: 14.7435\n",
      "[400]\ttraining's l2: 13.9219\tvalid_0's l2: 14.4802\n",
      "[600]\ttraining's l2: 13.6524\tvalid_0's l2: 14.2941\n",
      "[800]\ttraining's l2: 13.4444\tvalid_0's l2: 14.1636\n",
      "[1000]\ttraining's l2: 13.2797\tvalid_0's l2: 14.0687\n",
      "[1200]\ttraining's l2: 13.1442\tvalid_0's l2: 13.9975\n",
      "[1400]\ttraining's l2: 13.037\tvalid_0's l2: 13.9425\n",
      "[1600]\ttraining's l2: 12.9432\tvalid_0's l2: 13.9016\n",
      "[1800]\ttraining's l2: 12.8596\tvalid_0's l2: 13.8703\n",
      "[2000]\ttraining's l2: 12.7803\tvalid_0's l2: 13.8403\n",
      "[2200]\ttraining's l2: 12.7117\tvalid_0's l2: 13.816\n",
      "[2400]\ttraining's l2: 12.6526\tvalid_0's l2: 13.7974\n",
      "[2600]\ttraining's l2: 12.5946\tvalid_0's l2: 13.784\n",
      "[2800]\ttraining's l2: 12.5436\tvalid_0's l2: 13.7726\n",
      "[3000]\ttraining's l2: 12.5001\tvalid_0's l2: 13.7625\n",
      "[3200]\ttraining's l2: 12.4597\tvalid_0's l2: 13.7554\n",
      "[3400]\ttraining's l2: 12.4214\tvalid_0's l2: 13.7482\n",
      "[3600]\ttraining's l2: 12.3861\tvalid_0's l2: 13.7416\n",
      "[3800]\ttraining's l2: 12.352\tvalid_0's l2: 13.7351\n",
      "[4000]\ttraining's l2: 12.3192\tvalid_0's l2: 13.7291\n",
      "[4200]\ttraining's l2: 12.2909\tvalid_0's l2: 13.7234\n",
      "[4400]\ttraining's l2: 12.2621\tvalid_0's l2: 13.7184\n",
      "[4600]\ttraining's l2: 12.235\tvalid_0's l2: 13.7137\n",
      "[4800]\ttraining's l2: 12.2104\tvalid_0's l2: 13.7088\n",
      "[5000]\ttraining's l2: 12.1856\tvalid_0's l2: 13.7047\n",
      "[5200]\ttraining's l2: 12.1596\tvalid_0's l2: 13.7008\n",
      "[5400]\ttraining's l2: 12.1352\tvalid_0's l2: 13.6976\n",
      "[5600]\ttraining's l2: 12.1133\tvalid_0's l2: 13.6951\n",
      "[5800]\ttraining's l2: 12.0916\tvalid_0's l2: 13.6929\n",
      "[6000]\ttraining's l2: 12.0689\tvalid_0's l2: 13.6912\n",
      "[6200]\ttraining's l2: 12.0468\tvalid_0's l2: 13.6899\n",
      "[6400]\ttraining's l2: 12.0242\tvalid_0's l2: 13.6881\n",
      "[6600]\ttraining's l2: 12.0021\tvalid_0's l2: 13.6863\n",
      "[6800]\ttraining's l2: 11.9795\tvalid_0's l2: 13.685\n",
      "[7000]\ttraining's l2: 11.9569\tvalid_0's l2: 13.6839\n",
      "[7200]\ttraining's l2: 11.9343\tvalid_0's l2: 13.6824\n",
      "[7400]\ttraining's l2: 11.9129\tvalid_0's l2: 13.6812\n",
      "[7600]\ttraining's l2: 11.8916\tvalid_0's l2: 13.6805\n",
      "[7800]\ttraining's l2: 11.8712\tvalid_0's l2: 13.6795\n",
      "[8000]\ttraining's l2: 11.8518\tvalid_0's l2: 13.6788\n",
      "[8200]\ttraining's l2: 11.8312\tvalid_0's l2: 13.6777\n",
      "[8400]\ttraining's l2: 11.8117\tvalid_0's l2: 13.6771\n",
      "[8600]\ttraining's l2: 11.7937\tvalid_0's l2: 13.6762\n",
      "[8800]\ttraining's l2: 11.7748\tvalid_0's l2: 13.6757\n",
      "[9000]\ttraining's l2: 11.7577\tvalid_0's l2: 13.675\n",
      "[9200]\ttraining's l2: 11.7395\tvalid_0's l2: 13.6742\n",
      "[9400]\ttraining's l2: 11.7219\tvalid_0's l2: 13.6737\n",
      "[9600]\ttraining's l2: 11.7045\tvalid_0's l2: 13.6732\n",
      "[9800]\ttraining's l2: 11.687\tvalid_0's l2: 13.6728\n",
      "[10000]\ttraining's l2: 11.6688\tvalid_0's l2: 13.6726\n",
      "[10200]\ttraining's l2: 11.6499\tvalid_0's l2: 13.6725\n",
      "[10400]\ttraining's l2: 11.632\tvalid_0's l2: 13.6723\n",
      "[10600]\ttraining's l2: 11.614\tvalid_0's l2: 13.6724\n",
      "[10800]\ttraining's l2: 11.5977\tvalid_0's l2: 13.6724\n",
      "[11000]\ttraining's l2: 11.5818\tvalid_0's l2: 13.6721\n",
      "[11200]\ttraining's l2: 11.5654\tvalid_0's l2: 13.6722\n",
      "[11400]\ttraining's l2: 11.5495\tvalid_0's l2: 13.6723\n",
      "[11600]\ttraining's l2: 11.5343\tvalid_0's l2: 13.6724\n",
      "[11800]\ttraining's l2: 11.52\tvalid_0's l2: 13.6726\n",
      "Early stopping, best iteration is:\n",
      "[11309]\ttraining's l2: 11.5567\tvalid_0's l2: 13.672\n",
      "Training until validation scores don't improve for 500 rounds.\n",
      "[200]\ttraining's l2: 14.5763\tvalid_0's l2: 13.5228\n",
      "[400]\ttraining's l2: 14.2269\tvalid_0's l2: 13.2598\n",
      "[600]\ttraining's l2: 13.9632\tvalid_0's l2: 13.0792\n",
      "[800]\ttraining's l2: 13.754\tvalid_0's l2: 12.9483\n",
      "[1000]\ttraining's l2: 13.5891\tvalid_0's l2: 12.8546\n",
      "[1200]\ttraining's l2: 13.4572\tvalid_0's l2: 12.7907\n",
      "[1400]\ttraining's l2: 13.3456\tvalid_0's l2: 12.743\n",
      "[1600]\ttraining's l2: 13.2494\tvalid_0's l2: 12.7069\n",
      "[1800]\ttraining's l2: 13.1686\tvalid_0's l2: 12.6785\n",
      "[2000]\ttraining's l2: 13.0965\tvalid_0's l2: 12.6559\n",
      "[2200]\ttraining's l2: 13.0314\tvalid_0's l2: 12.6379\n",
      "[2400]\ttraining's l2: 12.9734\tvalid_0's l2: 12.6238\n",
      "[2600]\ttraining's l2: 12.9199\tvalid_0's l2: 12.6107\n",
      "[2800]\ttraining's l2: 12.869\tvalid_0's l2: 12.5986\n",
      "[3000]\ttraining's l2: 12.8236\tvalid_0's l2: 12.5894\n",
      "[3200]\ttraining's l2: 12.7839\tvalid_0's l2: 12.5817\n",
      "[3400]\ttraining's l2: 12.7472\tvalid_0's l2: 12.5736\n",
      "[3600]\ttraining's l2: 12.7115\tvalid_0's l2: 12.5655\n",
      "[3800]\ttraining's l2: 12.679\tvalid_0's l2: 12.5596\n",
      "[4000]\ttraining's l2: 12.646\tvalid_0's l2: 12.5555\n",
      "[4200]\ttraining's l2: 12.6117\tvalid_0's l2: 12.5516\n",
      "[4400]\ttraining's l2: 12.5798\tvalid_0's l2: 12.5496\n"
     ]
    },
    {
     "name": "stdout",
     "output_type": "stream",
     "text": [
      "[4600]\ttraining's l2: 12.5513\tvalid_0's l2: 12.548\n",
      "[4800]\ttraining's l2: 12.5247\tvalid_0's l2: 12.5465\n",
      "[5000]\ttraining's l2: 12.4977\tvalid_0's l2: 12.5452\n",
      "[5200]\ttraining's l2: 12.4715\tvalid_0's l2: 12.5439\n",
      "[5400]\ttraining's l2: 12.4443\tvalid_0's l2: 12.543\n",
      "[5600]\ttraining's l2: 12.4195\tvalid_0's l2: 12.5429\n",
      "[5800]\ttraining's l2: 12.3944\tvalid_0's l2: 12.5426\n",
      "[6000]\ttraining's l2: 12.37\tvalid_0's l2: 12.5425\n",
      "[6200]\ttraining's l2: 12.3478\tvalid_0's l2: 12.5422\n",
      "[6400]\ttraining's l2: 12.3264\tvalid_0's l2: 12.5418\n",
      "[6600]\ttraining's l2: 12.3046\tvalid_0's l2: 12.5417\n",
      "[6800]\ttraining's l2: 12.2823\tvalid_0's l2: 12.5418\n",
      "[7000]\ttraining's l2: 12.2613\tvalid_0's l2: 12.542\n",
      "Early stopping, best iteration is:\n",
      "[6589]\ttraining's l2: 12.3058\tvalid_0's l2: 12.5416\n",
      "Training until validation scores don't improve for 500 rounds.\n",
      "[200]\ttraining's l2: 14.3225\tvalid_0's l2: 14.5648\n",
      "[400]\ttraining's l2: 13.9784\tvalid_0's l2: 14.2973\n",
      "[600]\ttraining's l2: 13.7206\tvalid_0's l2: 14.1114\n",
      "[800]\ttraining's l2: 13.5189\tvalid_0's l2: 13.9794\n",
      "[1000]\ttraining's l2: 13.353\tvalid_0's l2: 13.8821\n",
      "[1200]\ttraining's l2: 13.2112\tvalid_0's l2: 13.8096\n",
      "[1400]\ttraining's l2: 13.0927\tvalid_0's l2: 13.7523\n",
      "[1600]\ttraining's l2: 12.9986\tvalid_0's l2: 13.7098\n",
      "[1800]\ttraining's l2: 12.9141\tvalid_0's l2: 13.6762\n",
      "[2000]\ttraining's l2: 12.8366\tvalid_0's l2: 13.6507\n",
      "[2200]\ttraining's l2: 12.7663\tvalid_0's l2: 13.6302\n",
      "[2400]\ttraining's l2: 12.7026\tvalid_0's l2: 13.6153\n",
      "[2600]\ttraining's l2: 12.65\tvalid_0's l2: 13.6029\n",
      "[2800]\ttraining's l2: 12.6008\tvalid_0's l2: 13.5925\n",
      "[3000]\ttraining's l2: 12.5565\tvalid_0's l2: 13.5839\n",
      "[3200]\ttraining's l2: 12.5132\tvalid_0's l2: 13.5769\n",
      "[3400]\ttraining's l2: 12.4718\tvalid_0's l2: 13.5709\n",
      "[3600]\ttraining's l2: 12.4321\tvalid_0's l2: 13.5669\n",
      "[3800]\ttraining's l2: 12.395\tvalid_0's l2: 13.5628\n",
      "[4000]\ttraining's l2: 12.3596\tvalid_0's l2: 13.5591\n",
      "[4200]\ttraining's l2: 12.3261\tvalid_0's l2: 13.5567\n",
      "[4400]\ttraining's l2: 12.2942\tvalid_0's l2: 13.5553\n",
      "[4600]\ttraining's l2: 12.2672\tvalid_0's l2: 13.554\n",
      "[4800]\ttraining's l2: 12.2406\tvalid_0's l2: 13.5532\n",
      "[5000]\ttraining's l2: 12.214\tvalid_0's l2: 13.5527\n",
      "[5200]\ttraining's l2: 12.1884\tvalid_0's l2: 13.552\n",
      "[5400]\ttraining's l2: 12.1646\tvalid_0's l2: 13.5518\n",
      "[5600]\ttraining's l2: 12.1417\tvalid_0's l2: 13.5515\n",
      "[5800]\ttraining's l2: 12.1204\tvalid_0's l2: 13.5513\n",
      "[6000]\ttraining's l2: 12.0989\tvalid_0's l2: 13.5516\n",
      "[6200]\ttraining's l2: 12.0772\tvalid_0's l2: 13.5518\n",
      "Early stopping, best iteration is:\n",
      "[5728]\ttraining's l2: 12.128\tvalid_0's l2: 13.5512\n",
      "Training until validation scores don't improve for 500 rounds.\n",
      "[200]\ttraining's l2: 14.2314\tvalid_0's l2: 14.9394\n",
      "[400]\ttraining's l2: 13.8906\tvalid_0's l2: 14.6653\n",
      "[600]\ttraining's l2: 13.6346\tvalid_0's l2: 14.4759\n",
      "[800]\ttraining's l2: 13.431\tvalid_0's l2: 14.3366\n",
      "[1000]\ttraining's l2: 13.265\tvalid_0's l2: 14.2334\n",
      "[1200]\ttraining's l2: 13.1321\tvalid_0's l2: 14.16\n",
      "[1400]\ttraining's l2: 13.0217\tvalid_0's l2: 14.1054\n",
      "[1600]\ttraining's l2: 12.9238\tvalid_0's l2: 14.0653\n",
      "[1800]\ttraining's l2: 12.8407\tvalid_0's l2: 14.0357\n",
      "[2000]\ttraining's l2: 12.7692\tvalid_0's l2: 14.0099\n",
      "[2200]\ttraining's l2: 12.6968\tvalid_0's l2: 13.9857\n",
      "[2400]\ttraining's l2: 12.6348\tvalid_0's l2: 13.9713\n",
      "[2600]\ttraining's l2: 12.5814\tvalid_0's l2: 13.9567\n",
      "[2800]\ttraining's l2: 12.5313\tvalid_0's l2: 13.9425\n",
      "[3000]\ttraining's l2: 12.4859\tvalid_0's l2: 13.9305\n",
      "[3200]\ttraining's l2: 12.442\tvalid_0's l2: 13.9218\n",
      "[3400]\ttraining's l2: 12.4034\tvalid_0's l2: 13.914\n",
      "[3600]\ttraining's l2: 12.3693\tvalid_0's l2: 13.9064\n",
      "[3800]\ttraining's l2: 12.337\tvalid_0's l2: 13.9007\n",
      "[4000]\ttraining's l2: 12.3064\tvalid_0's l2: 13.8958\n",
      "[4200]\ttraining's l2: 12.2766\tvalid_0's l2: 13.8921\n",
      "[4400]\ttraining's l2: 12.2472\tvalid_0's l2: 13.8896\n",
      "[4600]\ttraining's l2: 12.2184\tvalid_0's l2: 13.888\n",
      "[4800]\ttraining's l2: 12.1891\tvalid_0's l2: 13.886\n",
      "[5000]\ttraining's l2: 12.1595\tvalid_0's l2: 13.884\n",
      "[5200]\ttraining's l2: 12.1312\tvalid_0's l2: 13.8828\n",
      "[5400]\ttraining's l2: 12.1043\tvalid_0's l2: 13.8811\n",
      "[5600]\ttraining's l2: 12.0784\tvalid_0's l2: 13.8798\n",
      "[5800]\ttraining's l2: 12.0525\tvalid_0's l2: 13.8782\n",
      "[6000]\ttraining's l2: 12.0289\tvalid_0's l2: 13.8771\n",
      "[6200]\ttraining's l2: 12.0063\tvalid_0's l2: 13.8767\n",
      "[6400]\ttraining's l2: 11.9842\tvalid_0's l2: 13.876\n",
      "[6600]\ttraining's l2: 11.9625\tvalid_0's l2: 13.876\n",
      "[6800]\ttraining's l2: 11.9418\tvalid_0's l2: 13.8762\n",
      "Early stopping, best iteration is:\n",
      "[6364]\ttraining's l2: 11.9883\tvalid_0's l2: 13.8759\n"
     ]
    }
   ],
   "source": [
    "param={\n",
    "    'max_depth': 8,\n",
    "    'num_leaves': 141,\n",
    "    'min_data_in_leaf':241,\n",
    "    'reg_alpha': 0.009,   \n",
    "    'reg_lambda': 0.005,\n",
    "    'learning_rate':0.001,\n",
    "    'bagging_fraction' : 0.8,\n",
    "    'feature_fraction' : 0.8,\n",
    "    'objective':'regression',\n",
    "    'metric':'mse'\n",
    "}\n",
    "\n",
    "y_predict = np.zeros(x_test.shape[0])\n",
    "Kfold = KFold(n_splits=5, shuffle=True, random_state=233)\n",
    "\n",
    "for trainidx, testidx in Kfold.split(x_train, y_train):\n",
    "    data_train = lgb.Dataset(x_train[trainidx], y_train[trainidx], silent=True)\n",
    "    data_test = lgb.Dataset(x_train[testidx], y_train[testidx], silent=True)\n",
    "    \n",
    "    lgb_model = lgb.train(\n",
    "        param,\n",
    "        data_train,\n",
    "        valid_sets=[data_test, data_train],\n",
    "        num_boost_round=20000, \n",
    "        early_stopping_rounds=500,\n",
    "        verbose_eval=200\n",
    "    )\n",
    "    y_predict = np.array(lgb_model.predict(x_test)) + y_predict\n",
    "    \n",
    "y_predict = y_predict / 5"
   ]
  },
  {
   "cell_type": "code",
   "execution_count": 27,
   "metadata": {},
   "outputs": [
    {
     "data": {
      "text/plain": [
       "(array([1.0000e+00, 4.0000e+01, 1.2500e+02, 1.9200e+02, 3.6900e+02,\n",
       "        8.2300e+02, 3.1900e+03, 3.0515e+04, 8.7420e+04, 9.4800e+02]),\n",
       " array([-16.19541832, -14.24196914, -12.28851995, -10.33507077,\n",
       "         -8.38162158,  -6.4281724 ,  -4.47472322,  -2.52127403,\n",
       "         -0.56782485,   1.38562434,   3.33907352]),\n",
       " <a list of 10 Patch objects>)"
      ]
     },
     "execution_count": 27,
     "metadata": {},
     "output_type": "execute_result"
    },
    {
     "data": {
      "image/png": "[encoded data removed]",
      "text/plain": [
       "<Figure size 432x288 with 1 Axes>"
      ]
     },
     "metadata": {
      "needs_background": "light"
     },
     "output_type": "display_data"
    }
   ],
   "source": [
    "plt.hist(y_predict)"
   ]
  },
  {
   "cell_type": "code",
   "execution_count": 28,
   "metadata": {},
   "outputs": [],
   "source": [
    "submission = pd.DataFrame({'card_id':testindex, 'target':y_predict})\n",
    "submission.to_csv('/root/tempfile/submission12231201.csv',index=False)"
   ]
  }
 ],
 "metadata": {
  "kernelspec": {
   "display_name": "Python 3",
   "language": "python",
   "name": "python3"
  },
  "language_info": {
   "codemirror_mode": {
    "name": "ipython",
    "version": 3
   },
   "file_extension": ".py",
   "mimetype": "text/x-python",
   "name": "python",
   "nbconvert_exporter": "python",
   "pygments_lexer": "ipython3",
   "version": "3.7.1"
  }
 },
 "nbformat": 4,
 "nbformat_minor": 2
}
