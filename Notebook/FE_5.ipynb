{
 "cells": [
  {
   "cell_type": "markdown",
   "metadata": {},
   "source": [
    "# Feature Engineering 5\n",
    "* * *\n",
    "之前的那个就是shit！"
   ]
  },
  {
   "cell_type": "code",
   "execution_count": 1,
   "metadata": {},
   "outputs": [],
   "source": [
    "%load_ext autoreload\n",
    "%autoreload 2\n",
    "\n",
    "import sys\n",
    "import time\n",
    "import pandas as pd\n",
    "import numpy as np\n",
    "from datetime import datetime\n",
    "from scipy.stats import mode\n",
    "from sklearn.preprocessing import LabelEncoder\n",
    "import matplotlib.pyplot as plt\n",
    "%matplotlib inline\n",
    "\n",
    "import warnings\n",
    "warnings.filterwarnings('ignore')\n",
    "\n",
    "sys.path.append('/root/code/elo/Tools/')\n",
    "from tools import *"
   ]
  },
  {
   "cell_type": "code",
   "execution_count": 2,
   "metadata": {},
   "outputs": [],
   "source": [
    "new = pd.read_csv('/root/data/new_merchant_transactions.csv')\n",
    "his = pd.read_csv('/root/data/historical_transactions.csv')\n",
    "train = pd.read_csv('/root/data/train.csv')\n",
    "test = pd.read_csv('/root/data/test.csv')"
   ]
  },
  {
   "cell_type": "code",
   "execution_count": 3,
   "metadata": {},
   "outputs": [],
   "source": [
    "def cal_mode(serise):\n",
    "    return serise.mode()[0]"
   ]
  },
  {
   "cell_type": "code",
   "execution_count": 4,
   "metadata": {},
   "outputs": [],
   "source": [
    "#对 his 与 new 的时间数据进行处理，创建特征该次交易距离起始时间的days\n",
    "his['purchase_date'] = pd.to_datetime(his.purchase_date)\n",
    "new['purchase_date'] = pd.to_datetime(new.purchase_date)\n",
    "\n",
    "startime = his.purchase_date.min()\n",
    "\n",
    "his['days_to_start'] = (his.purchase_date - startime).dt.days\n",
    "new['days_to_start'] = (new.purchase_date - startime).dt.days"
   ]
  },
  {
   "cell_type": "code",
   "execution_count": 5,
   "metadata": {},
   "outputs": [],
   "source": [
    "# authorized_flag\n",
    "\n",
    "his.category_2.fillna(0, inplace=True)\n",
    "his.category_3.fillna('D', inplace=True)\n",
    "his.merchant_id.fillna('NaN', inplace=True)\n",
    "\n",
    "\n",
    "new.category_2.fillna(0, inplace=True)\n",
    "new.category_3.fillna('D', inplace=True)\n",
    "new.merchant_id.fillna('NaN', inplace=True)\n",
    "\n",
    "\n",
    "new['authorized_flag'] = new.authorized_flag.map({'N':0,'Y':1})\n",
    "his['authorized_flag'] = his.authorized_flag.map({'N':0,'Y':1})\n",
    "\n",
    "auth = his[his['authorized_flag'] == 1]\n",
    "unauth = his[his['authorized_flag'] == 0]\n",
    "\n",
    "\n",
    "agg = {\n",
    "    'authorized_flag':['count', 'mean', 'sum']\n",
    "}\n",
    "auth_flag = his.groupby('card_id').agg(agg)\n",
    "auth_flag.columns = ['_'.join(col).strip() for col in auth_flag.columns.values]\n",
    "auth_flag.reset_index(inplace=True)\n"
   ]
  },
  {
   "cell_type": "code",
   "execution_count": 6,
   "metadata": {},
   "outputs": [],
   "source": [
    "agg = {'authorized_flag': ['mean', 'count']}\n",
    "flag_month = his.groupby(['card_id', 'month_lag']).agg(agg)\n",
    "flag_month.columns = ['_'.join(col).strip() for col in flag_month.columns.values]\n",
    "flag_month.reset_index(inplace=True)\n",
    "\n",
    "# 找到对于每id来说，距离评估日最后的月成交数量与成交率\n",
    "col_idx = ['authorized_flag_mean', 'authorized_flag_count']\n",
    "row_idx = flag_month.groupby('card_id').month_lag.apply(lambda x: x.idxmax()).values\n",
    "final = flag_month.loc[row_idx,col_idx].reset_index(drop=True)\n",
    "final.columns = ['final_authorized_flag_mean', 'final_authorized_flag_count']\n",
    "pd.merge(auth_flag, final, left_index=True, right_index=True)\n",
    "\n",
    "# 找到对于每id来说，最开始的月成交数量与成交率\n",
    "col_idx = ['authorized_flag_mean', 'authorized_flag_count']\n",
    "row_idx = flag_month.groupby('card_id').month_lag.apply(lambda x: x.idxmin()).values\n",
    "start = flag_month.loc[row_idx,col_idx].reset_index(drop=True)\n",
    "start.columns = ['start_authorized_flag_mean', 'start_authorized_flag_count']\n",
    "pd.merge(auth_flag, final, left_index=True, right_index=True)\n",
    "\n",
    "# 找到对于每id来说，成交数量最高的月成交数量与成交率\n",
    "auth_flag['max_authorized_flag_per_month'] = flag_month.groupby('card_id').authorized_flag_count.max().values\n",
    "\n",
    "# 找到对于每id来说，成交数量最少的月成交数量与成交率\n",
    "auth_flag['min_authorized_flag_per_month'] = flag_month.groupby('card_id').authorized_flag_count.min().values\n",
    "\n",
    "del flag_month, his"
   ]
  },
  {
   "cell_type": "code",
   "execution_count": 7,
   "metadata": {},
   "outputs": [],
   "source": [
    "def agg_dataframe(df):\n",
    "    \n",
    "    df['category_1'] = df.category_1.map({'N':0, 'Y':1})\n",
    "    df = pd.get_dummies(df, columns=['category_2', 'category_3'])\n",
    "    df['log_amount'] = np.log(df.purchase_amount+0.75)\n",
    "\n",
    "    df['month_diff'] = ((datetime.today() - df['purchase_date']).dt.days)//30\n",
    "    df['month_diff'] += df['month_lag']\n",
    "    df['dayofweek'] = df.purchase_date.apply(lambda t: t.dayofweek)\n",
    "    df['month'] = df.purchase_date.apply(lambda t: t.month)\n",
    "    \n",
    "    agg = {\n",
    "        'city_id': ['nunique', cal_mode],\n",
    "        'category_1': ['mean', 'count'],\n",
    "        'merchant_category_id': ['nunique', cal_mode],\n",
    "        'merchant_id': ['nunique', cal_mode],\n",
    "        'state_id': ['nunique', cal_mode],\n",
    "        'subsector_id': ['nunique', cal_mode],\n",
    "        'installments': ['sum', 'mean', 'max', 'min', 'std', np.median],\n",
    "        'category_2_0.0': ['mean'],\n",
    "        'category_2_1.0': ['mean'],\n",
    "        'category_2_2.0': ['mean'],\n",
    "        'category_2_3.0': ['mean'],\n",
    "        'category_2_4.0': ['mean'],\n",
    "        'category_2_5.0': ['mean'],\n",
    "        'category_3_A': ['mean'],\n",
    "        'category_3_B': ['mean'],\n",
    "        'category_3_C': ['mean'],\n",
    "        'category_3_D': ['mean'],\n",
    "        'month_lag': ['min', 'max', np.ptp, 'std', np.median],\n",
    "        'days_to_start': [np.ptp, 'min', 'max'],\n",
    "        'purchase_amount': ['sum', 'mean', 'max', 'min', 'std', np.median],\n",
    "        'log_amount': ['sum', 'mean', 'max', 'min', 'std', np.median],\n",
    "        'month_diff': ['sum', 'mean', 'max', 'min', 'std', np.median],\n",
    "        'dayofweek': [cal_mode, 'std'],\n",
    "        'month': ['std']\n",
    "    }\n",
    "    agg_df = df.groupby(['card_id']).agg(agg)\n",
    "    agg_df.columns = ['_'.join(col).strip() for col in agg_df.columns.values]\n",
    "    agg_df.reset_index(inplace=True)\n",
    "    \n",
    "    return agg_df"
   ]
  },
  {
   "cell_type": "code",
   "execution_count": 8,
   "metadata": {},
   "outputs": [],
   "source": [
    "agg_auth = agg_dataframe(auth)\n",
    "agg_auth.columns = ['auth_' + c if c != 'card_id' else c for c in agg_auth.columns]\n",
    "agg_unauth = agg_dataframe(unauth)\n",
    "agg_unauth.columns = ['unauth_' + c if c != 'card_id' else c for c in agg_unauth.columns]\n",
    "agg_new = agg_dataframe(new)\n",
    "agg_new.columns = ['new_' + c if c != 'card_id' else c for c in agg_new.columns]"
   ]
  },
  {
   "cell_type": "code",
   "execution_count": 9,
   "metadata": {},
   "outputs": [],
   "source": [
    "def per_month(df):\n",
    "    df['log_amount'] = np.log(df.purchase_amount+0.75)\n",
    "    agg = {\n",
    "        'purchase_amount': ['count', 'sum', 'mean', 'max', 'min', 'std', np.median],\n",
    "        'installments': ['count', 'sum', 'mean', 'max', 'min', 'std', np.median],\n",
    "        'log_amount': ['sum', 'mean', 'max', 'min', 'std', np.median]\n",
    "    }\n",
    "    df_month = df.groupby(['card_id', 'month_lag']).agg(agg)\n",
    "    df_month.columns = ['._'.join(col).strip() for col in df_month.columns.values]\n",
    "    df_month.reset_index(inplace=True)\n",
    "    \n",
    "    df_final = df_month.groupby('card_id').agg(['mean', 'std', np.median])\n",
    "    df_final.columns = ['._'.join(col).strip() for col in df_final.columns.values]\n",
    "    df_final.reset_index(inplace=True)\n",
    "    \n",
    "    return df_final"
   ]
  },
  {
   "cell_type": "code",
   "execution_count": 10,
   "metadata": {},
   "outputs": [],
   "source": [
    "auth_final = per_month(auth)\n",
    "auth_final.columns = ['final_auth_' + c if c != 'card_id' else c for c in auth_final.columns]"
   ]
  },
  {
   "cell_type": "code",
   "execution_count": 11,
   "metadata": {},
   "outputs": [],
   "source": [
    "def successive_aggregates(df, field1, field2):\n",
    "    t = df.groupby(['card_id', field1])[field2].mean()\n",
    "    u = pd.DataFrame(t).reset_index().groupby('card_id')[field2].agg(['mean', 'min', 'max', 'std', np.median])\n",
    "    u.columns = [field1 + '_' + field2 + '_' + col for col in u.columns.values]\n",
    "    u.reset_index(inplace=True)\n",
    "    return u"
   ]
  },
  {
   "cell_type": "code",
   "execution_count": 12,
   "metadata": {},
   "outputs": [],
   "source": [
    "additional_fields = successive_aggregates(new, 'category_1', 'purchase_amount')\n",
    "additional_fields = additional_fields.merge(successive_aggregates(new, 'installments', 'purchase_amount'),\n",
    "                                            on = 'card_id', how='left')\n",
    "additional_fields = additional_fields.merge(successive_aggregates(new, 'city_id', 'purchase_amount'),\n",
    "                                            on = 'card_id', how='left')\n",
    "additional_fields = additional_fields.merge(successive_aggregates(new, 'category_1', 'installments'),\n",
    "                                            on = 'card_id', how='left')"
   ]
  },
  {
   "cell_type": "code",
   "execution_count": 13,
   "metadata": {},
   "outputs": [],
   "source": [
    "train = pd.merge(train, auth_flag, on='card_id', how='left')\n",
    "train = pd.merge(train, agg_auth, on='card_id', how='left')\n",
    "train = pd.merge(train, agg_unauth, on='card_id', how='left')\n",
    "train = pd.merge(train, agg_new, on='card_id', how='left')\n",
    "train = pd.merge(train, auth_final, on='card_id', how='left')\n",
    "train = pd.merge(train, additional_fields, on='card_id', how='left')"
   ]
  },
  {
   "cell_type": "code",
   "execution_count": 14,
   "metadata": {},
   "outputs": [],
   "source": [
    "test = pd.merge(test, auth_flag, on='card_id', how='left')\n",
    "test = pd.merge(test, agg_auth, on='card_id', how='left')\n",
    "test = pd.merge(test, agg_unauth, on='card_id', how='left')\n",
    "test = pd.merge(test, agg_new, on='card_id', how='left')\n",
    "test = pd.merge(test, auth_final, on='card_id', how='left')\n",
    "test = pd.merge(test, additional_fields, on='card_id', how='left')"
   ]
  },
  {
   "cell_type": "code",
   "execution_count": 15,
   "metadata": {},
   "outputs": [],
   "source": [
    "train['first_active_month'] = (pd.to_datetime(train['first_active_month']) - startime).dt.days\n",
    "test['first_active_month'] = (pd.to_datetime(test['first_active_month']) - startime).dt.days"
   ]
  },
  {
   "cell_type": "code",
   "execution_count": 16,
   "metadata": {},
   "outputs": [],
   "source": [
    "train.fillna(0, inplace=True)\n",
    "test.fillna(0, inplace=True)"
   ]
  },
  {
   "cell_type": "code",
   "execution_count": 17,
   "metadata": {},
   "outputs": [],
   "source": [
    "str_label = [\n",
    "    'auth_merchant_id_cal_mode',\n",
    "    'unauth_merchant_id_cal_mode', \n",
    "    'new_merchant_id_cal_mode'\n",
    "]\n",
    "for i in str_label:\n",
    "    le = LabelEncoder()\n",
    "    unique = train[i].append(test[i]).unique().tolist()\n",
    "    le.fit(unique)\n",
    "    train[i] = le.transform(train[i].tolist())\n",
    "    test[i] = le.transform(test[i].tolist())"
   ]
  },
  {
   "cell_type": "code",
   "execution_count": 18,
   "metadata": {},
   "outputs": [
    {
     "data": {
      "text/plain": [
       "(201917, 265)"
      ]
     },
     "execution_count": 18,
     "metadata": {},
     "output_type": "execute_result"
    }
   ],
   "source": [
    "train.shape"
   ]
  },
  {
   "cell_type": "code",
   "execution_count": 19,
   "metadata": {},
   "outputs": [],
   "source": [
    "train.to_csv('/root/tempfile/train_final122002.csv',index=False)\n",
    "test.to_csv('/root/tempfile/test_final122002.csv',index=False)"
   ]
  }
 ],
 "metadata": {
  "kernelspec": {
   "display_name": "Python 3",
   "language": "python",
   "name": "python3"
  },
  "language_info": {
   "codemirror_mode": {
    "name": "ipython",
    "version": 3
   },
   "file_extension": ".py",
   "mimetype": "text/x-python",
   "name": "python",
   "nbconvert_exporter": "python",
   "pygments_lexer": "ipython3",
   "version": "3.7.1"
  }
 },
 "nbformat": 4,
 "nbformat_minor": 2
}
