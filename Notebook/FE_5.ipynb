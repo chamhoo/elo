{
 "cells": [
  {
   "cell_type": "markdown",
   "metadata": {},
   "source": [
    "# Feature Engineer 5\n",
    "***\n",
    "在这个 FE 中，我们将添加一些新的特征，也将去掉一些旧的特征。去掉的特征将作出标记。"
   ]
  },
  {
   "cell_type": "code",
   "execution_count": 1,
   "metadata": {},
   "outputs": [],
   "source": [
    "%load_ext autoreload\n",
    "%autoreload 2\n",
    "\n",
    "import gc\n",
    "import sys\n",
    "import time\n",
    "import pandas as pd\n",
    "import numpy as np\n",
    "from datetime import date\n",
    "from datetime import datetime\n",
    "from datetime import timedelta\n",
    "from scipy.stats import mode\n",
    "from sklearn.preprocessing import LabelEncoder\n",
    "import matplotlib.pyplot as plt\n",
    "%matplotlib inline\n",
    "\n",
    "import workalendar\n",
    "from workalendar.america import Brazil\n",
    "\n",
    "import warnings\n",
    "warnings.filterwarnings('ignore')\n",
    "\n",
    "sys.path.append('/root/code/elo/Tools/')\n",
    "from tools import *"
   ]
  },
  {
   "cell_type": "code",
   "execution_count": 2,
   "metadata": {},
   "outputs": [],
   "source": [
    "new = pd.read_csv('/root/data/new_merchant_transactions.csv')\n",
    "his = pd.read_csv('/root/data/historical_transactions.csv')\n",
    "train = pd.read_csv('/root/data/train.csv')\n",
    "test = pd.read_csv('/root/data/test.csv')"
   ]
  },
  {
   "cell_type": "code",
   "execution_count": 3,
   "metadata": {},
   "outputs": [
    {
     "data": {
      "text/html": [
       "<div>\n",
       "<style scoped>\n",
       "    .dataframe tbody tr th:only-of-type {\n",
       "        vertical-align: middle;\n",
       "    }\n",
       "\n",
       "    .dataframe tbody tr th {\n",
       "        vertical-align: top;\n",
       "    }\n",
       "\n",
       "    .dataframe thead th {\n",
       "        text-align: right;\n",
       "    }\n",
       "</style>\n",
       "<table border=\"1\" class=\"dataframe\">\n",
       "  <thead>\n",
       "    <tr style=\"text-align: right;\">\n",
       "      <th></th>\n",
       "      <th>authorized_flag</th>\n",
       "      <th>card_id</th>\n",
       "      <th>city_id</th>\n",
       "      <th>category_1</th>\n",
       "      <th>installments</th>\n",
       "      <th>category_3</th>\n",
       "      <th>merchant_category_id</th>\n",
       "      <th>merchant_id</th>\n",
       "      <th>month_lag</th>\n",
       "      <th>purchase_amount</th>\n",
       "      <th>purchase_date</th>\n",
       "      <th>category_2</th>\n",
       "      <th>state_id</th>\n",
       "      <th>subsector_id</th>\n",
       "    </tr>\n",
       "  </thead>\n",
       "  <tbody>\n",
       "    <tr>\n",
       "      <th>0</th>\n",
       "      <td>Y</td>\n",
       "      <td>C_ID_4e6213e9bc</td>\n",
       "      <td>88</td>\n",
       "      <td>N</td>\n",
       "      <td>0</td>\n",
       "      <td>A</td>\n",
       "      <td>80</td>\n",
       "      <td>M_ID_e020e9b302</td>\n",
       "      <td>-8</td>\n",
       "      <td>-0.703331</td>\n",
       "      <td>2017-06-25 15:33:07</td>\n",
       "      <td>1.0</td>\n",
       "      <td>16</td>\n",
       "      <td>37</td>\n",
       "    </tr>\n",
       "    <tr>\n",
       "      <th>1</th>\n",
       "      <td>Y</td>\n",
       "      <td>C_ID_4e6213e9bc</td>\n",
       "      <td>88</td>\n",
       "      <td>N</td>\n",
       "      <td>0</td>\n",
       "      <td>A</td>\n",
       "      <td>367</td>\n",
       "      <td>M_ID_86ec983688</td>\n",
       "      <td>-7</td>\n",
       "      <td>-0.733128</td>\n",
       "      <td>2017-07-15 12:10:45</td>\n",
       "      <td>1.0</td>\n",
       "      <td>16</td>\n",
       "      <td>16</td>\n",
       "    </tr>\n",
       "    <tr>\n",
       "      <th>2</th>\n",
       "      <td>Y</td>\n",
       "      <td>C_ID_4e6213e9bc</td>\n",
       "      <td>88</td>\n",
       "      <td>N</td>\n",
       "      <td>0</td>\n",
       "      <td>A</td>\n",
       "      <td>80</td>\n",
       "      <td>M_ID_979ed661fc</td>\n",
       "      <td>-6</td>\n",
       "      <td>-0.720386</td>\n",
       "      <td>2017-08-09 22:04:29</td>\n",
       "      <td>1.0</td>\n",
       "      <td>16</td>\n",
       "      <td>37</td>\n",
       "    </tr>\n",
       "    <tr>\n",
       "      <th>3</th>\n",
       "      <td>Y</td>\n",
       "      <td>C_ID_4e6213e9bc</td>\n",
       "      <td>88</td>\n",
       "      <td>N</td>\n",
       "      <td>0</td>\n",
       "      <td>A</td>\n",
       "      <td>560</td>\n",
       "      <td>M_ID_e6d5ae8ea6</td>\n",
       "      <td>-5</td>\n",
       "      <td>-0.735352</td>\n",
       "      <td>2017-09-02 10:06:26</td>\n",
       "      <td>1.0</td>\n",
       "      <td>16</td>\n",
       "      <td>34</td>\n",
       "    </tr>\n",
       "    <tr>\n",
       "      <th>4</th>\n",
       "      <td>Y</td>\n",
       "      <td>C_ID_4e6213e9bc</td>\n",
       "      <td>88</td>\n",
       "      <td>N</td>\n",
       "      <td>0</td>\n",
       "      <td>A</td>\n",
       "      <td>80</td>\n",
       "      <td>M_ID_e020e9b302</td>\n",
       "      <td>-11</td>\n",
       "      <td>-0.722865</td>\n",
       "      <td>2017-03-10 01:14:19</td>\n",
       "      <td>1.0</td>\n",
       "      <td>16</td>\n",
       "      <td>37</td>\n",
       "    </tr>\n",
       "  </tbody>\n",
       "</table>\n",
       "</div>"
      ],
      "text/plain": [
       "  authorized_flag          card_id  city_id category_1  installments  \\\n",
       "0               Y  C_ID_4e6213e9bc       88          N             0   \n",
       "1               Y  C_ID_4e6213e9bc       88          N             0   \n",
       "2               Y  C_ID_4e6213e9bc       88          N             0   \n",
       "3               Y  C_ID_4e6213e9bc       88          N             0   \n",
       "4               Y  C_ID_4e6213e9bc       88          N             0   \n",
       "\n",
       "  category_3  merchant_category_id      merchant_id  month_lag  \\\n",
       "0          A                    80  M_ID_e020e9b302         -8   \n",
       "1          A                   367  M_ID_86ec983688         -7   \n",
       "2          A                    80  M_ID_979ed661fc         -6   \n",
       "3          A                   560  M_ID_e6d5ae8ea6         -5   \n",
       "4          A                    80  M_ID_e020e9b302        -11   \n",
       "\n",
       "   purchase_amount        purchase_date  category_2  state_id  subsector_id  \n",
       "0        -0.703331  2017-06-25 15:33:07         1.0        16            37  \n",
       "1        -0.733128  2017-07-15 12:10:45         1.0        16            16  \n",
       "2        -0.720386  2017-08-09 22:04:29         1.0        16            37  \n",
       "3        -0.735352  2017-09-02 10:06:26         1.0        16            34  \n",
       "4        -0.722865  2017-03-10 01:14:19         1.0        16            37  "
      ]
     },
     "execution_count": 3,
     "metadata": {},
     "output_type": "execute_result"
    }
   ],
   "source": [
    "his.head()"
   ]
  },
  {
   "cell_type": "code",
   "execution_count": 4,
   "metadata": {},
   "outputs": [],
   "source": [
    "cal = Brazil()                                           # FE_5\n",
    "holiday_list = []                                        # FE_5\n",
    "for year in range(2011,2019):                            # FE_5\n",
    "    holiday_list += [i[0] for i in cal.holidays(year)]   # FE_5"
   ]
  },
  {
   "cell_type": "code",
   "execution_count": 5,
   "metadata": {},
   "outputs": [],
   "source": [
    "#对 his 与 new 的时间数据进行处理，创建特征该次交易距离起始时间的days\n",
    "his['purchase_date'] = pd.to_datetime(his.purchase_date)\n",
    "new['purchase_date'] = pd.to_datetime(new.purchase_date)\n",
    "startime = his.purchase_date.min()\n",
    "\n",
    "for df in [his, new]:\n",
    "    df['days_to_start'] = (df.purchase_date - startime).dt.days\n",
    "    df['month_diff'] = ((datetime.today() - df['purchase_date']).dt.days)//30\n",
    "    df['month_diff'] += df['month_lag']\n",
    "    df['weekofyear'] = df['purchase_date'].dt.weekofyear\n",
    "    df['year'] = df['purchase_date'].dt.year                                  # FE_5\n",
    "    df['dayofweek'] = df.purchase_date.apply(lambda t: t.dayofweek)\n",
    "    df['month'] = df.purchase_date.apply(lambda t: t.month)\n",
    "    df['weekend'] = (df.purchase_date.dt.weekday >=5).astype(int)\n",
    "    df['hour'] = df['purchase_date'].dt.hour\n",
    "    df['isholiday'] = df.purchase_date.apply(lambda t: date(year=t.year, month=t.month, day=t.day) in holiday_list)     # FE_5\n",
    "    "
   ]
  },
  {
   "cell_type": "code",
   "execution_count": 6,
   "metadata": {},
   "outputs": [],
   "source": [
    "for df in [his, new]:\n",
    "    df['category_2'].fillna(1.0,inplace=True)\n",
    "    df['category_3'].fillna('A',inplace=True)\n",
    "    df['merchant_id'].fillna('M_ID_00a6ca8a8a',inplace=True)"
   ]
  },
  {
   "cell_type": "code",
   "execution_count": 13,
   "metadata": {},
   "outputs": [],
   "source": [
    "# authorized_flag\n",
    "new['authorized_flag'] = new.authorized_flag.map({'N':0,'Y':1})\n",
    "his['authorized_flag'] = his.authorized_flag.map({'N':0,'Y':1})\n",
    "\n",
    "agg = {\n",
    "    'authorized_flag':['mean', 'sum']\n",
    "}\n",
    "auth_flag = his.groupby('card_id').agg(agg)\n",
    "auth_flag.columns = ['_'.join(col).strip() for col in auth_flag.columns.values]\n",
    "auth_flag.reset_index(inplace=True)"
   ]
  },
  {
   "cell_type": "code",
   "execution_count": 8,
   "metadata": {
    "scrolled": true
   },
   "outputs": [],
   "source": [
    "# 每月还款额\n",
    "his['need_repay'] = np.load('/root/tempfile/need_pay.npy')      # FE_5"
   ]
  },
  {
   "cell_type": "code",
   "execution_count": 9,
   "metadata": {},
   "outputs": [],
   "source": [
    "# 创建一个feature，用来衡量本次交易最后一次还款在什么时候。          # FE_5\n",
    "for df in [his, new]:\n",
    "    purchase_date_list = df.purchase_date.tolist()                # FE_5\n",
    "    installments_list = df.installments.tolist()        # FE_5\n",
    "    \n",
    "    df['last_settle_month'] = [datetime_offset_by_month(i[0], i[1]+1) for i in zip(purchase_date_list, installments_list)] # FE_5\n",
    "    df['last_settle_month'] = (df['last_settle_month'] - startime).astype('int') * 1e-9      # FE_5\n",
    "    del purchase_date_list, installments_list                      # FE_5"
   ]
  },
  {
   "cell_type": "code",
   "execution_count": 10,
   "metadata": {},
   "outputs": [],
   "source": [
    "# 创建一个新的 purchase_amount\n",
    "his['purchase_amount'] = (his.purchase_amount - his.purchase_amount.min())*1\n",
    "new['purchase_amount'] = (new.purchase_amount - new.purchase_amount.min())*1"
   ]
  },
  {
   "cell_type": "code",
   "execution_count": 11,
   "metadata": {},
   "outputs": [
    {
     "data": {
      "text/plain": [
       "58"
      ]
     },
     "execution_count": 11,
     "metadata": {},
     "output_type": "execute_result"
    }
   ],
   "source": [
    "agg = {'authorized_flag': ['mean', 'count']}\n",
    "flag_month = his.groupby(['card_id', 'month_lag']).agg(agg)\n",
    "flag_month.columns = ['_'.join(col).strip() for col in flag_month.columns.values]\n",
    "flag_month.reset_index(inplace=True)\n",
    "\n",
    "# 找到对于每id来说，距离评估日最后的月成交数量与成交率\n",
    "col_idx = ['authorized_flag_mean', 'authorized_flag_count']\n",
    "row_idx = flag_month.groupby('card_id').month_lag.apply(lambda x: x.idxmax()).values\n",
    "final = flag_month.loc[row_idx,col_idx].reset_index(drop=True)\n",
    "final.columns = ['final_authorized_flag_mean', 'final_authorized_flag_count']\n",
    "\n",
    "\n",
    "# 找到对于每id来说，最开始的月成交数量与成交率\n",
    "col_idx = ['authorized_flag_mean', 'authorized_flag_count']\n",
    "row_idx = flag_month.groupby('card_id').month_lag.apply(lambda x: x.idxmin()).values\n",
    "start = flag_month.loc[row_idx,col_idx].reset_index(drop=True)\n",
    "start.columns = ['start_authorized_flag_mean', 'start_authorized_flag_count']\n",
    "\n",
    "\n",
    "auth_flag['final_start_authorized_flag_count_percent'] = final.final_authorized_flag_count / start.start_authorized_flag_count\n",
    "auth_flag['final_start_start_authorized_flag_mean_minues'] = final.final_authorized_flag_mean - start.start_authorized_flag_mean\n",
    "\n",
    "auth = his[his.authorized_flag == 1]            # FE_5\n",
    "unauth = his[his.authorized_flag == 0]          # FE_5\n",
    "\n",
    "del his, col_idx, row_idx, flag_month, final, start; gc.collect()"
   ]
  },
  {
   "cell_type": "code",
   "execution_count": 16,
   "metadata": {},
   "outputs": [
    {
     "data": {
      "text/html": [
       "<div>\n",
       "<style scoped>\n",
       "    .dataframe tbody tr th:only-of-type {\n",
       "        vertical-align: middle;\n",
       "    }\n",
       "\n",
       "    .dataframe tbody tr th {\n",
       "        vertical-align: top;\n",
       "    }\n",
       "\n",
       "    .dataframe thead th {\n",
       "        text-align: right;\n",
       "    }\n",
       "</style>\n",
       "<table border=\"1\" class=\"dataframe\">\n",
       "  <thead>\n",
       "    <tr style=\"text-align: right;\">\n",
       "      <th></th>\n",
       "      <th>authorized_flag</th>\n",
       "      <th>card_id</th>\n",
       "      <th>city_id</th>\n",
       "      <th>category_1</th>\n",
       "      <th>installments</th>\n",
       "      <th>category_3</th>\n",
       "      <th>merchant_category_id</th>\n",
       "      <th>merchant_id</th>\n",
       "      <th>month_lag</th>\n",
       "      <th>purchase_amount</th>\n",
       "      <th>purchase_date</th>\n",
       "      <th>category_2</th>\n",
       "      <th>state_id</th>\n",
       "      <th>subsector_id</th>\n",
       "      <th>isholiday</th>\n",
       "    </tr>\n",
       "  </thead>\n",
       "  <tbody>\n",
       "    <tr>\n",
       "      <th>0</th>\n",
       "      <td>1</td>\n",
       "      <td>C_ID_4e6213e9bc</td>\n",
       "      <td>88</td>\n",
       "      <td>N</td>\n",
       "      <td>0</td>\n",
       "      <td>A</td>\n",
       "      <td>80</td>\n",
       "      <td>M_ID_e020e9b302</td>\n",
       "      <td>-8</td>\n",
       "      <td>-0.703331</td>\n",
       "      <td>2017-06-25 15:33:07</td>\n",
       "      <td>1.0</td>\n",
       "      <td>16</td>\n",
       "      <td>37</td>\n",
       "      <td>False</td>\n",
       "    </tr>\n",
       "    <tr>\n",
       "      <th>1</th>\n",
       "      <td>1</td>\n",
       "      <td>C_ID_4e6213e9bc</td>\n",
       "      <td>88</td>\n",
       "      <td>N</td>\n",
       "      <td>0</td>\n",
       "      <td>A</td>\n",
       "      <td>367</td>\n",
       "      <td>M_ID_86ec983688</td>\n",
       "      <td>-7</td>\n",
       "      <td>-0.733128</td>\n",
       "      <td>2017-07-15 12:10:45</td>\n",
       "      <td>1.0</td>\n",
       "      <td>16</td>\n",
       "      <td>16</td>\n",
       "      <td>False</td>\n",
       "    </tr>\n",
       "    <tr>\n",
       "      <th>2</th>\n",
       "      <td>1</td>\n",
       "      <td>C_ID_4e6213e9bc</td>\n",
       "      <td>88</td>\n",
       "      <td>N</td>\n",
       "      <td>0</td>\n",
       "      <td>A</td>\n",
       "      <td>80</td>\n",
       "      <td>M_ID_979ed661fc</td>\n",
       "      <td>-6</td>\n",
       "      <td>-0.720386</td>\n",
       "      <td>2017-08-09 22:04:29</td>\n",
       "      <td>1.0</td>\n",
       "      <td>16</td>\n",
       "      <td>37</td>\n",
       "      <td>False</td>\n",
       "    </tr>\n",
       "  </tbody>\n",
       "</table>\n",
       "</div>"
      ],
      "text/plain": [
       "   authorized_flag          card_id  city_id category_1  installments  \\\n",
       "0                1  C_ID_4e6213e9bc       88          N             0   \n",
       "1                1  C_ID_4e6213e9bc       88          N             0   \n",
       "2                1  C_ID_4e6213e9bc       88          N             0   \n",
       "\n",
       "  category_3  merchant_category_id      merchant_id  month_lag  \\\n",
       "0          A                    80  M_ID_e020e9b302         -8   \n",
       "1          A                   367  M_ID_86ec983688         -7   \n",
       "2          A                    80  M_ID_979ed661fc         -6   \n",
       "\n",
       "   purchase_amount       purchase_date  category_2  state_id  subsector_id  \\\n",
       "0        -0.703331 2017-06-25 15:33:07         1.0        16            37   \n",
       "1        -0.733128 2017-07-15 12:10:45         1.0        16            16   \n",
       "2        -0.720386 2017-08-09 22:04:29         1.0        16            37   \n",
       "\n",
       "   isholiday  \n",
       "0      False  \n",
       "1      False  \n",
       "2      False  "
      ]
     },
     "execution_count": 16,
     "metadata": {},
     "output_type": "execute_result"
    }
   ],
   "source": [
    "auth.head(3)"
   ]
  },
  {
   "cell_type": "code",
   "execution_count": 15,
   "metadata": {},
   "outputs": [],
   "source": [
    "def agg_dataframe(df,have_nr=True):\n",
    "    \n",
    "    df['category_1'] = df.category_1.map({'N':0, 'Y':1})\n",
    "    df['log_amount'] = np.log(df.purchase_amount+0.75)\n",
    "    for col in ['category_2','category_3']:\n",
    "        df[col+'_mean'] = df.groupby([col])['purchase_amount'].transform('mean')   \n",
    "    df = pd.get_dummies(df, columns=['category_2', 'category_3'])\n",
    "    \n",
    "    agg = {\n",
    "        'city_id': ['nunique'],\n",
    "        'merchant_category_id': ['nunique'],\n",
    "        'merchant_id': ['nunique'],\n",
    "        'state_id': ['nunique'],\n",
    "        'subsector_id': ['nunique'],\n",
    "        'installments': ['sum', 'mean', 'max', 'min', 'var'],\n",
    "        'category_1': ['mean', 'sum'],\n",
    "        'category_2_1.0': ['mean'],\n",
    "        'category_2_2.0': ['mean'],\n",
    "        'category_2_3.0': ['mean'],\n",
    "        'category_2_4.0': ['mean'],\n",
    "        'category_2_5.0': ['mean'],\n",
    "        'category_3_A': ['mean'],\n",
    "        'category_3_B': ['mean'],\n",
    "        'category_3_C': ['mean'],\n",
    "        'month_lag': ['min', 'max', 'mean', 'var'],\n",
    "        'days_to_start': [np.ptp, 'min', 'max'],\n",
    "        'purchase_amount': ['sum', 'mean', 'max', 'min', 'var'],\n",
    "        'log_amount': ['sum', 'mean', 'max', 'min', 'var'],\n",
    "        'month_diff': ['mean'],\n",
    "        'dayofweek': ['nunique', 'std'],\n",
    "        'year': ['nunique'],        # FE_5\n",
    "        'weekofyear': ['nunique'],    # FE_5\n",
    "        'weekend':['mean', 'sum'],\n",
    "        'hour':['nunique','std'],\n",
    "        'month': ['std','nunique'],\n",
    "        'card_id': ['size'],\n",
    "        'category_2_mean': ['mean'],\n",
    "        'category_3_mean': ['mean'],\n",
    "        'isholiday':['mean'],    # FE_5\n",
    "        'last_settle_month': ['min', 'max', 'mean']         # FE_5\n",
    "    }\n",
    "    if have_nr is True:\n",
    "        agg['need_repay'] = ['min', 'max', 'sum', 'mean', 'var']   # FE_5\n",
    "    agg_df = df.groupby(['card_id']).agg(agg)\n",
    "    agg_df.columns = ['_'.join(col).strip() for col in agg_df.columns.values]\n",
    "    agg_df.reset_index(inplace=True)\n",
    "    \n",
    "    agg_df['date_average'] = agg_df['days_to_start_ptp']/agg_df['card_id_size']     # FE_5\n",
    "    \n",
    "    return agg_df"
   ]
  },
  {
   "cell_type": "code",
   "execution_count": 19,
   "metadata": {},
   "outputs": [],
   "source": [
    "agg_auth = agg_dataframe(auth)\n",
    "agg_auth.columns = ['auth_' + c if c != 'card_id' else c for c in agg_auth.columns]\n",
    "agg_unauth = agg_dataframe(unauth)\n",
    "agg_unauth.columns = ['unauth_' + c if c != 'card_id' else c for c in agg_unauth.columns]\n",
    "agg_new = agg_dataframe(new, have_nr=False)\n",
    "agg_new.columns = ['new_' + c if c != 'card_id' else c for c in agg_new.columns]"
   ]
  },
  {
   "cell_type": "code",
   "execution_count": null,
   "metadata": {},
   "outputs": [],
   "source": [
    "#agg_his['agg_his_date_average'] = agg_his['his_days_to_start_ptp']/agg_his['his_card_id_size']\n",
    "#agg_new['agg_new_date_average'] = agg_new['new_days_to_start_ptp']/agg_new['new_card_id_size']"
   ]
  },
  {
   "cell_type": "code",
   "execution_count": 17,
   "metadata": {},
   "outputs": [],
   "source": [
    "train = pd.merge(train, auth_flag, on='card_id', how='left')\n",
    "train = pd.merge(train, agg_auth, on='card_id', how='left')\n",
    "train = pd.merge(train, agg_unauth, on='card_id', how='left')\n",
    "train = pd.merge(train, agg_new, on='card_id', how='left')\n",
    "\n",
    "test = pd.merge(test, auth_flag, on='card_id', how='left')\n",
    "test = pd.merge(test, agg_auth, on='card_id', how='left')\n",
    "test = pd.merge(test, agg_unauth, on='card_id', how='left')\n",
    "test = pd.merge(test, agg_new, on='card_id', how='left')"
   ]
  },
  {
   "cell_type": "code",
   "execution_count": 28,
   "metadata": {
    "scrolled": true
   },
   "outputs": [],
   "source": [
    "for df in [train, test]:\n",
    "    df['first_active_month'] = (pd.to_datetime(df['first_active_month']) - startime).dt.days\n",
    "    df['auth_first_buy'] = (df['auth_days_to_start_min'] - df['first_active_month'])\n",
    "    df['unauth_first_buy'] = (df['unauth_days_to_start_min'] - df['first_active_month'])\n",
    "    df['new_first_buy'] = (df['new_days_to_start_min'] - df['first_active_month'])\n",
    "    df['total_count'] = df['auth_card_id_size']+df['unauth_card_id_size']+df['new_card_id_size']"
   ]
  },
  {
   "cell_type": "code",
   "execution_count": 29,
   "metadata": {},
   "outputs": [
    {
     "data": {
      "text/plain": [
       "0    199710\n",
       "1      2207\n",
       "Name: outliers, dtype: int64"
      ]
     },
     "execution_count": 29,
     "metadata": {},
     "output_type": "execute_result"
    }
   ],
   "source": [
    "train['outliers'] = 0\n",
    "train.loc[train['target'] < -30, 'outliers'] = 1\n",
    "train['outliers'].value_counts()"
   ]
  },
  {
   "cell_type": "code",
   "execution_count": 30,
   "metadata": {},
   "outputs": [],
   "source": [
    "for f in ['feature_1','feature_2','feature_3']:\n",
    "    order_label = train.groupby([f])['outliers'].mean()\n",
    "    train[f] = train[f].map(order_label)\n",
    "    test[f] = test[f].map(order_label)"
   ]
  },
  {
   "cell_type": "code",
   "execution_count": 22,
   "metadata": {},
   "outputs": [],
   "source": [
    "train.to_csv('/root/tempfile/train_final191800.csv',index=False)\n",
    "test.to_csv('/root/tempfile/train_final191800.csv',index=False)"
   ]
  }
 ],
 "metadata": {
  "kernelspec": {
   "display_name": "Python 3",
   "language": "python",
   "name": "python3"
  },
  "language_info": {
   "codemirror_mode": {
    "name": "ipython",
    "version": 3
   },
   "file_extension": ".py",
   "mimetype": "text/x-python",
   "name": "python",
   "nbconvert_exporter": "python",
   "pygments_lexer": "ipython3",
   "version": "3.7.1"
  }
 },
 "nbformat": 4,
 "nbformat_minor": 2
}
