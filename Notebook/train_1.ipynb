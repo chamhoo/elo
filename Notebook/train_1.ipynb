{
 "cells": [
  {
   "cell_type": "code",
   "execution_count": 2,
   "metadata": {},
   "outputs": [],
   "source": [
    "import pandas as pd\n",
    "import numpy as np\n",
    "import matplotlib.pyplot as plt\n",
    "import lightgbm as lgb\n",
    "from sklearn.model_selection import GridSearchCV\n",
    "from sklearn.preprocessing import LabelEncoder"
   ]
  },
  {
   "cell_type": "code",
   "execution_count": 3,
   "metadata": {},
   "outputs": [],
   "source": [
    "train_df = pd.read_csv('/root/tempfile/train_final.csv')\n",
    "test_df = pd.read_csv('/root/tempfile/test_final.csv')"
   ]
  },
  {
   "cell_type": "code",
   "execution_count": 6,
   "metadata": {},
   "outputs": [
    {
     "data": {
      "text/html": [
       "<div>\n",
       "<style scoped>\n",
       "    .dataframe tbody tr th:only-of-type {\n",
       "        vertical-align: middle;\n",
       "    }\n",
       "\n",
       "    .dataframe tbody tr th {\n",
       "        vertical-align: top;\n",
       "    }\n",
       "\n",
       "    .dataframe thead th {\n",
       "        text-align: right;\n",
       "    }\n",
       "</style>\n",
       "<table border=\"1\" class=\"dataframe\">\n",
       "  <thead>\n",
       "    <tr style=\"text-align: right;\">\n",
       "      <th></th>\n",
       "      <th>first_active_month</th>\n",
       "      <th>card_id</th>\n",
       "      <th>feature_1</th>\n",
       "      <th>feature_2</th>\n",
       "      <th>feature_3</th>\n",
       "      <th>target</th>\n",
       "      <th>authorized_flag_count</th>\n",
       "      <th>authorized_flag_mean</th>\n",
       "      <th>authorized_flag_sum</th>\n",
       "      <th>auth_city_id_nunique</th>\n",
       "      <th>...</th>\n",
       "      <th>final_unauth_log_amount_sum_mean</th>\n",
       "      <th>final_unauth_log_amount_sum_std</th>\n",
       "      <th>final_unauth_log_amount_mean_mean</th>\n",
       "      <th>final_unauth_log_amount_mean_std</th>\n",
       "      <th>final_unauth_log_amount_max_mean</th>\n",
       "      <th>final_unauth_log_amount_max_std</th>\n",
       "      <th>final_unauth_log_amount_min_mean</th>\n",
       "      <th>final_unauth_log_amount_min_std</th>\n",
       "      <th>final_unauth_log_amount_std_mean</th>\n",
       "      <th>final_unauth_log_amount_std_std</th>\n",
       "    </tr>\n",
       "  </thead>\n",
       "  <tbody>\n",
       "    <tr>\n",
       "      <th>0</th>\n",
       "      <td>2017-06</td>\n",
       "      <td>C_ID_92a2005557</td>\n",
       "      <td>5</td>\n",
       "      <td>2</td>\n",
       "      <td>1</td>\n",
       "      <td>-0.820283</td>\n",
       "      <td>283</td>\n",
       "      <td>0.954064</td>\n",
       "      <td>270</td>\n",
       "      <td>9</td>\n",
       "      <td>...</td>\n",
       "      <td>-65.574414</td>\n",
       "      <td>45.036044</td>\n",
       "      <td>-2.630992</td>\n",
       "      <td>0.384338</td>\n",
       "      <td>-1.043115</td>\n",
       "      <td>0.894565</td>\n",
       "      <td>-4.036957</td>\n",
       "      <td>0.421211</td>\n",
       "      <td>0.837064</td>\n",
       "      <td>0.207392</td>\n",
       "    </tr>\n",
       "    <tr>\n",
       "      <th>1</th>\n",
       "      <td>2017-01</td>\n",
       "      <td>C_ID_3d0044924f</td>\n",
       "      <td>4</td>\n",
       "      <td>1</td>\n",
       "      <td>0</td>\n",
       "      <td>0.392913</td>\n",
       "      <td>356</td>\n",
       "      <td>0.969101</td>\n",
       "      <td>345</td>\n",
       "      <td>9</td>\n",
       "      <td>...</td>\n",
       "      <td>-67.151705</td>\n",
       "      <td>52.006621</td>\n",
       "      <td>-2.906739</td>\n",
       "      <td>0.592226</td>\n",
       "      <td>-0.540343</td>\n",
       "      <td>1.412495</td>\n",
       "      <td>-4.394119</td>\n",
       "      <td>0.341552</td>\n",
       "      <td>1.042343</td>\n",
       "      <td>0.331018</td>\n",
       "    </tr>\n",
       "    <tr>\n",
       "      <th>2</th>\n",
       "      <td>2016-08</td>\n",
       "      <td>C_ID_d639edf6cd</td>\n",
       "      <td>2</td>\n",
       "      <td>2</td>\n",
       "      <td>0</td>\n",
       "      <td>0.688056</td>\n",
       "      <td>44</td>\n",
       "      <td>0.954545</td>\n",
       "      <td>42</td>\n",
       "      <td>5</td>\n",
       "      <td>...</td>\n",
       "      <td>-9.346733</td>\n",
       "      <td>6.496794</td>\n",
       "      <td>-2.843535</td>\n",
       "      <td>0.430235</td>\n",
       "      <td>-2.391969</td>\n",
       "      <td>0.665803</td>\n",
       "      <td>-3.205255</td>\n",
       "      <td>0.408528</td>\n",
       "      <td>0.574998</td>\n",
       "      <td>0.402799</td>\n",
       "    </tr>\n",
       "    <tr>\n",
       "      <th>3</th>\n",
       "      <td>2017-09</td>\n",
       "      <td>C_ID_186d6a6901</td>\n",
       "      <td>4</td>\n",
       "      <td>3</td>\n",
       "      <td>0</td>\n",
       "      <td>0.142495</td>\n",
       "      <td>84</td>\n",
       "      <td>1.000000</td>\n",
       "      <td>84</td>\n",
       "      <td>7</td>\n",
       "      <td>...</td>\n",
       "      <td>-31.449652</td>\n",
       "      <td>30.894868</td>\n",
       "      <td>-2.793715</td>\n",
       "      <td>0.593955</td>\n",
       "      <td>-1.058167</td>\n",
       "      <td>0.878666</td>\n",
       "      <td>-4.088342</td>\n",
       "      <td>0.596358</td>\n",
       "      <td>1.018080</td>\n",
       "      <td>0.264283</td>\n",
       "    </tr>\n",
       "    <tr>\n",
       "      <th>4</th>\n",
       "      <td>2017-11</td>\n",
       "      <td>C_ID_cdbd2c0db2</td>\n",
       "      <td>1</td>\n",
       "      <td>3</td>\n",
       "      <td>0</td>\n",
       "      <td>-0.159749</td>\n",
       "      <td>169</td>\n",
       "      <td>0.970414</td>\n",
       "      <td>164</td>\n",
       "      <td>7</td>\n",
       "      <td>...</td>\n",
       "      <td>-66.775135</td>\n",
       "      <td>31.815563</td>\n",
       "      <td>-2.376776</td>\n",
       "      <td>0.282495</td>\n",
       "      <td>0.268834</td>\n",
       "      <td>1.155971</td>\n",
       "      <td>-4.325026</td>\n",
       "      <td>0.773617</td>\n",
       "      <td>1.099192</td>\n",
       "      <td>0.157305</td>\n",
       "    </tr>\n",
       "  </tbody>\n",
       "</table>\n",
       "<p>5 rows × 171 columns</p>\n",
       "</div>"
      ],
      "text/plain": [
       "  first_active_month          card_id  feature_1  feature_2  feature_3  \\\n",
       "0            2017-06  C_ID_92a2005557          5          2          1   \n",
       "1            2017-01  C_ID_3d0044924f          4          1          0   \n",
       "2            2016-08  C_ID_d639edf6cd          2          2          0   \n",
       "3            2017-09  C_ID_186d6a6901          4          3          0   \n",
       "4            2017-11  C_ID_cdbd2c0db2          1          3          0   \n",
       "\n",
       "     target  authorized_flag_count  authorized_flag_mean  authorized_flag_sum  \\\n",
       "0 -0.820283                    283              0.954064                  270   \n",
       "1  0.392913                    356              0.969101                  345   \n",
       "2  0.688056                     44              0.954545                   42   \n",
       "3  0.142495                     84              1.000000                   84   \n",
       "4 -0.159749                    169              0.970414                  164   \n",
       "\n",
       "   auth_city_id_nunique               ...                 \\\n",
       "0                     9               ...                  \n",
       "1                     9               ...                  \n",
       "2                     5               ...                  \n",
       "3                     7               ...                  \n",
       "4                     7               ...                  \n",
       "\n",
       "   final_unauth_log_amount_sum_mean  final_unauth_log_amount_sum_std  \\\n",
       "0                        -65.574414                        45.036044   \n",
       "1                        -67.151705                        52.006621   \n",
       "2                         -9.346733                         6.496794   \n",
       "3                        -31.449652                        30.894868   \n",
       "4                        -66.775135                        31.815563   \n",
       "\n",
       "   final_unauth_log_amount_mean_mean  final_unauth_log_amount_mean_std  \\\n",
       "0                          -2.630992                          0.384338   \n",
       "1                          -2.906739                          0.592226   \n",
       "2                          -2.843535                          0.430235   \n",
       "3                          -2.793715                          0.593955   \n",
       "4                          -2.376776                          0.282495   \n",
       "\n",
       "   final_unauth_log_amount_max_mean  final_unauth_log_amount_max_std  \\\n",
       "0                         -1.043115                         0.894565   \n",
       "1                         -0.540343                         1.412495   \n",
       "2                         -2.391969                         0.665803   \n",
       "3                         -1.058167                         0.878666   \n",
       "4                          0.268834                         1.155971   \n",
       "\n",
       "  final_unauth_log_amount_min_mean  final_unauth_log_amount_min_std  \\\n",
       "0                        -4.036957                         0.421211   \n",
       "1                        -4.394119                         0.341552   \n",
       "2                        -3.205255                         0.408528   \n",
       "3                        -4.088342                         0.596358   \n",
       "4                        -4.325026                         0.773617   \n",
       "\n",
       "   final_unauth_log_amount_std_mean  final_unauth_log_amount_std_std  \n",
       "0                          0.837064                         0.207392  \n",
       "1                          1.042343                         0.331018  \n",
       "2                          0.574998                         0.402799  \n",
       "3                          1.018080                         0.264283  \n",
       "4                          1.099192                         0.157305  \n",
       "\n",
       "[5 rows x 171 columns]"
      ]
     },
     "execution_count": 6,
     "metadata": {},
     "output_type": "execute_result"
    }
   ],
   "source": [
    "train_df.head()"
   ]
  },
  {
   "cell_type": "code",
   "execution_count": 7,
   "metadata": {},
   "outputs": [],
   "source": [
    "Id = test_df.card_id.values\n",
    "\n",
    "droplist = [i for i in train_df.columns if train_df[i].dtype == object]\n",
    "\n",
    "train_df.drop(droplist, axis=1, inplace=True)\n",
    "test_df.drop(droplist, axis=1, inplace=True)"
   ]
  },
  {
   "cell_type": "code",
   "execution_count": 8,
   "metadata": {},
   "outputs": [],
   "source": [
    "y_train = train_df.target.values\n",
    "train_df.drop('target', axis=1, inplace=True)\n"
   ]
  },
  {
   "cell_type": "code",
   "execution_count": 10,
   "metadata": {},
   "outputs": [],
   "source": [
    "\n",
    "x_train = train_df.values.astype('float')\n",
    "x_test = test_df.values.astype('float')"
   ]
  },
  {
   "cell_type": "code",
   "execution_count": 9,
   "metadata": {},
   "outputs": [],
   "source": [
    "category_feature = [\n",
    "    'feature_1', \n",
    "    'feature_2', \n",
    "    'feature_3',\n",
    "    'auth_state_id_cal_mode', \n",
    "    'auth_city_id_cal_mode',\n",
    "    'auth_merchant_category_id_cal_mode',\n",
    "    'auth_subsector_id_cal_mode','auth_dayofweek_cal_mode']"
   ]
  },
  {
   "cell_type": "code",
   "execution_count": 14,
   "metadata": {},
   "outputs": [
    {
     "name": "stdout",
     "output_type": "stream",
     "text": [
      "Fitting 5 folds for each of 12 candidates, totalling 60 fits\n"
     ]
    },
    {
     "name": "stderr",
     "output_type": "stream",
     "text": [
      "[Parallel(n_jobs=3)]: Using backend LokyBackend with 3 concurrent workers.\n",
      "[Parallel(n_jobs=3)]: Done  44 tasks      | elapsed:  3.4min\n",
      "[Parallel(n_jobs=3)]: Done  60 out of  60 | elapsed:  5.1min finished\n"
     ]
    }
   ],
   "source": [
    "lgb_model = lgb.LGBMRegressor(objective='regression',\n",
    "                              num_leaves=50,\n",
    "                              learning_rate=0.1, \n",
    "                              n_estimators=43, \n",
    "                              max_depth=8,\n",
    "                              metric='rmse',\n",
    "                              bagging_fraction = 0.8,\n",
    "                              feature_fraction = 0.8)\n",
    "\n",
    "params_test1={\n",
    "    'max_depth': range(3,8,2),\n",
    "    'num_leaves':range(50, 170, 30)\n",
    "}\n",
    "gsearch1 = GridSearchCV(estimator=lgb_model, \n",
    "                        param_grid=params_test1,\n",
    "                        scoring='neg_mean_squared_error', \n",
    "                        cv=5,\n",
    "                        verbose=1, \n",
    "                        n_jobs=3)\n",
    "\n",
    "gs1 = gsearch1.fit(x_train, y_train)"
   ]
  },
  {
   "cell_type": "code",
   "execution_count": 15,
   "metadata": {},
   "outputs": [
    {
     "name": "stdout",
     "output_type": "stream",
     "text": [
      "{'max_depth': 5, 'num_leaves': 50} -13.77245892281742\n"
     ]
    }
   ],
   "source": [
    "print(gs1.best_params_, gs1.best_score_)"
   ]
  },
  {
   "cell_type": "code",
   "execution_count": null,
   "metadata": {},
   "outputs": [],
   "source": [
    "params_test2={\n",
    "    'max_depth': [4,5,6],\n",
    "    'num_leaves':range(10,60,10)\n",
    "}\n",
    "\n",
    "gsearch2= GridSearchCV(estimator=lgb_model, \n",
    "                        param_grid=params_test2,\n",
    "                        scoring='neg_mean_squared_error', \n",
    "                        cv=5,\n",
    "                        verbose=1, \n",
    "                        n_jobs=3)\n",
    "\n",
    "gs2 = gsearch2.fit(x_train, y_train)"
   ]
  },
  {
   "cell_type": "code",
   "execution_count": null,
   "metadata": {},
   "outputs": [],
   "source": [
    "print(gs2.best_params_, gs2.best_score_)"
   ]
  },
  {
   "cell_type": "code",
   "execution_count": null,
   "metadata": {},
   "outputs": [],
   "source": [
    "params_test3= {\n",
    "    'max_depth': [6],\n",
    "    'num_leaves':range(16,24,2)\n",
    "}\n",
    "\n",
    "gsearch3= GridSearchCV(estimator=lgb_model, \n",
    "                        param_grid=params_test3,\n",
    "                        scoring='neg_mean_squared_error', \n",
    "                        cv=5,\n",
    "                        verbose=1, \n",
    "                        n_jobs=3)\n",
    "\n",
    "gs3 = gsearch3.fit(x_train, y_train)"
   ]
  },
  {
   "cell_type": "code",
   "execution_count": null,
   "metadata": {},
   "outputs": [],
   "source": [
    "print(gs3.best_params_, gs3.best_score_)"
   ]
  },
  {
   "cell_type": "code",
   "execution_count": null,
   "metadata": {},
   "outputs": [],
   "source": [
    "gs3.estimator"
   ]
  },
  {
   "cell_type": "code",
   "execution_count": null,
   "metadata": {},
   "outputs": [],
   "source": [
    "params_test4= {\n",
    "    'max_depth': [6],\n",
    "    'num_leaves':[18],\n",
    "    'min_child_samples': [18],\n",
    "    'min_child_weight':[0.001],\n",
    "    'feature_fraction': [0.5, 0.6, 0.7, 0.8, 0.9],   \n",
    "    'bagging_fraction': [0.6, 0.7, 0.8, 0.9, 1.0]\n",
    "\n",
    "}\n",
    "\n",
    "gsearch4= GridSearchCV(estimator=lgb_model, \n",
    "                        param_grid=params_test4,\n",
    "                        scoring='neg_mean_squared_error', \n",
    "                        cv=5,\n",
    "                        verbose=1, \n",
    "                        n_jobs=3)\n",
    "\n",
    "gs4 = gsearch4.fit(x_train, y_train)"
   ]
  },
  {
   "cell_type": "code",
   "execution_count": null,
   "metadata": {},
   "outputs": [],
   "source": [
    "print(gs4.best_params_, gs4.best_score_)"
   ]
  },
  {
   "cell_type": "code",
   "execution_count": null,
   "metadata": {},
   "outputs": [],
   "source": [
    "params_test5= {\n",
    "    'max_depth': [6],\n",
    "    'num_leaves':[18],\n",
    "    'min_child_samples': [18],\n",
    "    'min_child_weight':[0.001],\n",
    "    'feature_fraction': [0.8, 0.85, 0.9, 0.95],    \n",
    "    'bagging_fraction':[0.4, 0.45, 0.5, 0.55, 0.6, 0.65]\n",
    "   # 'reg_alpha': [0, 0.001, 0.01, 0.03, 0.08, 0.3, 0.5],  \n",
    "    #'reg_lambda': [0, 0.001, 0.01, 0.03, 0.08, 0.3, 0.5]\n",
    "\n",
    "}\n",
    "\n",
    "gsearch5= GridSearchCV(estimator=lgb_model, \n",
    "                        param_grid=params_test5,\n",
    "                        scoring='neg_mean_squared_error', \n",
    "                        cv=5,\n",
    "                        verbose=1, \n",
    "                        n_jobs=3)\n",
    "\n",
    "gs5 = gsearch5.fit(x_train, y_train)"
   ]
  },
  {
   "cell_type": "code",
   "execution_count": null,
   "metadata": {},
   "outputs": [],
   "source": [
    "print(gs5.best_params_, gs5.best_score_)"
   ]
  },
  {
   "cell_type": "code",
   "execution_count": null,
   "metadata": {},
   "outputs": [],
   "source": [
    "params_test6= {\n",
    "    'max_depth': [6],\n",
    "    'num_leaves':[18],\n",
    "    'min_child_samples': [18],\n",
    "    'min_child_weight':[0.001],\n",
    "    'feature_fraction': [0.9],    \n",
    "    'bagging_fraction':[0.4],\n",
    "    'reg_alpha': [0, 0.001, 0.01, 0.03, 0.08, 0.3, 0.5],  \n",
    "    'reg_lambda': [0, 0.001, 0.01, 0.03, 0.08, 0.3, 0.5]\n",
    "\n",
    "}\n",
    "\n",
    "gsearch6 = GridSearchCV(estimator=lgb_model, \n",
    "                        param_grid=params_test6,\n",
    "                        scoring='neg_mean_squared_error', \n",
    "                        cv=5,\n",
    "                        verbose=1, \n",
    "                        n_jobs=3)\n",
    "\n",
    "gs6 = gsearch6.fit(x_train, y_train)"
   ]
  },
  {
   "cell_type": "code",
   "execution_count": null,
   "metadata": {},
   "outputs": [],
   "source": [
    "print(gs6.best_params_, gs6.best_score_)"
   ]
  },
  {
   "cell_type": "code",
   "execution_count": null,
   "metadata": {},
   "outputs": [],
   "source": [
    "params_test7= {\n",
    "    'max_depth': [6],\n",
    "    'num_leaves':[18],\n",
    "    'min_child_samples': [18],\n",
    "    'min_child_weight':[0.001],\n",
    "    'feature_fraction': [0.9],    \n",
    "    'bagging_fraction':[0.4],\n",
    "    'reg_alpha': [0.5, 0.55, 0.6, 0.7, 0.8],  \n",
    "    'reg_lambda': [0, 0.0001, 0.0005, 0.001, 0.0015, 0.002]\n",
    "\n",
    "}\n",
    "\n",
    "gsearch7 = GridSearchCV(estimator=lgb_model, \n",
    "                        param_grid=params_test7,\n",
    "                        scoring='neg_mean_squared_error', \n",
    "                        cv=5,\n",
    "                        verbose=1, \n",
    "                        n_jobs=3)\n",
    "\n",
    "gs7 = gsearch7.fit(x_train, y_train)"
   ]
  },
  {
   "cell_type": "code",
   "execution_count": null,
   "metadata": {},
   "outputs": [],
   "source": [
    "print(gs7.best_params_, gs7.best_score_)"
   ]
  },
  {
   "cell_type": "code",
   "execution_count": null,
   "metadata": {},
   "outputs": [],
   "source": [
    "params_test7= {\n",
    "    'max_depth': 6,\n",
    "    'num_leaves':18,\n",
    "    'min_child_samples': 18,\n",
    "    'min_child_weight':0.001,\n",
    "    'feature_fraction': 0.9,    \n",
    "    'bagging_fraction':0.4,\n",
    "    'reg_alpha': 0.5,  \n",
    "    'reg_lambda': 0.002,\n",
    "    'learning_rate': 0.005\n",
    "}\n",
    "\n",
    "data_train = lgb.Dataset(train_df, y_train, silent=True)\n",
    "lgb_model = lgb.train(\n",
    "    params_test7,\n",
    "    data_train,\n",
    "    num_boost_round=10000, \n",
    "    verbose_eval=100)\n"
   ]
  },
  {
   "cell_type": "code",
   "execution_count": null,
   "metadata": {},
   "outputs": [],
   "source": [
    "y_test = lgb_model.predict(x_test)"
   ]
  },
  {
   "cell_type": "code",
   "execution_count": null,
   "metadata": {},
   "outputs": [],
   "source": [
    "submission = pd.DataFrame({'card_id':Id, 'target':y_test})"
   ]
  },
  {
   "cell_type": "code",
   "execution_count": null,
   "metadata": {},
   "outputs": [],
   "source": [
    "submission.target.hist(bins=100)"
   ]
  },
  {
   "cell_type": "code",
   "execution_count": null,
   "metadata": {},
   "outputs": [],
   "source": [
    "plt.hist(y_train,bins=100)\n",
    "plt.show()"
   ]
  },
  {
   "cell_type": "code",
   "execution_count": null,
   "metadata": {},
   "outputs": [],
   "source": [
    "important = pd.Series(lgb_model.feature_importance(), index=featurename).sort_values(ascending=True)"
   ]
  },
  {
   "cell_type": "code",
   "execution_count": null,
   "metadata": {
    "scrolled": false
   },
   "outputs": [],
   "source": [
    "plt.figure(figsize=[10,40])\n",
    "plt.barh(important.index, important)\n",
    "plt.show()"
   ]
  },
  {
   "cell_type": "code",
   "execution_count": null,
   "metadata": {},
   "outputs": [],
   "source": [
    "submission.to_csv('/home/leechh/tempfile/elo/submission120901.csv')"
   ]
  }
 ],
 "metadata": {
  "kernelspec": {
   "display_name": "Python 3",
   "language": "python",
   "name": "python3"
  },
  "language_info": {
   "codemirror_mode": {
    "name": "ipython",
    "version": 3
   },
   "file_extension": ".py",
   "mimetype": "text/x-python",
   "name": "python",
   "nbconvert_exporter": "python",
   "pygments_lexer": "ipython3",
   "version": "3.7.1"
  }
 },
 "nbformat": 4,
 "nbformat_minor": 2
}
