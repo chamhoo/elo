{
 "cells": [
  {
   "cell_type": "markdown",
   "metadata": {},
   "source": [
    "# DEA_2_2_his&merchants\n",
    "***\n",
    "所有的his中出现的 merchant_id 都在merchants.csv 里面吗？"
   ]
  },
  {
   "cell_type": "code",
   "execution_count": 1,
   "metadata": {},
   "outputs": [],
   "source": [
    "import pandas as pd\n",
    "import numpy as np"
   ]
  },
  {
   "cell_type": "code",
   "execution_count": 2,
   "metadata": {},
   "outputs": [],
   "source": [
    "his = pd.read_csv('/root/data/historical_transactions.csv')\n",
    "mer = pd.read_csv('/root/data/merchants.csv')"
   ]
  },
  {
   "cell_type": "code",
   "execution_count": 5,
   "metadata": {},
   "outputs": [
    {
     "name": "stdout",
     "output_type": "stream",
     "text": [
      "his shape: 29112361\n",
      "his nunique: 326311\n",
      "mer shape: 334696\n",
      "mer nunique: 334633\n"
     ]
    }
   ],
   "source": [
    "print(f'his shape: {his.shape[0]}')\n",
    "print(f'his nunique: {his.merchant_id.nunique()}')\n",
    "print(f'mer shape: {mer.shape[0]}')\n",
    "print(f'mer nunique: {mer.merchant_id.nunique()}')"
   ]
  },
  {
   "cell_type": "markdown",
   "metadata": {},
   "source": [
    "为什么 **merchants.csv** 中会出现重复项？"
   ]
  },
  {
   "cell_type": "code",
   "execution_count": 24,
   "metadata": {},
   "outputs": [
    {
     "data": {
      "text/plain": [
       "Index(['merchant_id', 'merchant_group_id', 'merchant_category_id',\n",
       "       'subsector_id', 'numerical_1', 'numerical_2', 'category_1',\n",
       "       'most_recent_sales_range', 'most_recent_purchases_range',\n",
       "       'avg_sales_lag3', 'avg_purchases_lag3', 'active_months_lag3',\n",
       "       'avg_sales_lag6', 'avg_purchases_lag6', 'active_months_lag6',\n",
       "       'avg_sales_lag12', 'avg_purchases_lag12', 'active_months_lag12',\n",
       "       'category_4', 'city_id', 'state_id', 'category_2'],\n",
       "      dtype='object')"
      ]
     },
     "execution_count": 24,
     "metadata": {},
     "output_type": "execute_result"
    }
   ],
   "source": [
    "mer.columns"
   ]
  },
  {
   "cell_type": "code",
   "execution_count": 10,
   "metadata": {},
   "outputs": [],
   "source": [
    "size_se = mer.groupby('merchant_id').size()"
   ]
  },
  {
   "cell_type": "code",
   "execution_count": 16,
   "metadata": {},
   "outputs": [],
   "source": [
    "abnormal_id = size_se[size_se > 1].index.values"
   ]
  },
  {
   "cell_type": "code",
   "execution_count": 22,
   "metadata": {},
   "outputs": [],
   "source": [
    "idx = mer.merchant_id.apply(lambda x:x in abnormal_id)"
   ]
  },
  {
   "cell_type": "code",
   "execution_count": 25,
   "metadata": {},
   "outputs": [
    {
     "data": {
      "text/html": [
       "<div>\n",
       "<style scoped>\n",
       "    .dataframe tbody tr th:only-of-type {\n",
       "        vertical-align: middle;\n",
       "    }\n",
       "\n",
       "    .dataframe tbody tr th {\n",
       "        vertical-align: top;\n",
       "    }\n",
       "\n",
       "    .dataframe thead th {\n",
       "        text-align: right;\n",
       "    }\n",
       "</style>\n",
       "<table border=\"1\" class=\"dataframe\">\n",
       "  <thead>\n",
       "    <tr style=\"text-align: right;\">\n",
       "      <th></th>\n",
       "      <th>merchant_id</th>\n",
       "      <th>merchant_group_id</th>\n",
       "      <th>merchant_category_id</th>\n",
       "      <th>subsector_id</th>\n",
       "      <th>numerical_1</th>\n",
       "      <th>numerical_2</th>\n",
       "      <th>category_1</th>\n",
       "      <th>most_recent_sales_range</th>\n",
       "      <th>most_recent_purchases_range</th>\n",
       "      <th>avg_sales_lag3</th>\n",
       "      <th>...</th>\n",
       "      <th>avg_sales_lag6</th>\n",
       "      <th>avg_purchases_lag6</th>\n",
       "      <th>active_months_lag6</th>\n",
       "      <th>avg_sales_lag12</th>\n",
       "      <th>avg_purchases_lag12</th>\n",
       "      <th>active_months_lag12</th>\n",
       "      <th>category_4</th>\n",
       "      <th>city_id</th>\n",
       "      <th>state_id</th>\n",
       "      <th>category_2</th>\n",
       "    </tr>\n",
       "  </thead>\n",
       "  <tbody>\n",
       "    <tr>\n",
       "      <th>53</th>\n",
       "      <td>M_ID_c0b712e11a</td>\n",
       "      <td>35</td>\n",
       "      <td>823</td>\n",
       "      <td>25</td>\n",
       "      <td>-0.057471</td>\n",
       "      <td>-0.057471</td>\n",
       "      <td>N</td>\n",
       "      <td>E</td>\n",
       "      <td>E</td>\n",
       "      <td>1.00</td>\n",
       "      <td>...</td>\n",
       "      <td>1.00</td>\n",
       "      <td>1.000000</td>\n",
       "      <td>1</td>\n",
       "      <td>1.00</td>\n",
       "      <td>1.000000</td>\n",
       "      <td>1</td>\n",
       "      <td>N</td>\n",
       "      <td>231</td>\n",
       "      <td>9</td>\n",
       "      <td>1.0</td>\n",
       "    </tr>\n",
       "    <tr>\n",
       "      <th>54</th>\n",
       "      <td>M_ID_c0b712e11a</td>\n",
       "      <td>35</td>\n",
       "      <td>823</td>\n",
       "      <td>25</td>\n",
       "      <td>-0.007896</td>\n",
       "      <td>-0.007896</td>\n",
       "      <td>N</td>\n",
       "      <td>E</td>\n",
       "      <td>E</td>\n",
       "      <td>1.01</td>\n",
       "      <td>...</td>\n",
       "      <td>1.01</td>\n",
       "      <td>1.097119</td>\n",
       "      <td>6</td>\n",
       "      <td>1.20</td>\n",
       "      <td>1.190741</td>\n",
       "      <td>12</td>\n",
       "      <td>N</td>\n",
       "      <td>231</td>\n",
       "      <td>9</td>\n",
       "      <td>1.0</td>\n",
       "    </tr>\n",
       "    <tr>\n",
       "      <th>111</th>\n",
       "      <td>M_ID_0039220eb3</td>\n",
       "      <td>35</td>\n",
       "      <td>836</td>\n",
       "      <td>5</td>\n",
       "      <td>-0.057471</td>\n",
       "      <td>-0.057471</td>\n",
       "      <td>Y</td>\n",
       "      <td>E</td>\n",
       "      <td>E</td>\n",
       "      <td>0.66</td>\n",
       "      <td>...</td>\n",
       "      <td>0.66</td>\n",
       "      <td>0.666667</td>\n",
       "      <td>3</td>\n",
       "      <td>0.66</td>\n",
       "      <td>0.666667</td>\n",
       "      <td>3</td>\n",
       "      <td>Y</td>\n",
       "      <td>-1</td>\n",
       "      <td>-1</td>\n",
       "      <td>NaN</td>\n",
       "    </tr>\n",
       "    <tr>\n",
       "      <th>112</th>\n",
       "      <td>M_ID_0039220eb3</td>\n",
       "      <td>35</td>\n",
       "      <td>836</td>\n",
       "      <td>5</td>\n",
       "      <td>0.408530</td>\n",
       "      <td>0.408530</td>\n",
       "      <td>Y</td>\n",
       "      <td>C</td>\n",
       "      <td>D</td>\n",
       "      <td>1.17</td>\n",
       "      <td>...</td>\n",
       "      <td>1.17</td>\n",
       "      <td>1.087939</td>\n",
       "      <td>6</td>\n",
       "      <td>1.19</td>\n",
       "      <td>0.997021</td>\n",
       "      <td>12</td>\n",
       "      <td>Y</td>\n",
       "      <td>-1</td>\n",
       "      <td>-1</td>\n",
       "      <td>NaN</td>\n",
       "    </tr>\n",
       "    <tr>\n",
       "      <th>3392</th>\n",
       "      <td>M_ID_bd49e37dda</td>\n",
       "      <td>35</td>\n",
       "      <td>692</td>\n",
       "      <td>21</td>\n",
       "      <td>-0.057471</td>\n",
       "      <td>-0.057471</td>\n",
       "      <td>N</td>\n",
       "      <td>E</td>\n",
       "      <td>E</td>\n",
       "      <td>60.09</td>\n",
       "      <td>...</td>\n",
       "      <td>104.82</td>\n",
       "      <td>13.800000</td>\n",
       "      <td>5</td>\n",
       "      <td>104.82</td>\n",
       "      <td>13.800000</td>\n",
       "      <td>5</td>\n",
       "      <td>N</td>\n",
       "      <td>51</td>\n",
       "      <td>16</td>\n",
       "      <td>1.0</td>\n",
       "    </tr>\n",
       "  </tbody>\n",
       "</table>\n",
       "<p>5 rows × 22 columns</p>\n",
       "</div>"
      ],
      "text/plain": [
       "          merchant_id  merchant_group_id  merchant_category_id  subsector_id  \\\n",
       "53    M_ID_c0b712e11a                 35                   823            25   \n",
       "54    M_ID_c0b712e11a                 35                   823            25   \n",
       "111   M_ID_0039220eb3                 35                   836             5   \n",
       "112   M_ID_0039220eb3                 35                   836             5   \n",
       "3392  M_ID_bd49e37dda                 35                   692            21   \n",
       "\n",
       "      numerical_1  numerical_2 category_1 most_recent_sales_range  \\\n",
       "53      -0.057471    -0.057471          N                       E   \n",
       "54      -0.007896    -0.007896          N                       E   \n",
       "111     -0.057471    -0.057471          Y                       E   \n",
       "112      0.408530     0.408530          Y                       C   \n",
       "3392    -0.057471    -0.057471          N                       E   \n",
       "\n",
       "     most_recent_purchases_range  avg_sales_lag3     ...      avg_sales_lag6  \\\n",
       "53                             E            1.00     ...                1.00   \n",
       "54                             E            1.01     ...                1.01   \n",
       "111                            E            0.66     ...                0.66   \n",
       "112                            D            1.17     ...                1.17   \n",
       "3392                           E           60.09     ...              104.82   \n",
       "\n",
       "      avg_purchases_lag6  active_months_lag6  avg_sales_lag12  \\\n",
       "53              1.000000                   1             1.00   \n",
       "54              1.097119                   6             1.20   \n",
       "111             0.666667                   3             0.66   \n",
       "112             1.087939                   6             1.19   \n",
       "3392           13.800000                   5           104.82   \n",
       "\n",
       "      avg_purchases_lag12  active_months_lag12  category_4  city_id state_id  \\\n",
       "53               1.000000                    1           N      231        9   \n",
       "54               1.190741                   12           N      231        9   \n",
       "111              0.666667                    3           Y       -1       -1   \n",
       "112              0.997021                   12           Y       -1       -1   \n",
       "3392            13.800000                    5           N       51       16   \n",
       "\n",
       "      category_2  \n",
       "53           1.0  \n",
       "54           1.0  \n",
       "111          NaN  \n",
       "112          NaN  \n",
       "3392         1.0  \n",
       "\n",
       "[5 rows x 22 columns]"
      ]
     },
     "execution_count": 25,
     "metadata": {},
     "output_type": "execute_result"
    }
   ],
   "source": [
    "mer[idx].head()"
   ]
  },
  {
   "cell_type": "code",
   "execution_count": null,
   "metadata": {},
   "outputs": [],
   "source": []
  }
 ],
 "metadata": {
  "kernelspec": {
   "display_name": "Python 3",
   "language": "python",
   "name": "python3"
  },
  "language_info": {
   "codemirror_mode": {
    "name": "ipython",
    "version": 3
   },
   "file_extension": ".py",
   "mimetype": "text/x-python",
   "name": "python",
   "nbconvert_exporter": "python",
   "pygments_lexer": "ipython3",
   "version": "3.7.1"
  }
 },
 "nbformat": 4,
 "nbformat_minor": 2
}
