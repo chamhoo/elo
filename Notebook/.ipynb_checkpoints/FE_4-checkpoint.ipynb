{
 "cells": [
  {
   "cell_type": "markdown",
   "metadata": {},
   "source": [
    "# Feature Engineering 7\n",
    "***\n",
    "我们这回使用一个更加精巧的方法吧"
   ]
  },
  {
   "cell_type": "code",
   "execution_count": 18,
   "metadata": {},
   "outputs": [
    {
     "name": "stdout",
     "output_type": "stream",
     "text": [
      "The autoreload extension is already loaded. To reload it, use:\n",
      "  %reload_ext autoreload\n"
     ]
    }
   ],
   "source": [
    "%load_ext autoreload\n",
    "%autoreload 2\n",
    "\n",
    "import gc\n",
    "import sys\n",
    "import time\n",
    "import pandas as pd\n",
    "import numpy as np\n",
    "from datetime import datetime\n",
    "from scipy.stats import mode\n",
    "from sklearn.preprocessing import LabelEncoder\n",
    "import matplotlib.pyplot as plt\n",
    "%matplotlib inline\n",
    "\n",
    "import warnings\n",
    "warnings.filterwarnings('ignore')\n",
    "\n",
    "sys.path.append('/root/code/elo/Tools/')\n",
    "from tools import *"
   ]
  },
  {
   "cell_type": "code",
   "execution_count": 2,
   "metadata": {},
   "outputs": [],
   "source": [
    "new = pd.read_csv('/root/data/new_merchant_transactions.csv')\n",
    "his = pd.read_csv('/root/data/historical_transactions.csv')\n",
    "train = pd.read_csv('/root/data/train.csv')\n",
    "test = pd.read_csv('/root/data/test.csv')"
   ]
  },
  {
   "cell_type": "code",
   "execution_count": 3,
   "metadata": {},
   "outputs": [],
   "source": [
    "def cal_mode(serise):\n",
    "    return serise.mode()[0]"
   ]
  },
  {
   "cell_type": "code",
   "execution_count": 5,
   "metadata": {},
   "outputs": [],
   "source": [
    "#对 his 与 new 的时间数据进行处理，创建特征该次交易距离起始时间的days\n",
    "his['purchase_date'] = pd.to_datetime(his.purchase_date)\n",
    "new['purchase_date'] = pd.to_datetime(new.purchase_date)\n",
    "\n",
    "startime = his.purchase_date.min()\n",
    "\n",
    "his['days_to_start'] = (his.purchase_date - startime).dt.days\n",
    "new['days_to_start'] = (new.purchase_date - startime).dt.days\n"
   ]
  },
  {
   "cell_type": "code",
   "execution_count": 6,
   "metadata": {},
   "outputs": [],
   "source": [
    "# authorized_flag\n",
    "\n",
    "his.category_2.fillna(0, inplace=True)\n",
    "his.category_3.fillna('D', inplace=True)\n",
    "his.merchant_id.fillna('NaN', inplace=True)\n",
    "\n",
    "\n",
    "new.category_2.fillna(0, inplace=True)\n",
    "new.category_3.fillna('D', inplace=True)\n",
    "new.merchant_id.fillna('NaN', inplace=True)\n",
    "\n",
    "\n",
    "new['authorized_flag'] = new.authorized_flag.map({'N':0,'Y':1})\n",
    "his['authorized_flag'] = his.authorized_flag.map({'N':0,'Y':1})\n",
    "\n",
    "agg = {\n",
    "    'authorized_flag':['count', 'mean', 'sum']\n",
    "}\n",
    "auth_flag = his.groupby('card_id').agg(agg)\n",
    "auth_flag.columns = ['_'.join(col).strip() for col in auth_flag.columns.values]\n",
    "auth_flag.reset_index(inplace=True)\n"
   ]
  },
  {
   "cell_type": "code",
   "execution_count": 21,
   "metadata": {},
   "outputs": [
    {
     "data": {
      "text/plain": [
       "17597"
      ]
     },
     "execution_count": 21,
     "metadata": {},
     "output_type": "execute_result"
    }
   ],
   "source": [
    "agg = {'authorized_flag': ['mean', 'count']}\n",
    "flag_month = his.groupby(['card_id', 'month_lag']).agg(agg)\n",
    "flag_month.columns = ['_'.join(col).strip() for col in flag_month.columns.values]\n",
    "flag_month.reset_index(inplace=True)\n",
    "\n",
    "# 找到对于每id来说，距离评估日最后的月成交数量与成交率\n",
    "col_idx = ['authorized_flag_mean', 'authorized_flag_count']\n",
    "row_idx = flag_month.groupby('card_id').month_lag.apply(lambda x: x.idxmax()).values\n",
    "final = flag_month.loc[row_idx,col_idx].reset_index(drop=True)\n",
    "final.columns = ['final_authorized_flag_mean', 'final_authorized_flag_count']\n",
    "\n",
    "\n",
    "# 找到对于每id来说，最开始的月成交数量与成交率\n",
    "col_idx = ['authorized_flag_mean', 'authorized_flag_count']\n",
    "row_idx = flag_month.groupby('card_id').month_lag.apply(lambda x: x.idxmin()).values\n",
    "start = flag_month.loc[row_idx,col_idx].reset_index(drop=True)\n",
    "start.columns = ['start_authorized_flag_mean', 'start_authorized_flag_count']\n",
    "\n",
    "\n",
    "auth_flag['final_start_authorized_flag_count_percent'] = final.final_authorized_flag_count / start.start_authorized_flag_count\n",
    "auth_flag['final_start_start_authorized_flag_mean_minues'] = final.final_authorized_flag_mean - start.start_authorized_flag_mean\n",
    "del col_idx, row_idx, flag_month, final, start; gc.collect()"
   ]
  },
  {
   "cell_type": "code",
   "execution_count": 8,
   "metadata": {},
   "outputs": [],
   "source": [
    "def agg_dataframe(df):\n",
    "    \n",
    "    df['category_1'] = df.category_1.map({'N':0, 'Y':1})\n",
    "    df = pd.get_dummies(df, columns=['category_2', 'category_3'])\n",
    "    df['log_amount'] = np.log(df.purchase_amount+0.75)\n",
    "\n",
    "    df['month_diff'] = ((datetime.today() - df['purchase_date']).dt.days)//30\n",
    "    df['month_diff'] += df['month_lag']\n",
    "    df['dayofweek'] = df.purchase_date.apply(lambda t: t.dayofweek)\n",
    "    df['month'] = df.purchase_date.apply(lambda t: t.month)\n",
    "    \n",
    "    agg = {\n",
    "        'city_id': ['nunique', cal_mode],\n",
    "        'category_1': ['mean', 'count'],\n",
    "        'merchant_category_id': ['nunique', cal_mode],\n",
    "        'merchant_id': ['nunique', cal_mode],\n",
    "        'state_id': ['nunique', cal_mode],\n",
    "        'subsector_id': ['nunique', cal_mode],\n",
    "        'installments': ['mean', 'max', 'min', 'std'],\n",
    "        'category_2_0.0': ['mean'],\n",
    "        'category_2_1.0': ['mean'],\n",
    "        'category_2_2.0': ['mean'],\n",
    "        'category_2_3.0': ['mean'],\n",
    "        'category_2_4.0': ['mean'],\n",
    "        'category_2_5.0': ['mean'],\n",
    "        'category_3_A': ['mean'],\n",
    "        'category_3_B': ['mean'],\n",
    "        'category_3_C': ['mean'],\n",
    "        'category_3_D': ['mean'],\n",
    "        'month_lag': ['min', 'max', np.ptp, 'std'],\n",
    "        'days_to_start': [np.ptp, 'min', 'max'],\n",
    "        'purchase_amount': ['sum', 'mean', 'max', 'min', 'std'],\n",
    "        'log_amount': ['mean', 'max', 'min', 'std'],\n",
    "        'month_diff': ['mean', 'max', 'min', 'std'],\n",
    "        'dayofweek': [cal_mode, 'nunique', 'std'],\n",
    "        'month': ['std']\n",
    "    }\n",
    "    agg_df = df.groupby(['card_id']).agg(agg)\n",
    "    agg_df.columns = ['_'.join(col).strip() for col in agg_df.columns.values]\n",
    "    agg_df.reset_index(inplace=True)\n",
    "    \n",
    "    return agg_df"
   ]
  },
  {
   "cell_type": "code",
   "execution_count": 9,
   "metadata": {},
   "outputs": [],
   "source": [
    "agg_his = agg_dataframe(his)\n",
    "agg_his.columns = ['his_' + c if c != 'card_id' else c for c in agg_his.columns]\n",
    "agg_new = agg_dataframe(new)\n",
    "agg_new.columns = ['new_' + c if c != 'card_id' else c for c in agg_new.columns]"
   ]
  },
  {
   "cell_type": "code",
   "execution_count": 22,
   "metadata": {},
   "outputs": [],
   "source": [
    "train = pd.merge(train, auth_flag, on='card_id', how='left')\n",
    "train = pd.merge(train, agg_his, on='card_id', how='left')\n",
    "train = pd.merge(train, agg_new, on='card_id', how='left')\n",
    "\n",
    "test = pd.merge(test, auth_flag, on='card_id', how='left')\n",
    "test = pd.merge(test, agg_his, on='card_id', how='left')\n",
    "test = pd.merge(test, agg_new, on='card_id', how='left')"
   ]
  },
  {
   "cell_type": "code",
   "execution_count": 23,
   "metadata": {},
   "outputs": [],
   "source": [
    "train['first_active_month'] = (pd.to_datetime(train['first_active_month']) - startime).dt.days\n",
    "test['first_active_month'] = (pd.to_datetime(test['first_active_month']) - startime).dt.days"
   ]
  },
  {
   "cell_type": "code",
   "execution_count": 24,
   "metadata": {},
   "outputs": [],
   "source": [
    "train.fillna(0, inplace=True)\n",
    "test.fillna(0, inplace=True)"
   ]
  },
  {
   "cell_type": "code",
   "execution_count": 25,
   "metadata": {},
   "outputs": [],
   "source": [
    "str_label = [\n",
    "    'his_merchant_id_cal_mode',\n",
    "    'new_merchant_id_cal_mode'\n",
    "]\n",
    "for i in str_label:\n",
    "    le = LabelEncoder()\n",
    "    unique = train[i].append(test[i]).unique().tolist()\n",
    "    le.fit(unique)\n",
    "    train[i] = le.transform(train[i].tolist())\n",
    "    test[i] = le.transform(test[i].tolist())"
   ]
  },
  {
   "cell_type": "code",
   "execution_count": 26,
   "metadata": {},
   "outputs": [],
   "source": [
    "train.to_csv('/root/tempfile/train_final121107.csv',index=False)\n",
    "test.to_csv('/root/tempfile/test_final121107.csv',index=False)"
   ]
  }
 ],
 "metadata": {
  "kernelspec": {
   "display_name": "Python 3",
   "language": "python",
   "name": "python3"
  },
  "language_info": {
   "codemirror_mode": {
    "name": "ipython",
    "version": 3
   },
   "file_extension": ".py",
   "mimetype": "text/x-python",
   "name": "python",
   "nbconvert_exporter": "python",
   "pygments_lexer": "ipython3",
   "version": "3.7.1"
  }
 },
 "nbformat": 4,
 "nbformat_minor": 2
}
