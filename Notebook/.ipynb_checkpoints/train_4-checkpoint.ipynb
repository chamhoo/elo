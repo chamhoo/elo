{
 "cells": [
  {
   "cell_type": "code",
   "execution_count": 1,
   "metadata": {},
   "outputs": [],
   "source": [
    "import pandas as pd\n",
    "import numpy as np\n",
    "import matplotlib.pyplot as plt\n",
    "from mpl_toolkits.mplot3d import Axes3D\n",
    "import lightgbm as lgb\n",
    "from sklearn.model_selection import GridSearchCV\n",
    "from sklearn.preprocessing import LabelEncoder\n",
    "from sklearn.model_selection import train_test_split"
   ]
  },
  {
   "cell_type": "code",
   "execution_count": 2,
   "metadata": {},
   "outputs": [],
   "source": [
    "train_df = pd.read_csv('/root/tempfile/train_final121702.csv')\n",
    "test_df = pd.read_csv('/root/tempfile/test_final121702.csv')"
   ]
  },
  {
   "cell_type": "code",
   "execution_count": 3,
   "metadata": {},
   "outputs": [
    {
     "name": "stdout",
     "output_type": "stream",
     "text": [
      "(199710, 481) (123623, 480)\n"
     ]
    }
   ],
   "source": [
    "print(train_df.shape, test_df.shape)"
   ]
  },
  {
   "cell_type": "code",
   "execution_count": 4,
   "metadata": {},
   "outputs": [],
   "source": [
    "feature_col = [x for x in train_df.columns if x not in ['card_id','target']]\n",
    "testindex = test_df.card_id\n",
    "\n",
    "y_train = train_df.target.values.astype('float')\n",
    "x_train = train_df[feature_col].values.astype('float')\n",
    "x_test = test_df[feature_col].values.astype('float')\n",
    "\n",
    "del train_df, test_df"
   ]
  },
  {
   "cell_type": "code",
   "execution_count": 5,
   "metadata": {},
   "outputs": [],
   "source": [
    "str_label = [\n",
    "    'auth_city_id_cal_mode',\n",
    "    'auth_merchant_category_id_cal_mode', \n",
    "    'auth_merchant_id_cal_mode',\n",
    "    'feature_1',\n",
    "    'feature_2',\n",
    "    'feature_3', \n",
    "    'new_city_id_cal_mode', \n",
    "    'new_merchant_category_id_cal_mode',\n",
    "    'new_merchant_id_cal_mode', \n",
    "    'unauth_city_id_cal_mode', \n",
    "    'unauth_merchant_category_id_cal_mode', \n",
    "    'unauth_merchant_id_cal_mode'\n",
    "]\n"
   ]
  },
  {
   "cell_type": "code",
   "execution_count": 6,
   "metadata": {},
   "outputs": [],
   "source": [
    "lgb_model = lgb.LGBMRegressor(objective='regression',\n",
    "                              min_data_in_leaf=20,\n",
    "                              num_leaves=50,\n",
    "                              learning_rate=0.1, \n",
    "                              max_depth=8,\n",
    "                              bagging_fraction = 0.8,\n",
    "                              feature_fraction = 0.8,\n",
    "                              num_threads=4)"
   ]
  },
  {
   "cell_type": "code",
   "execution_count": 12,
   "metadata": {},
   "outputs": [
    {
     "name": "stdout",
     "output_type": "stream",
     "text": [
      "Fitting 5 folds for each of 60 candidates, totalling 300 fits\n"
     ]
    },
    {
     "name": "stderr",
     "output_type": "stream",
     "text": [
      "[Parallel(n_jobs=2)]: Using backend LokyBackend with 2 concurrent workers.\n",
      "[Parallel(n_jobs=2)]: Done  46 tasks      | elapsed: 14.8min\n",
      "[Parallel(n_jobs=2)]: Done 196 tasks      | elapsed: 61.8min\n",
      "[Parallel(n_jobs=2)]: Done 300 out of 300 | elapsed: 95.9min finished\n"
     ]
    }
   ],
   "source": [
    "params_test1={\n",
    "    'max_depth': range(9,11,1),\n",
    "    'num_leaves': range(120, 180, 20),\n",
    "    'min_data_in_leaf': range(100,300,20)\n",
    "}\n",
    "gsearch1 = GridSearchCV(estimator=lgb_model, \n",
    "                        param_grid=params_test1,\n",
    "                        scoring='neg_mean_squared_error', \n",
    "                        cv=5,\n",
    "                        verbose=1, \n",
    "                        n_jobs=2)\n",
    "\n",
    "gs1 = gsearch1.fit(x_train, y_train)"
   ]
  },
  {
   "cell_type": "code",
   "execution_count": 13,
   "metadata": {},
   "outputs": [
    {
     "name": "stdout",
     "output_type": "stream",
     "text": [
      "{'max_depth': 10, 'min_data_in_leaf': 280, 'num_leaves': 120} -2.4260136648237998\n"
     ]
    }
   ],
   "source": [
    "print(gs1.best_params_, gs1.best_score_)"
   ]
  },
  {
   "cell_type": "code",
   "execution_count": 14,
   "metadata": {},
   "outputs": [
    {
     "name": "stdout",
     "output_type": "stream",
     "text": [
      "Fitting 5 folds for each of 108 candidates, totalling 540 fits\n"
     ]
    },
    {
     "name": "stderr",
     "output_type": "stream",
     "text": [
      "[Parallel(n_jobs=2)]: Using backend LokyBackend with 2 concurrent workers.\n",
      "[Parallel(n_jobs=2)]: Done  46 tasks      | elapsed: 12.5min\n",
      "[Parallel(n_jobs=2)]: Done 196 tasks      | elapsed: 52.7min\n",
      "[Parallel(n_jobs=2)]: Done 446 tasks      | elapsed: 129.3min\n",
      "[Parallel(n_jobs=2)]: Done 540 out of 540 | elapsed: 159.1min finished\n"
     ]
    }
   ],
   "source": [
    "params_test2={\n",
    "    'max_depth': range(8,11,1),\n",
    "    'num_leaves': range(90, 210, 20),\n",
    "    'min_data_in_leaf': range(190,300,20)\n",
    "}\n",
    "gsearch2 = GridSearchCV(estimator=lgb_model, \n",
    "                        param_grid=params_test2,\n",
    "                        scoring='neg_mean_squared_error', \n",
    "                        cv=5,\n",
    "                        verbose=1, \n",
    "                        n_jobs=2)\n",
    "\n",
    "gs2 = gsearch2.fit(x_train, y_train)"
   ]
  },
  {
   "cell_type": "code",
   "execution_count": 15,
   "metadata": {},
   "outputs": [
    {
     "name": "stdout",
     "output_type": "stream",
     "text": [
      "{'max_depth': 9, 'min_data_in_leaf': 290, 'num_leaves': 110} -2.424251742856599\n"
     ]
    }
   ],
   "source": [
    "print(gs2.best_params_, gs2.best_score_)"
   ]
  },
  {
   "cell_type": "code",
   "execution_count": 26,
   "metadata": {},
   "outputs": [
    {
     "data": {
      "text/plain": [
       "dict_keys(['mean_fit_time', 'std_fit_time', 'mean_score_time', 'std_score_time', 'param_max_depth', 'param_min_data_in_leaf', 'param_num_leaves', 'params', 'split0_test_score', 'split1_test_score', 'split2_test_score', 'split3_test_score', 'split4_test_score', 'mean_test_score', 'std_test_score', 'rank_test_score', 'split0_train_score', 'split1_train_score', 'split2_train_score', 'split3_train_score', 'split4_train_score', 'mean_train_score', 'std_train_score'])"
      ]
     },
     "execution_count": 26,
     "metadata": {},
     "output_type": "execute_result"
    }
   ],
   "source": [
    "gs2.cv_results_.keys()"
   ]
  },
  {
   "cell_type": "code",
   "execution_count": 67,
   "metadata": {},
   "outputs": [
    {
     "name": "stdout",
     "output_type": "stream",
     "text": [
      "Fitting 5 folds for each of 135 candidates, totalling 675 fits\n"
     ]
    },
    {
     "name": "stderr",
     "output_type": "stream",
     "text": [
      "[Parallel(n_jobs=2)]: Using backend LokyBackend with 2 concurrent workers.\n",
      "[Parallel(n_jobs=2)]: Done  46 tasks      | elapsed: 13.3min\n",
      "[Parallel(n_jobs=2)]: Done 196 tasks      | elapsed: 56.7min\n",
      "[Parallel(n_jobs=2)]: Done 446 tasks      | elapsed: 128.3min\n",
      "[Parallel(n_jobs=2)]: Done 675 out of 675 | elapsed: 193.1min finished\n"
     ]
    }
   ],
   "source": [
    "params_test3={\n",
    "    'max_depth': [9],\n",
    "    'num_leaves': range(90, 131, 5),\n",
    "    'min_data_in_leaf': range(270,341, 5)\n",
    "}\n",
    "gsearch3 = GridSearchCV(estimator=lgb_model, \n",
    "                        param_grid=params_test3,\n",
    "                        scoring='neg_mean_squared_error', \n",
    "                        cv=5,\n",
    "                        verbose=1, \n",
    "                        n_jobs=2)\n",
    "\n",
    "gs3 = gsearch3.fit(x_train, y_train)"
   ]
  },
  {
   "cell_type": "code",
   "execution_count": 68,
   "metadata": {},
   "outputs": [
    {
     "name": "stdout",
     "output_type": "stream",
     "text": [
      "{'max_depth': 9, 'min_data_in_leaf': 290, 'num_leaves': 110} -2.424251742856599\n"
     ]
    }
   ],
   "source": [
    "print(gs3.best_params_, gs3.best_score_)"
   ]
  },
  {
   "cell_type": "code",
   "execution_count": 77,
   "metadata": {},
   "outputs": [
    {
     "data": {
      "text/plain": [
       "array([-2.42537944, -2.42672743, -2.4263556 , -2.42703581, -2.42750174,\n",
       "       -2.42543779, -2.42741712, -2.42802904, -2.42821529, -2.42774088,\n",
       "       -2.42666973, -2.42715992, -2.42688314, -2.4259147 , -2.42806232,\n",
       "       -2.42785071, -2.42683725, -2.42534773, -2.42614322, -2.4274158 ,\n",
       "       -2.42455651, -2.42648201, -2.42721139, -2.42685238, -2.42788002,\n",
       "       -2.42818259, -2.42771749, -2.4268317 , -2.42647517, -2.4267938 ,\n",
       "       -2.42445935, -2.42762039, -2.42742672, -2.42842136, -2.42897762,\n",
       "       -2.42875827, -2.42694511, -2.42750008, -2.42717252, -2.42688905,\n",
       "       -2.42425174, -2.42870704, -2.42843688, -2.42849466, -2.42627763,\n",
       "       -2.42657916, -2.42796088, -2.42616613, -2.42509586, -2.42582779,\n",
       "       -2.42539525, -2.42835499, -2.42610689, -2.42551411, -2.42641857,\n",
       "       -2.42681655, -2.42661236, -2.42653385, -2.42722264, -2.42699507,\n",
       "       -2.42981406, -2.42745019, -2.4261826 , -2.42572372, -2.42620338,\n",
       "       -2.42685872, -2.42567469, -2.42596692, -2.42818838, -2.42724229,\n",
       "       -2.42710259, -2.42750665, -2.42514952, -2.42671855, -2.42732896,\n",
       "       -2.42762253, -2.42586088, -2.4277802 , -2.42777934, -2.42731404,\n",
       "       -2.42685344, -2.42644115, -2.42549591, -2.42753611, -2.42662156,\n",
       "       -2.42587394, -2.42613567, -2.42725214, -2.42657278, -2.4277045 ,\n",
       "       -2.42681667, -2.42552915, -2.42682057, -2.42708957, -2.425322  ,\n",
       "       -2.42676708, -2.42583466, -2.42727341, -2.42644283, -2.42635952,\n",
       "       -2.42511374, -2.42768851, -2.42643432, -2.42623684, -2.42767709,\n",
       "       -2.42711487, -2.4261378 , -2.42738574, -2.42532818, -2.42570516,\n",
       "       -2.42700793, -2.4263103 , -2.42705833, -2.42642163, -2.42758104,\n",
       "       -2.42569648, -2.42666555, -2.42574396, -2.42432601, -2.42639607,\n",
       "       -2.42577751, -2.42844431, -2.42727907, -2.4273442 , -2.4273466 ,\n",
       "       -2.42747915, -2.4258096 , -2.42580378, -2.42546792, -2.42537629,\n",
       "       -2.42631699, -2.42621607, -2.42721084, -2.42688812, -2.42540426])"
      ]
     },
     "execution_count": 77,
     "metadata": {},
     "output_type": "execute_result"
    }
   ],
   "source": [
    "gs3.cv_results_['mean_test_score']"
   ]
  },
  {
   "cell_type": "code",
   "execution_count": 7,
   "metadata": {},
   "outputs": [
    {
     "name": "stdout",
     "output_type": "stream",
     "text": [
      "Fitting 5 folds for each of 25 candidates, totalling 125 fits\n"
     ]
    },
    {
     "name": "stderr",
     "output_type": "stream",
     "text": [
      "[Parallel(n_jobs=2)]: Using backend LokyBackend with 2 concurrent workers.\n",
      "[Parallel(n_jobs=2)]: Done  46 tasks      | elapsed: 12.9min\n",
      "[Parallel(n_jobs=2)]: Done 125 out of 125 | elapsed: 35.0min finished\n"
     ]
    }
   ],
   "source": [
    "params_test4={\n",
    "    'max_depth': [9],\n",
    "    'num_leaves': range(93, 98, 1),\n",
    "    'min_data_in_leaf': range(333, 338, 1)\n",
    "}\n",
    "gsearch4 = GridSearchCV(estimator=lgb_model, \n",
    "                        param_grid=params_test4,\n",
    "                        scoring='neg_mean_squared_error', \n",
    "                        cv=5,\n",
    "                        verbose=1, \n",
    "                        n_jobs=2)\n",
    "\n",
    "gs4 = gsearch4.fit(x_train, y_train)"
   ]
  },
  {
   "cell_type": "code",
   "execution_count": 8,
   "metadata": {},
   "outputs": [
    {
     "name": "stdout",
     "output_type": "stream",
     "text": [
      "{'max_depth': 9, 'min_data_in_leaf': 337, 'num_leaves': 95} -2.423977833190758\n"
     ]
    }
   ],
   "source": [
    "print(gs4.best_params_, gs4.best_score_)"
   ]
  },
  {
   "cell_type": "code",
   "execution_count": 9,
   "metadata": {},
   "outputs": [
    {
     "data": {
      "text/plain": [
       "array([-2.42674247, -2.4255113 , -2.42752359, -2.42559661, -2.42664298,\n",
       "       -2.42449182, -2.42698194, -2.42506807, -2.42561108, -2.42598433,\n",
       "       -2.42600035, -2.42618394, -2.42432601, -2.42694565, -2.42599039,\n",
       "       -2.42603374, -2.4268669 , -2.42536598, -2.4270285 , -2.42654753,\n",
       "       -2.42624308, -2.42518768, -2.42397783, -2.42716676, -2.42547101])"
      ]
     },
     "execution_count": 9,
     "metadata": {},
     "output_type": "execute_result"
    }
   ],
   "source": [
    "gs4.cv_results_['mean_test_score']"
   ]
  },
  {
   "cell_type": "code",
   "execution_count": 8,
   "metadata": {},
   "outputs": [
    {
     "name": "stdout",
     "output_type": "stream",
     "text": [
      "Fitting 5 folds for each of 25 candidates, totalling 125 fits\n"
     ]
    },
    {
     "name": "stderr",
     "output_type": "stream",
     "text": [
      "[Parallel(n_jobs=2)]: Using backend LokyBackend with 2 concurrent workers.\n",
      "[Parallel(n_jobs=2)]: Done  46 tasks      | elapsed: 11.8min\n",
      "[Parallel(n_jobs=2)]: Done 125 out of 125 | elapsed: 32.4min finished\n"
     ]
    }
   ],
   "source": [
    "params_test5 = {\n",
    "    'max_depth': [9],\n",
    "    'num_leaves': [95],\n",
    "    'min_data_in_leaf': [337],\n",
    "    'feature_fraction': [0.5, 0.6, 0.7, 0.8, 0.9],  \n",
    "    'bagging_fraction': [0.6, 0.7, 0.8, 0.9, 1.0]\n",
    "}\n",
    "gsearch5 = GridSearchCV(estimator=lgb_model, \n",
    "                        param_grid=params_test5,\n",
    "                        scoring='neg_mean_squared_error', \n",
    "                        cv=5,\n",
    "                        verbose=1, \n",
    "                        n_jobs=2)\n",
    "\n",
    "gs5 = gsearch5.fit(x_train, y_train)"
   ]
  },
  {
   "cell_type": "code",
   "execution_count": 9,
   "metadata": {},
   "outputs": [
    {
     "name": "stdout",
     "output_type": "stream",
     "text": [
      "{'bagging_fraction': 0.6, 'feature_fraction': 0.8, 'max_depth': 9, 'min_data_in_leaf': 337, 'num_leaves': 95} -2.423977833190758\n"
     ]
    }
   ],
   "source": [
    "print(gs5.best_params_, gs5.best_score_)"
   ]
  },
  {
   "cell_type": "code",
   "execution_count": null,
   "metadata": {},
   "outputs": [],
   "source": []
  }
 ],
 "metadata": {
  "kernelspec": {
   "display_name": "Python 3",
   "language": "python",
   "name": "python3"
  },
  "language_info": {
   "codemirror_mode": {
    "name": "ipython",
    "version": 3
   },
   "file_extension": ".py",
   "mimetype": "text/x-python",
   "name": "python",
   "nbconvert_exporter": "python",
   "pygments_lexer": "ipython3",
   "version": "3.7.1"
  }
 },
 "nbformat": 4,
 "nbformat_minor": 2
}
