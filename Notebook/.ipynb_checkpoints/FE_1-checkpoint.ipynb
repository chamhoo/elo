{
 "cells": [
  {
   "cell_type": "markdown",
   "metadata": {},
   "source": [
    "# Feature Engineering 1\n",
    "* * *\n",
    "这个 **FE** 中，经过之前的 **DEA** 分析，我们可以看到new与his两个文件的区别，仅仅是以2018年2月为节点，在此之前的归入his文件，在此之后的划入new中，所以，我们可以合并两个文件。并且，针对这个新的数据集，我们将作以下变换：         \n",
    "**authorized_flag**我们将bool化该特征，并求出其count与mean。因为其值的不同预示着交易是否成功，所以推荐将 'N' 与 'Y' 分开成两个数据集。   \n",
    "\n",
    "**city_id** nunqiue, mode   \n",
    "**merchant_category_id** nunique，mode          \n",
    "**merchant_id** nunique，mode          \n",
    "**state_id** nunique, mode\n",
    "**subsector_id** nunique, mode     \n",
    "\n",
    "**category_1** bool化，mean，count               \n",
    "**installments** 'sum', 'mean', 'max', 'min', 'std'           \n",
    "**category_3** 展开之后，mean  \n",
    "**category_2** 展开之后，mean  \n",
    "**month_lag**        \n",
    "    首先创建**month_min**，用来衡量首次使用距离统计起始日的月份，        \n",
    "    **month_max**,用来衡量最后一次使用距离统计起始日的月份，         \n",
    "    **month_ptp**,用来衡量月份的跨度       \n",
    "    **month_std**,用来衡量月份的方差     \n",
    "    **month_diff**\n",
    "**purchase_amount** 'sum', 'mean', 'max', 'min', 'std'           \n",
    "**trans_purchase_amount = np.log(purchase_amount+0.75)** 'sum', 'mean', 'max', 'min', 'std'            \n",
    "**purchase_date** 从中分离出来 dayofweek mode std，      \n",
    "                  month std         \n",
    "        \n",
    "\n",
    " \n",
    "    "
   ]
  },
  {
   "cell_type": "code",
   "execution_count": 1,
   "metadata": {},
   "outputs": [],
   "source": [
    "%load_ext autoreload\n",
    "%autoreload 2\n",
    "\n",
    "import sys\n",
    "import time\n",
    "import pandas as pd\n",
    "import numpy as np\n",
    "from datetime import datetime\n",
    "from scipy.stats import mode\n",
    "import matplotlib.pyplot as plt\n",
    "%matplotlib inline\n",
    "\n",
    "import warnings\n",
    "warnings.filterwarnings('ignore')\n",
    "\n",
    "sys.path.append('/root/code/elo/Tools/')\n",
    "from tools import *"
   ]
  },
  {
   "cell_type": "code",
   "execution_count": 2,
   "metadata": {},
   "outputs": [],
   "source": [
    "new = pd.read_csv('/root/data/new_merchant_transactions.csv')\n",
    "his = pd.read_csv('/root/data/historical_transactions.csv')\n",
    "train = pd.read_csv('/root/data/train.csv')\n",
    "test = pd.read_csv('/root/data/test.csv')"
   ]
  },
  {
   "cell_type": "code",
   "execution_count": 3,
   "metadata": {},
   "outputs": [],
   "source": [
    "def cal_mode(serise):\n",
    "    return serise.mode()[0]"
   ]
  },
  {
   "cell_type": "code",
   "execution_count": 4,
   "metadata": {},
   "outputs": [],
   "source": [
    "# authorized_flag\n",
    "\n",
    "\n",
    "total = pd.concat([his, new]).reset_index(drop=True)\n",
    "total.category_2.fillna(0, inplace=True)\n",
    "total.category_3.fillna('D', inplace=True)\n",
    "total.merchant_id.fillna('NaN', inplace=True)\n",
    "\n",
    "\n",
    "total['authorized_flag'] = total.authorized_flag.map({'N':0,'Y':1})\n",
    "auth = total[total['authorized_flag'] == 1]\n",
    "unauth = total[total['authorized_flag'] == 0]\n",
    "\n",
    "\n",
    "agg = {\n",
    "    'authorized_flag':['count', 'mean', 'sum']\n",
    "}\n",
    "auth_flag = total.groupby('card_id').agg(agg)\n",
    "auth_flag.columns = ['_'.join(col).strip() for col in auth_flag.columns.values]\n",
    "auth_flag.reset_index(inplace=True)"
   ]
  },
  {
   "cell_type": "code",
   "execution_count": 5,
   "metadata": {},
   "outputs": [],
   "source": [
    "del total, his, new"
   ]
  },
  {
   "cell_type": "code",
   "execution_count": 6,
   "metadata": {},
   "outputs": [],
   "source": [
    "def agg_dataframe(df):\n",
    "    \n",
    "    df['category_1'] = df.category_1.map({'N':0, 'Y':1})\n",
    "    df = pd.get_dummies(df, columns=['category_2', 'category_3'])\n",
    "    df['log_amount'] = np.log(df.purchase_amount+0.75)\n",
    "    \n",
    "    df['purchase_date'] = pd.to_datetime(df.purchase_date)\n",
    "    df['month_diff'] = ((datetime.today() - df['purchase_date']).dt.days)//30\n",
    "    df['month_diff'] += df['month_lag']\n",
    "    df['dayofweek'] = df.purchase_date.apply(lambda t: t.dayofweek)\n",
    "    df['month'] = df.purchase_date.apply(lambda t: t.month)\n",
    "    \n",
    "    agg = {\n",
    "        'city_id': ['nunique', cal_mode],\n",
    "        'category_1': ['mean', 'count'],\n",
    "        'merchant_category_id': ['nunique', cal_mode],\n",
    "        'merchant_id': ['nunique', cal_mode],\n",
    "        'state_id': ['nunique', cal_mode],\n",
    "        'subsector_id': ['nunique', cal_mode],\n",
    "        'installments': ['sum', 'mean', 'max', 'min', 'std'],\n",
    "        'category_2_0.0': ['mean'],\n",
    "        'category_2_1.0': ['mean'],\n",
    "        'category_2_2.0': ['mean'],\n",
    "        'category_2_3.0': ['mean'],\n",
    "        'category_2_4.0': ['mean'],\n",
    "        'category_2_5.0': ['mean'],\n",
    "        'category_3_A': ['mean'],\n",
    "        'category_3_B': ['mean'],\n",
    "        'category_3_C': ['mean'],\n",
    "        'category_3_D': ['mean'],\n",
    "        'month_lag': ['min', 'max', np.ptp, 'std'],\n",
    "        'purchase_amount': ['sum', 'mean', 'max', 'min', 'std'],\n",
    "        'log_amount': ['sum', 'mean', 'max', 'min', 'std'],\n",
    "        'month_diff': ['mean'],\n",
    "        'dayofweek': [cal_mode, 'std'],\n",
    "        'month': ['std']\n",
    "    }\n",
    "    agg_df = df.groupby(['card_id']).agg(agg)\n",
    "    agg_df.columns = ['_'.join(col).strip() for col in agg_df.columns.values]\n",
    "    agg_df.reset_index(inplace=True)\n",
    "    \n",
    "    return agg_df"
   ]
  },
  {
   "cell_type": "code",
   "execution_count": 7,
   "metadata": {},
   "outputs": [],
   "source": [
    "agg_auth = agg_dataframe(auth)\n",
    "agg_auth.columns = ['auth_' + c if c != 'card_id' else c for c in agg_auth.columns]\n",
    "agg_unauth = agg_dataframe(unauth)\n",
    "agg_unauth.columns = ['unauth_' + c if c != 'card_id' else c for c in agg_unauth.columns]"
   ]
  },
  {
   "cell_type": "code",
   "execution_count": 10,
   "metadata": {},
   "outputs": [],
   "source": [
    "def per_month(df):\n",
    "    df['log_amount'] = np.log(df.purchase_amount+0.75)\n",
    "    agg = {\n",
    "        'purchase_amount': ['count', 'sum', 'mean', 'max', 'min', 'std'],\n",
    "        'installments': ['count', 'sum', 'mean', 'max', 'min', 'std'],\n",
    "        'log_amount': ['sum', 'mean', 'max', 'min', 'std']\n",
    "    }\n",
    "    df_month = df.groupby(['card_id', 'month_lag']).agg(agg)\n",
    "    df_month.columns = ['_'.join(col).strip() for col in df_month.columns.values]\n",
    "    df_month.reset_index(inplace=True)\n",
    "    \n",
    "    df_final = df_month.groupby('card_id').agg(['mean', 'std'])\n",
    "    df_final.columns = ['_'.join(col).strip() for col in df_final.columns.values]\n",
    "    df_final.reset_index(inplace=True)\n",
    "    \n",
    "    return df_final"
   ]
  },
  {
   "cell_type": "code",
   "execution_count": 11,
   "metadata": {},
   "outputs": [],
   "source": [
    "auth_final = per_month(auth)\n",
    "auth_final.columns = ['final_auth_' + c if c != 'card_id' else c for c in auth_final.columns]\n",
    "unauth_final = per_month(auth)\n",
    "unauth_final.columns = ['final_unauth_' + c if c != 'card_id' else c for c in unauth_final.columns]"
   ]
  },
  {
   "cell_type": "code",
   "execution_count": 12,
   "metadata": {},
   "outputs": [],
   "source": [
    "train = pd.merge(train, auth_flag, on='card_id', how='left')\n",
    "train = pd.merge(train, agg_auth, on='card_id', how='left')\n",
    "train = pd.merge(train, agg_unauth, on='card_id', how='left')\n",
    "train = pd.merge(train, auth_final, on='card_id', how='left')\n",
    "train = pd.merge(train, unauth_final, on='card_id', how='left')"
   ]
  },
  {
   "cell_type": "code",
   "execution_count": 13,
   "metadata": {},
   "outputs": [],
   "source": [
    "test = pd.merge(test, auth_flag, on='card_id', how='left')\n",
    "test = pd.merge(test, agg_auth, on='card_id', how='left')\n",
    "test = pd.merge(test, agg_unauth, on='card_id', how='left')\n",
    "test = pd.merge(test, auth_final, on='card_id', how='left')\n",
    "test = pd.merge(test, unauth_final, on='card_id', how='left')"
   ]
  },
  {
   "cell_type": "code",
   "execution_count": 23,
   "metadata": {},
   "outputs": [
    {
     "name": "stdout",
     "output_type": "stream",
     "text": [
      "first_active_month\n",
      "card_id\n",
      "auth_merchant_id_cal_mode\n",
      "unauth_merchant_id_cal_mode\n"
     ]
    }
   ],
   "source": [
    "for i in train.columns:\n",
    "    if train[i].dtype == object:\n",
    "        print(i)"
   ]
  },
  {
   "cell_type": "code",
   "execution_count": 18,
   "metadata": {},
   "outputs": [
    {
     "name": "stdout",
     "output_type": "stream",
     "text": [
      "<class 'pandas.core.frame.DataFrame'>\n",
      "Int64Index: 123623 entries, 0 to 123622\n",
      "Columns: 170 entries, first_active_month to final_unauth_log_amount_std_std\n",
      "dtypes: float64(144), int64(22), object(4)\n",
      "memory usage: 161.3+ MB\n"
     ]
    }
   ],
   "source": [
    "test.info()"
   ]
  },
  {
   "cell_type": "code",
   "execution_count": 24,
   "metadata": {},
   "outputs": [],
   "source": [
    "train.to_csv('/root/tempfile/train_final.csv')\n",
    "test.to_csv('/root/tempfile/test_final.csv')"
   ]
  }
 ],
 "metadata": {
  "kernelspec": {
   "display_name": "Python 3",
   "language": "python",
   "name": "python3"
  },
  "language_info": {
   "codemirror_mode": {
    "name": "ipython",
    "version": 3
   },
   "file_extension": ".py",
   "mimetype": "text/x-python",
   "name": "python",
   "nbconvert_exporter": "python",
   "pygments_lexer": "ipython3",
   "version": "3.7.0"
  }
 },
 "nbformat": 4,
 "nbformat_minor": 2
}
