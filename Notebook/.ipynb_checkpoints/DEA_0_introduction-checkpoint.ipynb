{
 "cells": [
  {
   "cell_type": "markdown",
   "metadata": {},
   "source": [
    "# introduction & content"
   ]
  },
  {
   "cell_type": "markdown",
   "metadata": {},
   "source": [
    "### File descriptions:\n",
    "\n",
    "**train.csv** - the training set   \n",
    "**test.csv** - the test set   \n",
    "**sample_submission.csv** - a sample submission file in the correct format - contains all card_ids you are expected to predict for.    \n",
    "**historical_transactions.csv** - up to 3 months' worth of historical transactions for each card_id    \n",
    "**merchants.csv** - additional information about all merchants / merchant_ids in the dataset.   \n",
    "**new_merchant_transactions.csv** - two months' worth of data for each card_id containing ALL purchases that card_id made at merchant_ids that were not visited in the historical data.    \n"
   ]
  },
  {
   "cell_type": "markdown",
   "metadata": {},
   "source": [
    "### merchants.csv\n",
    "  \n",
    "**merchant_id**\tUnique merchant identifier   \n",
    "**merchant_group_id**\tMerchant group (anonymized )   \n",
    "**merchant_category_id**\tUnique identifier for merchant category (anonymized )   \n",
    "**subsector_id**\tMerchant category group (anonymized )   \n",
    "**numerical_1**\tanonymized measure    \n",
    "**numerical_2**\tanonymized measure    \n",
    "**category_1**\tanonymized category     \n",
    "**most_recent_sales_range**\tRange of revenue (monetary units) in last active month --> A > B > C > D > E    \n",
    "**most_recent_purchases_range**\tRange of quantity of transactions in last active month --> A > B > C > D > E   \n",
    "**avg_sales_lag3**\tMonthly average of revenue in last 3 months divided by revenue in last active month    \n",
    "**avg_purchases_lag3**\tMonthly average of transactions in last 3 months divided by transactions in last active month   \n",
    "**active_months_lag3**\tQuantity of active months within last 3 months     \n",
    "**avg_sales_lag6**\tMonthly average of revenue in last 6 months divided by revenue in last active month     \n",
    "**avg_purchases_lag6**\tMonthly average of transactions in last 6 months divided by transactions in last active month    \n",
    "**active_months_lag6**\tQuantity of active months within last 6 months    \n",
    "**avg_sales_lag12**\tMonthly average of revenue in last 12 months divided by revenue in last active month    \n",
    "**avg_purchases_lag12**\tMonthly average of transactions in last 12 months divided by transactions in last active month     \n",
    "**active_months_lag12**\tQuantity of active months within last 12 months    \n",
    "**category_4**\tanonymized category    \n",
    "**city_id**\tCity identifier (anonymized )    \n",
    "**state_id**\tState identifier (anonymized )   \n",
    "**category_2**\tanonymized category     \n"
   ]
  },
  {
   "cell_type": "markdown",
   "metadata": {},
   "source": [
    "### 所以我们怎么做呢？"
   ]
  },
  {
   "cell_type": "markdown",
   "metadata": {},
   "source": []
  }
 ],
 "metadata": {
  "kernelspec": {
   "display_name": "Python 3",
   "language": "python",
   "name": "python3"
  },
  "language_info": {
   "codemirror_mode": {
    "name": "ipython",
    "version": 3
   },
   "file_extension": ".py",
   "mimetype": "text/x-python",
   "name": "python",
   "nbconvert_exporter": "python",
   "pygments_lexer": "ipython3",
   "version": "3.7.1"
  }
 },
 "nbformat": 4,
 "nbformat_minor": 2
}
