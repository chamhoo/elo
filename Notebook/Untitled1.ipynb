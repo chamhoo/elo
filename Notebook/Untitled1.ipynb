{
 "cells": [
  {
   "cell_type": "code",
   "execution_count": 1,
   "metadata": {},
   "outputs": [],
   "source": [
    "import pandas as pd\n",
    "import numpy as np"
   ]
  },
  {
   "cell_type": "code",
   "execution_count": 2,
   "metadata": {},
   "outputs": [],
   "source": [
    "train1 = pd.read_csv('/root/tempfile/train_final121201.csv')\n",
    "train2 = pd.read_csv('/root/tempfile/train_final122002.csv')"
   ]
  },
  {
   "cell_type": "code",
   "execution_count": 4,
   "metadata": {},
   "outputs": [
    {
     "name": "stdout",
     "output_type": "stream",
     "text": [
      "(201917, 191) (201917, 265)\n"
     ]
    }
   ],
   "source": [
    "print(train1.shape, train2.shape)"
   ]
  },
  {
   "cell_type": "code",
   "execution_count": 5,
   "metadata": {},
   "outputs": [],
   "source": [
    "for i in train1.columns:\n",
    "    if i not in train2.columns:\n",
    "        print(i)"
   ]
  },
  {
   "cell_type": "code",
   "execution_count": 7,
   "metadata": {},
   "outputs": [],
   "source": [
    "www= []\n",
    "for i in train2.columns:\n",
    "    if i not in train1.columns:\n",
    "        www.append(i)"
   ]
  },
  {
   "cell_type": "code",
   "execution_count": 8,
   "metadata": {},
   "outputs": [
    {
     "data": {
      "text/plain": [
       "['auth_installments_median',\n",
       " 'auth_month_lag_median',\n",
       " 'auth_purchase_amount_median',\n",
       " 'auth_log_amount_median',\n",
       " 'auth_month_diff_sum',\n",
       " 'auth_month_diff_max',\n",
       " 'auth_month_diff_min',\n",
       " 'auth_month_diff_std',\n",
       " 'auth_month_diff_median',\n",
       " 'unauth_installments_median',\n",
       " 'unauth_month_lag_median',\n",
       " 'unauth_purchase_amount_median',\n",
       " 'unauth_log_amount_median',\n",
       " 'unauth_month_diff_sum',\n",
       " 'unauth_month_diff_max',\n",
       " 'unauth_month_diff_min',\n",
       " 'unauth_month_diff_std',\n",
       " 'unauth_month_diff_median',\n",
       " 'new_installments_median',\n",
       " 'new_month_lag_median',\n",
       " 'new_purchase_amount_median',\n",
       " 'new_log_amount_median',\n",
       " 'new_month_diff_sum',\n",
       " 'new_month_diff_max',\n",
       " 'new_month_diff_min',\n",
       " 'new_month_diff_std',\n",
       " 'new_month_diff_median',\n",
       " 'final_auth_month_lag._median',\n",
       " 'final_auth_purchase_amount._count._median',\n",
       " 'final_auth_purchase_amount._sum._median',\n",
       " 'final_auth_purchase_amount._mean._median',\n",
       " 'final_auth_purchase_amount._max._median',\n",
       " 'final_auth_purchase_amount._min._median',\n",
       " 'final_auth_purchase_amount._std._median',\n",
       " 'final_auth_purchase_amount._median._mean',\n",
       " 'final_auth_purchase_amount._median._std',\n",
       " 'final_auth_purchase_amount._median._median',\n",
       " 'final_auth_installments._count._median',\n",
       " 'final_auth_installments._sum._median',\n",
       " 'final_auth_installments._mean._median',\n",
       " 'final_auth_installments._max._median',\n",
       " 'final_auth_installments._min._median',\n",
       " 'final_auth_installments._std._median',\n",
       " 'final_auth_installments._median._mean',\n",
       " 'final_auth_installments._median._std',\n",
       " 'final_auth_installments._median._median',\n",
       " 'final_auth_log_amount._sum._median',\n",
       " 'final_auth_log_amount._mean._median',\n",
       " 'final_auth_log_amount._max._median',\n",
       " 'final_auth_log_amount._min._median',\n",
       " 'final_auth_log_amount._std._median',\n",
       " 'final_auth_log_amount._median._mean',\n",
       " 'final_auth_log_amount._median._std',\n",
       " 'final_auth_log_amount._median._median',\n",
       " 'category_1_purchase_amount_mean',\n",
       " 'category_1_purchase_amount_min',\n",
       " 'category_1_purchase_amount_max',\n",
       " 'category_1_purchase_amount_std',\n",
       " 'category_1_purchase_amount_median',\n",
       " 'installments_purchase_amount_mean',\n",
       " 'installments_purchase_amount_min',\n",
       " 'installments_purchase_amount_max',\n",
       " 'installments_purchase_amount_std',\n",
       " 'installments_purchase_amount_median',\n",
       " 'city_id_purchase_amount_mean',\n",
       " 'city_id_purchase_amount_min',\n",
       " 'city_id_purchase_amount_max',\n",
       " 'city_id_purchase_amount_std',\n",
       " 'city_id_purchase_amount_median',\n",
       " 'category_1_installments_mean',\n",
       " 'category_1_installments_min',\n",
       " 'category_1_installments_max',\n",
       " 'category_1_installments_std',\n",
       " 'category_1_installments_median']"
      ]
     },
     "execution_count": 8,
     "metadata": {},
     "output_type": "execute_result"
    }
   ],
   "source": [
    "www"
   ]
  }
 ],
 "metadata": {
  "kernelspec": {
   "display_name": "Python 3",
   "language": "python",
   "name": "python3"
  },
  "language_info": {
   "codemirror_mode": {
    "name": "ipython",
    "version": 3
   },
   "file_extension": ".py",
   "mimetype": "text/x-python",
   "name": "python",
   "nbconvert_exporter": "python",
   "pygments_lexer": "ipython3",
   "version": "3.7.1"
  }
 },
 "nbformat": 4,
 "nbformat_minor": 2
}
