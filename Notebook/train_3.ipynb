{
 "cells": [
  {
   "cell_type": "code",
   "execution_count": 1,
   "metadata": {},
   "outputs": [],
   "source": [
    "import pandas as pd\n",
    "import numpy as np\n",
    "import matplotlib.pyplot as plt\n",
    "import lightgbm as lgb\n",
    "from sklearn.model_selection import GridSearchCV\n",
    "from sklearn.preprocessing import LabelEncoder"
   ]
  },
  {
   "cell_type": "code",
   "execution_count": 13,
   "metadata": {},
   "outputs": [],
   "source": [
    "train_df = pd.read_csv('/root/tempfile/train_final121201.csv')\n",
    "test_df = pd.read_csv('/root/tempfile/test_final121201.csv')"
   ]
  },
  {
   "cell_type": "code",
   "execution_count": 14,
   "metadata": {},
   "outputs": [
    {
     "name": "stdout",
     "output_type": "stream",
     "text": [
      "(201917, 191) (123623, 190)\n"
     ]
    }
   ],
   "source": [
    "print(train_df.shape, test_df.shape)"
   ]
  },
  {
   "cell_type": "code",
   "execution_count": 15,
   "metadata": {},
   "outputs": [],
   "source": [
    "feature_col = [x for x in train_df.columns if x not in ['card_id','target']]\n",
    "y_train = train_df.target.values.astype('float')\n",
    "x_train = train_df[feature_col].values.astype('float')\n",
    "x_test = test_df[feature_col].values.astype('float')"
   ]
  },
  {
   "cell_type": "code",
   "execution_count": 5,
   "metadata": {},
   "outputs": [],
   "source": [
    "del train_df, test_df"
   ]
  },
  {
   "cell_type": "code",
   "execution_count": null,
   "metadata": {},
   "outputs": [],
   "source": [
    "c_label = ['feature_1',\n",
    "           'feature_2',\n",
    "           'feature_3',\n",
    "           'auth_city_id_cal_mode',\n",
    "           'auth_merchant_category_id_cal_mode',\n",
    "           'auth_merchant_id_cal_mode',\n",
    "           'auth_state_id_cal_mode',\n",
    "           'auth_subsector_id_cal_mode',\n",
    "           'auth_dayofweek_cal_mode',\n",
    "           'unauth_city_id_cal_mode',\n",
    "           'unauth_merchant_category_id_cal_mode',\n",
    "           'unauth_merchant_id_cal_mode',\n",
    "           'unauth_state_id_cal_mode',\n",
    "           'unauth_subsector_id_cal_mode',\n",
    "           'unauth_dayofweek_cal_mode',\n",
    "           'new_city_id_cal_mode',\n",
    "           'new_merchant_category_id_cal_mode',\n",
    "           'new_merchant_id_cal_mode',\n",
    "           'new_state_id_cal_mode',\n",
    "           'new_subsector_id_cal_mode',\n",
    "           'new_dayofweek_cal_mode']"
   ]
  },
  {
   "cell_type": "code",
   "execution_count": 6,
   "metadata": {},
   "outputs": [],
   "source": [
    "lgb_model = lgb.LGBMRegressor(objective='regression',\n",
    "                              min_data_in_leaf=20,\n",
    "                              num_leaves=50,\n",
    "                              learning_rate=0.1, \n",
    "                              n_estimators=43, \n",
    "                              max_depth=8,\n",
    "                              metric='rmse',\n",
    "                              bagging_fraction = 0.8,\n",
    "                              feature_fraction = 0.8)"
   ]
  },
  {
   "cell_type": "code",
   "execution_count": 9,
   "metadata": {},
   "outputs": [
    {
     "name": "stdout",
     "output_type": "stream",
     "text": [
      "Fitting 5 folds for each of 144 candidates, totalling 720 fits\n"
     ]
    },
    {
     "name": "stderr",
     "output_type": "stream",
     "text": [
      "[Parallel(n_jobs=8)]: Using backend LokyBackend with 8 concurrent workers.\n",
      "[Parallel(n_jobs=8)]: Done  34 tasks      | elapsed:  1.9min\n",
      "[Parallel(n_jobs=8)]: Done 184 tasks      | elapsed:  8.6min\n",
      "[Parallel(n_jobs=8)]: Done 434 tasks      | elapsed: 23.0min\n",
      "[Parallel(n_jobs=8)]: Done 720 out of 720 | elapsed: 40.2min finished\n"
     ]
    }
   ],
   "source": [
    "\n",
    "\n",
    "params_test1={\n",
    "    'max_depth': range(6,14,2),\n",
    "    'num_leaves':range(50, 150, 30),\n",
    "    'min_data_in_leaf':range(20,200,20)\n",
    "}\n",
    "gsearch1 = GridSearchCV(estimator=lgb_model, \n",
    "                        param_grid=params_test1,\n",
    "                        scoring='neg_mean_squared_error', \n",
    "                        cv=5,\n",
    "                        verbose=1, \n",
    "                        n_jobs=8)\n",
    "\n",
    "gs1 = gsearch1.fit(x_train, y_train)#feature_name=feature_col, categorical_feature=c_label)"
   ]
  },
  {
   "cell_type": "code",
   "execution_count": 10,
   "metadata": {},
   "outputs": [
    {
     "name": "stdout",
     "output_type": "stream",
     "text": [
      "{'max_depth': 8, 'min_data_in_leaf': 180, 'num_leaves': 140} -13.409611004811335\n"
     ]
    }
   ],
   "source": [
    "print(gs1.best_params_, gs1.best_score_)"
   ]
  },
  {
   "cell_type": "code",
   "execution_count": 13,
   "metadata": {},
   "outputs": [
    {
     "name": "stdout",
     "output_type": "stream",
     "text": [
      "Fitting 5 folds for each of 100 candidates, totalling 500 fits\n"
     ]
    },
    {
     "name": "stderr",
     "output_type": "stream",
     "text": [
      "[Parallel(n_jobs=8)]: Using backend LokyBackend with 8 concurrent workers.\n",
      "[Parallel(n_jobs=8)]: Done  34 tasks      | elapsed:  2.3min\n",
      "[Parallel(n_jobs=8)]: Done 184 tasks      | elapsed: 10.1min\n",
      "[Parallel(n_jobs=8)]: Done 434 tasks      | elapsed: 25.8min\n",
      "[Parallel(n_jobs=8)]: Done 500 out of 500 | elapsed: 30.1min finished\n"
     ]
    }
   ],
   "source": [
    "params_test2={\n",
    "    'max_depth': range(7,11,2),\n",
    "    'num_leaves':range(100, 200, 20),\n",
    "    'min_data_in_leaf':range(100,300,20)\n",
    "}\n",
    "gsearch2 = GridSearchCV(estimator=lgb_model, \n",
    "                        param_grid=params_test2,\n",
    "                        scoring='neg_mean_squared_error', \n",
    "                        cv=5,\n",
    "                        verbose=1, \n",
    "                        n_jobs=8)\n",
    "\n",
    "gs1 = gsearch2.fit(x_train, y_train)"
   ]
  },
  {
   "cell_type": "code",
   "execution_count": 14,
   "metadata": {},
   "outputs": [
    {
     "name": "stdout",
     "output_type": "stream",
     "text": [
      "{'max_depth': 9, 'min_data_in_leaf': 200, 'num_leaves': 180} -13.400771642719123\n"
     ]
    }
   ],
   "source": [
    "print(gs2.best_params_, gs2.best_score_)"
   ]
  },
  {
   "cell_type": "code",
   "execution_count": 8,
   "metadata": {},
   "outputs": [
    {
     "name": "stdout",
     "output_type": "stream",
     "text": [
      "Fitting 5 folds for each of 105 candidates, totalling 525 fits\n"
     ]
    },
    {
     "name": "stderr",
     "output_type": "stream",
     "text": [
      "[Parallel(n_jobs=8)]: Using backend LokyBackend with 8 concurrent workers.\n",
      "[Parallel(n_jobs=8)]: Done  34 tasks      | elapsed:  2.2min\n",
      "[Parallel(n_jobs=8)]: Done 184 tasks      | elapsed: 10.1min\n",
      "[Parallel(n_jobs=8)]: Done 434 tasks      | elapsed: 28.4min\n",
      "[Parallel(n_jobs=8)]: Done 525 out of 525 | elapsed: 35.7min finished\n"
     ]
    }
   ],
   "source": [
    "params_test3={\n",
    "    'max_depth': range(7,13,2),\n",
    "    'num_leaves':range(160, 260, 20),\n",
    "    'min_data_in_leaf':range(160,300,20)\n",
    "}\n",
    "gsearch3 = GridSearchCV(estimator=lgb_model, \n",
    "                        param_grid=params_test3,\n",
    "                        scoring='neg_mean_squared_error', \n",
    "                        cv=5,\n",
    "                        verbose=1, \n",
    "                        n_jobs=8)\n",
    "\n",
    "gs3 = gsearch3.fit(x_train, y_train)"
   ]
  },
  {
   "cell_type": "code",
   "execution_count": 9,
   "metadata": {},
   "outputs": [
    {
     "name": "stdout",
     "output_type": "stream",
     "text": [
      "{'max_depth': 9, 'min_data_in_leaf': 200, 'num_leaves': 180} -13.400771642719123\n"
     ]
    }
   ],
   "source": [
    "print(gs3.best_params_, gs3.best_score_)"
   ]
  },
  {
   "cell_type": "code",
   "execution_count": 8,
   "metadata": {},
   "outputs": [
    {
     "name": "stdout",
     "output_type": "stream",
     "text": [
      "Fitting 5 folds for each of 192 candidates, totalling 960 fits\n"
     ]
    },
    {
     "name": "stderr",
     "output_type": "stream",
     "text": [
      "[Parallel(n_jobs=8)]: Using backend LokyBackend with 8 concurrent workers.\n",
      "[Parallel(n_jobs=8)]: Done  34 tasks      | elapsed:  2.5min\n",
      "[Parallel(n_jobs=8)]: Done 184 tasks      | elapsed: 11.4min\n",
      "[Parallel(n_jobs=8)]: Done 434 tasks      | elapsed: 27.5min\n",
      "[Parallel(n_jobs=8)]: Done 784 tasks      | elapsed: 52.6min\n",
      "[Parallel(n_jobs=8)]: Done 960 out of 960 | elapsed: 65.8min finished\n"
     ]
    }
   ],
   "source": [
    "params_test4={\n",
    "    'max_depth': range(8,11,1),\n",
    "    'num_leaves':range(160, 200, 5),\n",
    "    'min_data_in_leaf':range(180,220, 5)\n",
    "}\n",
    "gsearch4 = GridSearchCV(estimator=lgb_model, \n",
    "                        param_grid=params_test4,\n",
    "                        scoring='neg_mean_squared_error', \n",
    "                        cv=5,\n",
    "                        verbose=1, \n",
    "                        n_jobs=8)\n",
    "\n",
    "gs4 = gsearch4.fit(x_train, y_train)"
   ]
  },
  {
   "cell_type": "code",
   "execution_count": 9,
   "metadata": {},
   "outputs": [
    {
     "name": "stdout",
     "output_type": "stream",
     "text": [
      "{'max_depth': 9, 'min_data_in_leaf': 195, 'num_leaves': 175} -13.39571399988497\n"
     ]
    }
   ],
   "source": [
    "print(gs4.best_params_, gs4.best_score_)"
   ]
  },
  {
   "cell_type": "code",
   "execution_count": 7,
   "metadata": {},
   "outputs": [
    {
     "name": "stdout",
     "output_type": "stream",
     "text": [
      "Fitting 5 folds for each of 126 candidates, totalling 630 fits\n"
     ]
    },
    {
     "name": "stderr",
     "output_type": "stream",
     "text": [
      "[Parallel(n_jobs=8)]: Using backend LokyBackend with 8 concurrent workers.\n",
      "[Parallel(n_jobs=8)]: Done  34 tasks      | elapsed:  2.5min\n",
      "[Parallel(n_jobs=8)]: Done 184 tasks      | elapsed: 11.4min\n",
      "[Parallel(n_jobs=8)]: Done 434 tasks      | elapsed: 28.6min\n",
      "[Parallel(n_jobs=8)]: Done 630 out of 630 | elapsed: 43.3min finished\n"
     ]
    }
   ],
   "source": [
    "params_test5={\n",
    "    'max_depth': range(8,11,1),\n",
    "    'num_leaves':range(169, 182, 2),\n",
    "    'min_data_in_leaf':range(191,203, 2)\n",
    "}\n",
    "gsearch5 = GridSearchCV(estimator=lgb_model, \n",
    "                        param_grid=params_test5,\n",
    "                        scoring='neg_mean_squared_error', \n",
    "                        cv=5,\n",
    "                        verbose=1, \n",
    "                        n_jobs=8)\n",
    "\n",
    "gs5 = gsearch5.fit(x_train, y_train)"
   ]
  },
  {
   "cell_type": "code",
   "execution_count": 8,
   "metadata": {},
   "outputs": [
    {
     "name": "stdout",
     "output_type": "stream",
     "text": [
      "{'max_depth': 9, 'min_data_in_leaf': 195, 'num_leaves': 175} -13.39571399988497\n"
     ]
    }
   ],
   "source": [
    "print(gs5.best_params_, gs5.best_score_)"
   ]
  },
  {
   "cell_type": "code",
   "execution_count": 9,
   "metadata": {},
   "outputs": [
    {
     "name": "stdout",
     "output_type": "stream",
     "text": [
      "Fitting 5 folds for each of 27 candidates, totalling 135 fits\n"
     ]
    },
    {
     "name": "stderr",
     "output_type": "stream",
     "text": [
      "[Parallel(n_jobs=8)]: Using backend LokyBackend with 8 concurrent workers.\n",
      "[Parallel(n_jobs=8)]: Done  34 tasks      | elapsed:  2.5min\n",
      "[Parallel(n_jobs=8)]: Done 135 out of 135 | elapsed:  9.4min finished\n"
     ]
    }
   ],
   "source": [
    "params_test6={\n",
    "    'max_depth': [8, 9, 10],\n",
    "    'num_leaves':[174, 175, 176],\n",
    "    'min_data_in_leaf':[194,195,196]\n",
    "}\n",
    "gsearch6 = GridSearchCV(estimator=lgb_model, \n",
    "                        param_grid=params_test6,\n",
    "                        scoring='neg_mean_squared_error', \n",
    "                        cv=5,\n",
    "                        verbose=1, \n",
    "                        n_jobs=8)\n",
    "\n",
    "gs6 = gsearch6.fit(x_train, y_train)"
   ]
  },
  {
   "cell_type": "code",
   "execution_count": 10,
   "metadata": {},
   "outputs": [
    {
     "name": "stdout",
     "output_type": "stream",
     "text": [
      "{'max_depth': 9, 'min_data_in_leaf': 195, 'num_leaves': 175} -13.39571399988497\n"
     ]
    }
   ],
   "source": [
    "print(gs6.best_params_, gs6.best_score_)"
   ]
  },
  {
   "cell_type": "code",
   "execution_count": 13,
   "metadata": {},
   "outputs": [
    {
     "name": "stdout",
     "output_type": "stream",
     "text": [
      "Fitting 5 folds for each of 24 candidates, totalling 120 fits\n"
     ]
    },
    {
     "name": "stderr",
     "output_type": "stream",
     "text": [
      "[Parallel(n_jobs=8)]: Using backend LokyBackend with 8 concurrent workers.\n",
      "[Parallel(n_jobs=8)]: Done  34 tasks      | elapsed:  2.8min\n",
      "[Parallel(n_jobs=8)]: Done 120 out of 120 | elapsed:  8.4min finished\n"
     ]
    }
   ],
   "source": [
    "params_test7={\n",
    "    'max_depth': [9],\n",
    "    'num_leaves':[175],\n",
    "    'min_data_in_leaf':[195],\n",
    "}\n",
    "gsearch7 = GridSearchCV(estimator=lgb_model, \n",
    "                        param_grid=params_test7,\n",
    "                        scoring='neg_mean_squared_error', \n",
    "                        cv=5,\n",
    "                        verbose=1, \n",
    "                        n_jobs=8)\n",
    "\n",
    "gs7 = gsearch7.fit(x_train, y_train)"
   ]
  },
  {
   "cell_type": "code",
   "execution_count": 14,
   "metadata": {},
   "outputs": [
    {
     "name": "stdout",
     "output_type": "stream",
     "text": [
      "{'max_depth': 9, 'min_child_samples': 18, 'min_child_weight': 0.001, 'min_data_in_leaf': 195, 'num_leaves': 175} -13.39571399988497\n"
     ]
    }
   ],
   "source": [
    "print(gs6.best_params_, gs6.best_score_)"
   ]
  },
  {
   "cell_type": "code",
   "execution_count": 21,
   "metadata": {},
   "outputs": [
    {
     "name": "stdout",
     "output_type": "stream",
     "text": [
      "Fitting 5 folds for each of 25 candidates, totalling 125 fits\n"
     ]
    },
    {
     "name": "stderr",
     "output_type": "stream",
     "text": [
      "[Parallel(n_jobs=8)]: Using backend LokyBackend with 8 concurrent workers.\n",
      "[Parallel(n_jobs=8)]: Done  34 tasks      | elapsed:  2.3min\n",
      "[Parallel(n_jobs=8)]: Done 125 out of 125 | elapsed:  8.5min finished\n"
     ]
    }
   ],
   "source": [
    "params_test8={\n",
    "    'max_depth': [9],\n",
    "    'num_leaves':[175],\n",
    "    'min_data_in_leaf':[195],         \n",
    "    \"feature_fraction\": np.arange(0.5,1,0.02)\n",
    "}\n",
    "gsearch8 = GridSearchCV(estimator=lgb_model, \n",
    "                        param_grid=params_test8,\n",
    "                        scoring='neg_mean_squared_error', \n",
    "                        cv=5,\n",
    "                        verbose=1, \n",
    "                        n_jobs=8)\n",
    "\n",
    "gs8 = gsearch8.fit(x_train, y_train)"
   ]
  },
  {
   "cell_type": "code",
   "execution_count": 22,
   "metadata": {},
   "outputs": [
    {
     "name": "stdout",
     "output_type": "stream",
     "text": [
      "{'feature_fraction': 0.8000000000000003, 'max_depth': 9, 'min_data_in_leaf': 195, 'num_leaves': 175} -13.39571399988497\n"
     ]
    }
   ],
   "source": [
    "print(gs8.best_params_, gs8.best_score_)"
   ]
  },
  {
   "cell_type": "code",
   "execution_count": 23,
   "metadata": {},
   "outputs": [
    {
     "name": "stdout",
     "output_type": "stream",
     "text": [
      "Fitting 5 folds for each of 49 candidates, totalling 245 fits\n"
     ]
    },
    {
     "name": "stderr",
     "output_type": "stream",
     "text": [
      "[Parallel(n_jobs=8)]: Using backend LokyBackend with 8 concurrent workers.\n",
      "[Parallel(n_jobs=8)]: Done  34 tasks      | elapsed:  2.8min\n",
      "[Parallel(n_jobs=8)]: Done 184 tasks      | elapsed: 13.0min\n",
      "[Parallel(n_jobs=8)]: Done 245 out of 245 | elapsed: 17.3min finished\n"
     ]
    }
   ],
   "source": [
    "params_test9={\n",
    "    'max_depth': [9],\n",
    "    'num_leaves':[175],\n",
    "    'min_data_in_leaf':[195],\n",
    "    'feature_fraction': [0.8],\n",
    "    'reg_alpha': [0, 0.001, 0.01, 0.03, 0.08, 0.3, 0.5],   \n",
    "    'reg_lambda': [0, 0.001, 0.01, 0.03, 0.08, 0.3, 0.5]\n",
    "}\n",
    "gsearch9 = GridSearchCV(estimator=lgb_model, \n",
    "                        param_grid=params_test9,\n",
    "                        scoring='neg_mean_squared_error', \n",
    "                        cv=5,\n",
    "                        verbose=1, \n",
    "                        n_jobs=8)\n",
    "\n",
    "gs9 = gsearch9.fit(x_train, y_train)"
   ]
  },
  {
   "cell_type": "code",
   "execution_count": 24,
   "metadata": {},
   "outputs": [
    {
     "name": "stdout",
     "output_type": "stream",
     "text": [
      "{'feature_fraction': 0.8, 'max_depth': 9, 'min_data_in_leaf': 195, 'num_leaves': 175, 'reg_alpha': 0.001, 'reg_lambda': 0.001} -13.395713961865933\n"
     ]
    }
   ],
   "source": [
    "print(gs9.best_params_, gs9.best_score_)"
   ]
  },
  {
   "cell_type": "code",
   "execution_count": 7,
   "metadata": {},
   "outputs": [
    {
     "name": "stdout",
     "output_type": "stream",
     "text": [
      "Fitting 5 folds for each of 9 candidates, totalling 45 fits\n"
     ]
    },
    {
     "name": "stderr",
     "output_type": "stream",
     "text": [
      "[Parallel(n_jobs=8)]: Using backend LokyBackend with 8 concurrent workers.\n",
      "[Parallel(n_jobs=8)]: Done  45 out of  45 | elapsed:  3.4min finished\n"
     ]
    }
   ],
   "source": [
    "params_test10={\n",
    "    'max_depth': [9],\n",
    "    'num_leaves':[175],\n",
    "    'min_data_in_leaf':[195],\n",
    "    'feature_fraction': [0.8],\n",
    "    'reg_alpha': [0, 0.001, 0.002],   \n",
    "    'reg_lambda': [0, 0.001, 0.002]\n",
    "}\n",
    "gsearch10 = GridSearchCV(estimator=lgb_model, \n",
    "                        param_grid=params_test10,\n",
    "                        scoring='neg_mean_squared_error', \n",
    "                        cv=5,\n",
    "                        verbose=1, \n",
    "                        n_jobs=8)\n",
    "\n",
    "gs10 = gsearch10.fit(x_train, y_train)"
   ]
  },
  {
   "cell_type": "code",
   "execution_count": 8,
   "metadata": {},
   "outputs": [
    {
     "name": "stdout",
     "output_type": "stream",
     "text": [
      "{'feature_fraction': 0.8, 'max_depth': 9, 'min_data_in_leaf': 195, 'num_leaves': 175, 'reg_alpha': 0.002, 'reg_lambda': 0.002} -13.395713924167879\n"
     ]
    }
   ],
   "source": [
    "print(gs10.best_params_, gs10.best_score_)"
   ]
  },
  {
   "cell_type": "code",
   "execution_count": 15,
   "metadata": {},
   "outputs": [
    {
     "name": "stdout",
     "output_type": "stream",
     "text": [
      "Fitting 5 folds for each of 5 candidates, totalling 25 fits\n"
     ]
    },
    {
     "name": "stderr",
     "output_type": "stream",
     "text": [
      "[Parallel(n_jobs=2)]: Using backend LokyBackend with 2 concurrent workers.\n",
      "[Parallel(n_jobs=2)]: Done  25 out of  25 | elapsed: 75.7min finished\n",
      "/root/anaconda3/envs/jupyter/lib/python3.7/site-packages/lightgbm/engine.py:113: UserWarning: Found `num_iterations` in params. Will use it instead of argument\n",
      "  warnings.warn(\"Found `{}` in params. Will use it instead of argument\".format(alias))\n"
     ]
    }
   ],
   "source": [
    "params_test11={\n",
    "    'max_depth': [9],\n",
    "    'num_leaves':[175],\n",
    "    'min_data_in_leaf':[195],\n",
    "    'feature_fraction': [0.8],\n",
    "    'reg_alpha': [0.002],   \n",
    "    'reg_lambda': [0.002],\n",
    "    'learning_rate':[0.001],\n",
    "    'num_iterations':[750,1000,2000,3000,5000]\n",
    "}\n",
    "\n",
    "lgb_model1 = lgb.LGBMRegressor(objective='regression',\n",
    "                              min_data_in_leaf=20,\n",
    "                              num_leaves=50,\n",
    "                              num_iterations=100,\n",
    "                              learning_rate=0.1, \n",
    "                              n_estimators=43, \n",
    "                              max_depth=8,\n",
    "                              metric='rmse',\n",
    "                              bagging_fraction = 0.8,\n",
    "                              num_threads=4,\n",
    "                              feature_fraction = 0.8)\n",
    "\n",
    "gsearch11 = GridSearchCV(estimator=lgb_model1, \n",
    "                        param_grid=params_test11,\n",
    "                        scoring='neg_mean_squared_error', \n",
    "                        cv=5,\n",
    "                        verbose=1, \n",
    "                        n_jobs=2)\n",
    "\n",
    "gs11 = gsearch11.fit(x_train, y_train)"
   ]
  },
  {
   "cell_type": "code",
   "execution_count": 16,
   "metadata": {},
   "outputs": [
    {
     "name": "stdout",
     "output_type": "stream",
     "text": [
      "{'feature_fraction': 0.8, 'learning_rate': 0.001, 'max_depth': 9, 'min_data_in_leaf': 195, 'num_iterations': 5000, 'num_leaves': 175, 'reg_alpha': 0.002, 'reg_lambda': 0.002} -13.370203867513144\n"
     ]
    }
   ],
   "source": [
    "print(gs11.best_params_, gs11.best_score_)"
   ]
  },
  {
   "cell_type": "code",
   "execution_count": 17,
   "metadata": {},
   "outputs": [
    {
     "data": {
      "text/plain": [
       "array([-13.84058415, -13.70951883, -13.48139217, -13.4087802 ,\n",
       "       -13.37020387])"
      ]
     },
     "execution_count": 17,
     "metadata": {},
     "output_type": "execute_result"
    }
   ],
   "source": [
    "gs11.cv_results_['mean_test_score']"
   ]
  },
  {
   "cell_type": "code",
   "execution_count": 7,
   "metadata": {},
   "outputs": [
    {
     "name": "stdout",
     "output_type": "stream",
     "text": [
      "Fitting 5 folds for each of 1 candidates, totalling 5 fits\n"
     ]
    },
    {
     "name": "stderr",
     "output_type": "stream",
     "text": [
      "[Parallel(n_jobs=1)]: Using backend SequentialBackend with 1 concurrent workers.\n",
      "/root/anaconda3/envs/jupyter/lib/python3.7/site-packages/lightgbm/engine.py:113: UserWarning: Found `num_iterations` in params. Will use it instead of argument\n",
      "  warnings.warn(\"Found `{}` in params. Will use it instead of argument\".format(alias))\n",
      "/root/anaconda3/envs/jupyter/lib/python3.7/site-packages/lightgbm/engine.py:113: UserWarning: Found `num_iterations` in params. Will use it instead of argument\n",
      "  warnings.warn(\"Found `{}` in params. Will use it instead of argument\".format(alias))\n",
      "/root/anaconda3/envs/jupyter/lib/python3.7/site-packages/lightgbm/engine.py:113: UserWarning: Found `num_iterations` in params. Will use it instead of argument\n",
      "  warnings.warn(\"Found `{}` in params. Will use it instead of argument\".format(alias))\n",
      "/root/anaconda3/envs/jupyter/lib/python3.7/site-packages/lightgbm/engine.py:113: UserWarning: Found `num_iterations` in params. Will use it instead of argument\n",
      "  warnings.warn(\"Found `{}` in params. Will use it instead of argument\".format(alias))\n",
      "/root/anaconda3/envs/jupyter/lib/python3.7/site-packages/lightgbm/engine.py:113: UserWarning: Found `num_iterations` in params. Will use it instead of argument\n",
      "  warnings.warn(\"Found `{}` in params. Will use it instead of argument\".format(alias))\n",
      "[Parallel(n_jobs=1)]: Done   5 out of   5 | elapsed: 48.2min finished\n",
      "/root/anaconda3/envs/jupyter/lib/python3.7/site-packages/lightgbm/engine.py:113: UserWarning: Found `num_iterations` in params. Will use it instead of argument\n",
      "  warnings.warn(\"Found `{}` in params. Will use it instead of argument\".format(alias))\n"
     ]
    }
   ],
   "source": [
    "params_test11={\n",
    "    'max_depth': [9],\n",
    "    'num_leaves':[175],\n",
    "    'min_data_in_leaf':[195],\n",
    "    'feature_fraction': [0.8],\n",
    "    'reg_alpha': [0.002],   \n",
    "    'reg_lambda': [0.002],\n",
    "    'learning_rate':[0.001],\n",
    "    'num_iterations':[10000]\n",
    "}\n",
    "\n",
    "lgb_model1 = lgb.LGBMRegressor(objective='regression',\n",
    "                              min_data_in_leaf=20,\n",
    "                              num_leaves=50,\n",
    "                              num_iterations=100,\n",
    "                              learning_rate=0.1, \n",
    "                              n_estimators=43, \n",
    "                              max_depth=8,\n",
    "                              metric='rmse',\n",
    "                              bagging_fraction = 0.8,\n",
    "                              num_threads=8,\n",
    "                              feature_fraction = 0.8)\n",
    "\n",
    "gsearch11 = GridSearchCV(estimator=lgb_model1, \n",
    "                        param_grid=params_test11,\n",
    "                        scoring='neg_mean_squared_error', \n",
    "                        cv=5,\n",
    "                        verbose=1, \n",
    "                        n_jobs=1)\n",
    "\n",
    "gs11 = gsearch11.fit(x_train, y_train)"
   ]
  },
  {
   "cell_type": "code",
   "execution_count": 8,
   "metadata": {},
   "outputs": [
    {
     "data": {
      "text/plain": [
       "array([-13.36613603])"
      ]
     },
     "execution_count": 8,
     "metadata": {},
     "output_type": "execute_result"
    }
   ],
   "source": [
    "gs11.cv_results_['mean_test_score']"
   ]
  },
  {
   "cell_type": "code",
   "execution_count": 12,
   "metadata": {},
   "outputs": [],
   "source": [
    "y_test = gs11.predict(x_test)"
   ]
  },
  {
   "cell_type": "code",
   "execution_count": null,
   "metadata": {},
   "outputs": [],
   "source": []
  },
  {
   "cell_type": "code",
   "execution_count": 11,
   "metadata": {},
   "outputs": [
    {
     "name": "stdout",
     "output_type": "stream",
     "text": [
      "[100]\tcv_agg's l2: 14.6079 + 0.241113\n",
      "[200]\tcv_agg's l2: 14.4269 + 0.238612\n",
      "[300]\tcv_agg's l2: 14.2772 + 0.235992\n",
      "[400]\tcv_agg's l2: 14.1524 + 0.233959\n",
      "[500]\tcv_agg's l2: 14.0475 + 0.231064\n",
      "[600]\tcv_agg's l2: 13.9605 + 0.228826\n",
      "[700]\tcv_agg's l2: 13.8866 + 0.227283\n",
      "[800]\tcv_agg's l2: 13.8239 + 0.225368\n",
      "[900]\tcv_agg's l2: 13.7715 + 0.223961\n",
      "[1000]\tcv_agg's l2: 13.7267 + 0.222637\n",
      "[1100]\tcv_agg's l2: 13.6895 + 0.221497\n",
      "[1200]\tcv_agg's l2: 13.6567 + 0.220742\n",
      "[1300]\tcv_agg's l2: 13.6291 + 0.219825\n",
      "[1400]\tcv_agg's l2: 13.6053 + 0.219194\n",
      "[1500]\tcv_agg's l2: 13.5837 + 0.218649\n",
      "[1600]\tcv_agg's l2: 13.5648 + 0.217794\n",
      "[1700]\tcv_agg's l2: 13.5487 + 0.216449\n",
      "[1800]\tcv_agg's l2: 13.5347 + 0.215518\n",
      "[1900]\tcv_agg's l2: 13.5217 + 0.215011\n",
      "[2000]\tcv_agg's l2: 13.5101 + 0.214336\n",
      "[2100]\tcv_agg's l2: 13.4992 + 0.213824\n",
      "[2200]\tcv_agg's l2: 13.4896 + 0.213846\n",
      "[2300]\tcv_agg's l2: 13.4815 + 0.213801\n",
      "[2400]\tcv_agg's l2: 13.4744 + 0.21365\n",
      "[2500]\tcv_agg's l2: 13.4685 + 0.213349\n",
      "[2600]\tcv_agg's l2: 13.4634 + 0.213352\n",
      "[2700]\tcv_agg's l2: 13.4584 + 0.212757\n",
      "[2800]\tcv_agg's l2: 13.4536 + 0.211748\n",
      "[2900]\tcv_agg's l2: 13.4492 + 0.211137\n",
      "[3000]\tcv_agg's l2: 13.445 + 0.210968\n",
      "[3100]\tcv_agg's l2: 13.441 + 0.210559\n",
      "[3200]\tcv_agg's l2: 13.4376 + 0.209822\n",
      "[3300]\tcv_agg's l2: 13.4348 + 0.209095\n",
      "[3400]\tcv_agg's l2: 13.4323 + 0.208455\n",
      "[3500]\tcv_agg's l2: 13.4298 + 0.208207\n",
      "[3600]\tcv_agg's l2: 13.4274 + 0.207892\n",
      "[3700]\tcv_agg's l2: 13.4252 + 0.207674\n",
      "[3800]\tcv_agg's l2: 13.423 + 0.207279\n",
      "[3900]\tcv_agg's l2: 13.4213 + 0.2071\n",
      "[4000]\tcv_agg's l2: 13.4196 + 0.207149\n",
      "[4100]\tcv_agg's l2: 13.4181 + 0.206848\n",
      "[4200]\tcv_agg's l2: 13.4168 + 0.2065\n",
      "[4300]\tcv_agg's l2: 13.4156 + 0.206613\n",
      "[4400]\tcv_agg's l2: 13.4148 + 0.206536\n",
      "[4500]\tcv_agg's l2: 13.4139 + 0.206337\n",
      "[4600]\tcv_agg's l2: 13.413 + 0.206212\n",
      "[4700]\tcv_agg's l2: 13.4122 + 0.206182\n",
      "[4800]\tcv_agg's l2: 13.4114 + 0.206173\n",
      "[4900]\tcv_agg's l2: 13.4107 + 0.206051\n",
      "[5000]\tcv_agg's l2: 13.4103 + 0.206104\n",
      "[5100]\tcv_agg's l2: 13.4097 + 0.205974\n",
      "[5200]\tcv_agg's l2: 13.4092 + 0.205765\n",
      "[5300]\tcv_agg's l2: 13.4089 + 0.205619\n",
      "[5400]\tcv_agg's l2: 13.4085 + 0.205569\n",
      "[5500]\tcv_agg's l2: 13.4082 + 0.205252\n",
      "[5600]\tcv_agg's l2: 13.4078 + 0.205212\n",
      "[5700]\tcv_agg's l2: 13.4075 + 0.204943\n",
      "[5800]\tcv_agg's l2: 13.4073 + 0.204755\n",
      "[5900]\tcv_agg's l2: 13.407 + 0.204489\n",
      "[6000]\tcv_agg's l2: 13.4071 + 0.204307\n",
      "[6100]\tcv_agg's l2: 13.4069 + 0.203947\n",
      "[6200]\tcv_agg's l2: 13.4068 + 0.203736\n",
      "[6300]\tcv_agg's l2: 13.4067 + 0.203512\n",
      "[6400]\tcv_agg's l2: 13.4066 + 0.20332\n",
      "[6500]\tcv_agg's l2: 13.4065 + 0.202981\n",
      "[6600]\tcv_agg's l2: 13.4065 + 0.202851\n",
      "[6700]\tcv_agg's l2: 13.4065 + 0.202724\n",
      "[6800]\tcv_agg's l2: 13.4065 + 0.202526\n",
      "[6900]\tcv_agg's l2: 13.4067 + 0.202407\n",
      "[7000]\tcv_agg's l2: 13.4066 + 0.202139\n",
      "[7100]\tcv_agg's l2: 13.4066 + 0.201924\n",
      "[7200]\tcv_agg's l2: 13.4065 + 0.201702\n",
      "[7300]\tcv_agg's l2: 13.4067 + 0.201332\n",
      "[7400]\tcv_agg's l2: 13.4068 + 0.201089\n",
      "[7500]\tcv_agg's l2: 13.4069 + 0.200885\n"
     ]
    }
   ],
   "source": [
    "params_test11={\n",
    "    'max_depth': 9,\n",
    "    'num_leaves':175,\n",
    "    'min_data_in_leaf':195,\n",
    "    'reg_alpha': 0.002,   \n",
    "    'reg_lambda': 0.002,\n",
    "    'learning_rate':0.001,\n",
    "    'bagging_fraction' : 0.8,\n",
    "    'feature_fraction' : 0.8,\n",
    "    'objective':'regression'\n",
    "}\n",
    "\n",
    "data_train = lgb.Dataset(x_train, y_train, silent=True)\n",
    "\n",
    "lgb_model = lgb.cv(\n",
    "    params_test11,\n",
    "    data_train,\n",
    "    num_boost_round=20000, \n",
    "    early_stopping_rounds=1000,\n",
    "    nfold=5,\n",
    "    show_stdv=True,\n",
    "    shuffle=True,\n",
    "    stratified=False,\n",
    "    metrics='mse',\n",
    "    verbose_eval=100)\n"
   ]
  },
  {
   "cell_type": "code",
   "execution_count": null,
   "metadata": {},
   "outputs": [],
   "source": [
    "feature_importance"
   ]
  },
  {
   "cell_type": "code",
   "execution_count": null,
   "metadata": {
    "scrolled": true
   },
   "outputs": [],
   "source": [
    "importance_df = pd.DataFrame({'importance':feature_importance,'name':feature_col})"
   ]
  },
  {
   "cell_type": "code",
   "execution_count": null,
   "metadata": {},
   "outputs": [],
   "source": [
    "importance_df.shape"
   ]
  },
  {
   "cell_type": "code",
   "execution_count": null,
   "metadata": {
    "scrolled": false
   },
   "outputs": [],
   "source": [
    "plt.figure(figsize=[10,40])\n",
    "plt.barh(importance_df.name, importance_df.importance)\n",
    "plt.show()"
   ]
  },
  {
   "cell_type": "markdown",
   "metadata": {},
   "source": [
    "我们可以看到，所有的final_unauth 都是没有用的。"
   ]
  },
  {
   "cell_type": "code",
   "execution_count": 19,
   "metadata": {},
   "outputs": [],
   "source": [
    "submission = pd.DataFrame({'card_id':test_df.card_id, 'target':y_test})"
   ]
  },
  {
   "cell_type": "code",
   "execution_count": 20,
   "metadata": {},
   "outputs": [],
   "source": [
    "submission.to_csv('/root/tempfile/submission121401.csv',index=False)"
   ]
  }
 ],
 "metadata": {
  "kernelspec": {
   "display_name": "Python 3",
   "language": "python",
   "name": "python3"
  },
  "language_info": {
   "codemirror_mode": {
    "name": "ipython",
    "version": 3
   },
   "file_extension": ".py",
   "mimetype": "text/x-python",
   "name": "python",
   "nbconvert_exporter": "python",
   "pygments_lexer": "ipython3",
   "version": "3.7.1"
  }
 },
 "nbformat": 4,
 "nbformat_minor": 2
}
