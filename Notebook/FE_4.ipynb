{
 "cells": [
  {
   "cell_type": "markdown",
   "metadata": {},
   "source": [
    "# Feature Engineering 4\n",
    "***\n",
    "在这个 FE 中，我希望onehot化所有的分类数据"
   ]
  },
  {
   "cell_type": "code",
   "execution_count": 1,
   "metadata": {},
   "outputs": [],
   "source": [
    "%load_ext autoreload\n",
    "%autoreload 2\n",
    "\n",
    "import sys\n",
    "import time\n",
    "import pandas as pd\n",
    "import numpy as np\n",
    "from datetime import datetime\n",
    "from scipy.stats import mode\n",
    "from sklearn.preprocessing import LabelEncoder\n",
    "import matplotlib.pyplot as plt\n",
    "%matplotlib inline\n",
    "\n",
    "import warnings\n",
    "warnings.filterwarnings('ignore')\n",
    "\n",
    "sys.path.append('/root/code/elo/Tools/')\n",
    "from tools import *"
   ]
  },
  {
   "cell_type": "code",
   "execution_count": 2,
   "metadata": {},
   "outputs": [],
   "source": [
    "new = pd.read_csv('/root/data/new_merchant_transactions.csv')\n",
    "his = pd.read_csv('/root/data/historical_transactions.csv')\n",
    "train = pd.read_csv('/root/data/train.csv')\n",
    "test = pd.read_csv('/root/data/test.csv')"
   ]
  },
  {
   "cell_type": "code",
   "execution_count": 3,
   "metadata": {},
   "outputs": [],
   "source": [
    "#对 his 与 new 的时间数据进行处理，创建特征该次交易距离起始时间的days\n",
    "his['purchase_date'] = pd.to_datetime(his.purchase_date)\n",
    "new['purchase_date'] = pd.to_datetime(new.purchase_date)\n",
    "\n",
    "startime = his.purchase_date.min()\n",
    "\n",
    "his['days_to_start'] = (his.purchase_date - startime).dt.days\n",
    "new['days_to_start'] = (new.purchase_date - startime).dt.days"
   ]
  },
  {
   "cell_type": "code",
   "execution_count": 4,
   "metadata": {},
   "outputs": [
    {
     "data": {
      "text/html": [
       "<div>\n",
       "<style scoped>\n",
       "    .dataframe tbody tr th:only-of-type {\n",
       "        vertical-align: middle;\n",
       "    }\n",
       "\n",
       "    .dataframe tbody tr th {\n",
       "        vertical-align: top;\n",
       "    }\n",
       "\n",
       "    .dataframe thead th {\n",
       "        text-align: right;\n",
       "    }\n",
       "</style>\n",
       "<table border=\"1\" class=\"dataframe\">\n",
       "  <thead>\n",
       "    <tr style=\"text-align: right;\">\n",
       "      <th></th>\n",
       "      <th>authorized_flag</th>\n",
       "      <th>card_id</th>\n",
       "      <th>city_id</th>\n",
       "      <th>category_1</th>\n",
       "      <th>installments</th>\n",
       "      <th>category_3</th>\n",
       "      <th>merchant_category_id</th>\n",
       "      <th>merchant_id</th>\n",
       "      <th>month_lag</th>\n",
       "      <th>purchase_amount</th>\n",
       "      <th>purchase_date</th>\n",
       "      <th>category_2</th>\n",
       "      <th>state_id</th>\n",
       "      <th>subsector_id</th>\n",
       "      <th>days_to_start</th>\n",
       "    </tr>\n",
       "  </thead>\n",
       "  <tbody>\n",
       "    <tr>\n",
       "      <th>0</th>\n",
       "      <td>Y</td>\n",
       "      <td>C_ID_4e6213e9bc</td>\n",
       "      <td>88</td>\n",
       "      <td>N</td>\n",
       "      <td>0</td>\n",
       "      <td>A</td>\n",
       "      <td>80</td>\n",
       "      <td>M_ID_e020e9b302</td>\n",
       "      <td>-8</td>\n",
       "      <td>-0.703331</td>\n",
       "      <td>2017-06-25 15:33:07</td>\n",
       "      <td>1.0</td>\n",
       "      <td>16</td>\n",
       "      <td>37</td>\n",
       "      <td>175</td>\n",
       "    </tr>\n",
       "    <tr>\n",
       "      <th>1</th>\n",
       "      <td>Y</td>\n",
       "      <td>C_ID_4e6213e9bc</td>\n",
       "      <td>88</td>\n",
       "      <td>N</td>\n",
       "      <td>0</td>\n",
       "      <td>A</td>\n",
       "      <td>367</td>\n",
       "      <td>M_ID_86ec983688</td>\n",
       "      <td>-7</td>\n",
       "      <td>-0.733128</td>\n",
       "      <td>2017-07-15 12:10:45</td>\n",
       "      <td>1.0</td>\n",
       "      <td>16</td>\n",
       "      <td>16</td>\n",
       "      <td>195</td>\n",
       "    </tr>\n",
       "    <tr>\n",
       "      <th>2</th>\n",
       "      <td>Y</td>\n",
       "      <td>C_ID_4e6213e9bc</td>\n",
       "      <td>88</td>\n",
       "      <td>N</td>\n",
       "      <td>0</td>\n",
       "      <td>A</td>\n",
       "      <td>80</td>\n",
       "      <td>M_ID_979ed661fc</td>\n",
       "      <td>-6</td>\n",
       "      <td>-0.720386</td>\n",
       "      <td>2017-08-09 22:04:29</td>\n",
       "      <td>1.0</td>\n",
       "      <td>16</td>\n",
       "      <td>37</td>\n",
       "      <td>220</td>\n",
       "    </tr>\n",
       "    <tr>\n",
       "      <th>3</th>\n",
       "      <td>Y</td>\n",
       "      <td>C_ID_4e6213e9bc</td>\n",
       "      <td>88</td>\n",
       "      <td>N</td>\n",
       "      <td>0</td>\n",
       "      <td>A</td>\n",
       "      <td>560</td>\n",
       "      <td>M_ID_e6d5ae8ea6</td>\n",
       "      <td>-5</td>\n",
       "      <td>-0.735352</td>\n",
       "      <td>2017-09-02 10:06:26</td>\n",
       "      <td>1.0</td>\n",
       "      <td>16</td>\n",
       "      <td>34</td>\n",
       "      <td>244</td>\n",
       "    </tr>\n",
       "    <tr>\n",
       "      <th>4</th>\n",
       "      <td>Y</td>\n",
       "      <td>C_ID_4e6213e9bc</td>\n",
       "      <td>88</td>\n",
       "      <td>N</td>\n",
       "      <td>0</td>\n",
       "      <td>A</td>\n",
       "      <td>80</td>\n",
       "      <td>M_ID_e020e9b302</td>\n",
       "      <td>-11</td>\n",
       "      <td>-0.722865</td>\n",
       "      <td>2017-03-10 01:14:19</td>\n",
       "      <td>1.0</td>\n",
       "      <td>16</td>\n",
       "      <td>37</td>\n",
       "      <td>68</td>\n",
       "    </tr>\n",
       "  </tbody>\n",
       "</table>\n",
       "</div>"
      ],
      "text/plain": [
       "  authorized_flag          card_id  city_id category_1  installments  \\\n",
       "0               Y  C_ID_4e6213e9bc       88          N             0   \n",
       "1               Y  C_ID_4e6213e9bc       88          N             0   \n",
       "2               Y  C_ID_4e6213e9bc       88          N             0   \n",
       "3               Y  C_ID_4e6213e9bc       88          N             0   \n",
       "4               Y  C_ID_4e6213e9bc       88          N             0   \n",
       "\n",
       "  category_3  merchant_category_id      merchant_id  month_lag  \\\n",
       "0          A                    80  M_ID_e020e9b302         -8   \n",
       "1          A                   367  M_ID_86ec983688         -7   \n",
       "2          A                    80  M_ID_979ed661fc         -6   \n",
       "3          A                   560  M_ID_e6d5ae8ea6         -5   \n",
       "4          A                    80  M_ID_e020e9b302        -11   \n",
       "\n",
       "   purchase_amount       purchase_date  category_2  state_id  subsector_id  \\\n",
       "0        -0.703331 2017-06-25 15:33:07         1.0        16            37   \n",
       "1        -0.733128 2017-07-15 12:10:45         1.0        16            16   \n",
       "2        -0.720386 2017-08-09 22:04:29         1.0        16            37   \n",
       "3        -0.735352 2017-09-02 10:06:26         1.0        16            34   \n",
       "4        -0.722865 2017-03-10 01:14:19         1.0        16            37   \n",
       "\n",
       "   days_to_start  \n",
       "0            175  \n",
       "1            195  \n",
       "2            220  \n",
       "3            244  \n",
       "4             68  "
      ]
     },
     "execution_count": 4,
     "metadata": {},
     "output_type": "execute_result"
    }
   ],
   "source": [
    "his.head()"
   ]
  },
  {
   "cell_type": "code",
   "execution_count": 5,
   "metadata": {},
   "outputs": [],
   "source": [
    "cate_col = [\n",
    "    'category_3','category_2', \n",
    "    'state_id', 'subsector_id'\n",
    "]\n"
   ]
  },
  {
   "cell_type": "code",
   "execution_count": 6,
   "metadata": {},
   "outputs": [],
   "source": [
    "# authorized_flag\n",
    "\n",
    "his.category_2.fillna(0, inplace=True)\n",
    "his.category_3.fillna('D', inplace=True)\n",
    "his.merchant_id.fillna('NaN', inplace=True)\n",
    "\n",
    "\n",
    "new.category_2.fillna(0, inplace=True)\n",
    "new.category_3.fillna('D', inplace=True)\n",
    "new.merchant_id.fillna('NaN', inplace=True)\n",
    "\n",
    "\n",
    "new['authorized_flag'] = new.authorized_flag.map({'N':0,'Y':1})\n",
    "his['authorized_flag'] = his.authorized_flag.map({'N':0,'Y':1})\n",
    "\n",
    "auth = his[his['authorized_flag'] == 1]\n",
    "unauth = his[his['authorized_flag'] == 0]\n",
    "\n",
    "\n",
    "agg = {\n",
    "    'authorized_flag':['count', 'mean', 'sum']\n",
    "}\n",
    "auth_flag = his.groupby('card_id').agg(agg)\n",
    "auth_flag.columns = ['_'.join(col).strip() for col in auth_flag.columns.values]\n",
    "auth_flag.reset_index(inplace=True)\n"
   ]
  },
  {
   "cell_type": "code",
   "execution_count": 7,
   "metadata": {},
   "outputs": [],
   "source": [
    "agg = {'authorized_flag': ['mean', 'count']}\n",
    "flag_month = his.groupby(['card_id', 'month_lag']).agg(agg)\n",
    "flag_month.columns = ['_'.join(col).strip() for col in flag_month.columns.values]\n",
    "flag_month.reset_index(inplace=True)\n",
    "\n",
    "# 找到对于每id来说，距离评估日最后的月成交数量与成交率\n",
    "col_idx = ['authorized_flag_mean', 'authorized_flag_count']\n",
    "row_idx = flag_month.groupby('card_id').month_lag.apply(lambda x: x.idxmax()).values\n",
    "final = flag_month.loc[row_idx,col_idx].reset_index(drop=True)\n",
    "final.columns = ['final_authorized_flag_mean', 'final_authorized_flag_count']\n",
    "pd.merge(auth_flag, final, left_index=True, right_index=True)\n",
    "\n",
    "# 找到对于每id来说，最开始的月成交数量与成交率\n",
    "col_idx = ['authorized_flag_mean', 'authorized_flag_count']\n",
    "row_idx = flag_month.groupby('card_id').month_lag.apply(lambda x: x.idxmin()).values\n",
    "start = flag_month.loc[row_idx,col_idx].reset_index(drop=True)\n",
    "start.columns = ['start_authorized_flag_mean', 'start_authorized_flag_count']\n",
    "pd.merge(auth_flag, final, left_index=True, right_index=True)\n",
    "\n",
    "# 找到对于每id来说，成交数量最高的月成交数量与成交率\n",
    "auth_flag['max_authorized_flag_per_month'] = flag_month.groupby('card_id').authorized_flag_count.max().values\n",
    "\n",
    "# 找到对于每id来说，成交数量最少的月成交数量与成交率\n",
    "auth_flag['min_authorized_flag_per_month'] = flag_month.groupby('card_id').authorized_flag_count.min().values\n",
    "\n",
    "del flag_month, his"
   ]
  },
  {
   "cell_type": "code",
   "execution_count": 9,
   "metadata": {},
   "outputs": [],
   "source": [
    "def cal_mode(serise):\n",
    "    return serise.mode()[0]\n",
    "\n",
    "\n",
    "def agg_dataframe(df):\n",
    "    \n",
    "    df['category_1'] = df.category_1.map({'N':0, 'Y':1})\n",
    "    df['log_amount'] = np.log(df.purchase_amount+0.75)\n",
    "    df['month_diff'] = ((datetime.today() - df['purchase_date']).dt.days)//30\n",
    "    df['month_diff'] += df['month_lag']\n",
    "    df['dayofweek'] = df.purchase_date.apply(lambda t: t.dayofweek)\n",
    "    df['month'] = df.purchase_date.apply(lambda t: t.month)\n",
    "    \n",
    "    agg = {\n",
    "        'category_1': ['mean', 'count'],\n",
    "        'city_id': ['nunique', cal_mode],\n",
    "        'merchant_category_id': ['nunique', cal_mode],\n",
    "        'merchant_id': ['nunique', cal_mode],\n",
    "        'installments': ['sum', 'mean', 'max', 'min', 'std',np.median],\n",
    "        'month_lag': ['min', 'max', np.ptp, 'std'],\n",
    "        'days_to_start': [np.ptp, 'min', 'max', 'std', np.median],\n",
    "        'purchase_amount': ['sum', 'mean', 'max', 'min', 'std', np.median],\n",
    "        'log_amount': ['sum', 'mean', 'max', 'min', 'std',np.median],\n",
    "        'month_diff': ['mean'],\n",
    "        'dayofweek': [cal_mode, 'std'],\n",
    "        'month': ['std']\n",
    "    }\n",
    "    agg_df = df.groupby(['card_id']).agg(agg)\n",
    "    agg_df.columns = ['_'.join(col).strip() for col in agg_df.columns.values]\n",
    "    agg_df.reset_index(inplace=True)\n",
    "    \n",
    "    return agg_df"
   ]
  },
  {
   "cell_type": "code",
   "execution_count": 10,
   "metadata": {},
   "outputs": [],
   "source": [
    "agg_auth = agg_dataframe(auth)\n",
    "agg_auth.columns = ['auth_' + c if c != 'card_id' else c for c in agg_auth.columns]\n",
    "agg_unauth = agg_dataframe(unauth)\n",
    "agg_unauth.columns = ['unauth_' + c if c != 'card_id' else c for c in agg_unauth.columns]\n",
    "agg_new = agg_dataframe(new)\n",
    "agg_new.columns = ['new_' + c if c != 'card_id' else c for c in agg_new.columns]"
   ]
  },
  {
   "cell_type": "code",
   "execution_count": 11,
   "metadata": {},
   "outputs": [],
   "source": [
    "def cate(df, cate_col):\n",
    "    cate_df = pd.DataFrame({'card_id': df.card_id.unique()})\n",
    "    for i in cate_col:\n",
    "        subdf = pd.get_dummies(df[i]).astype('bool')\n",
    "        subdf['card_id'] = df['card_id']\n",
    "        mean = subdf.groupby('card_id').mean()\n",
    "        mean.columns = [i+'_'+str(col) for col in mean.columns]\n",
    "        mean.reset_index(inplace = True)\n",
    "        cate_df = pd.merge(cate_df, mean, on='card_id', how='left')\n",
    "        del mean, subdf\n",
    "    return cate_df"
   ]
  },
  {
   "cell_type": "code",
   "execution_count": 12,
   "metadata": {},
   "outputs": [],
   "source": [
    "cate_auth = cate(auth, cate_col)\n",
    "cate_auth.columns = ['auth_' + c if c != 'card_id' else c for c in cate_auth.columns]\n",
    "cate_unauth = cate(unauth, cate_col)\n",
    "cate_unauth.columns = ['unauth_' + c if c != 'card_id' else c for c in cate_unauth.columns]\n",
    "cate_new = cate(new, cate_col)\n",
    "cate_new.columns = ['new_' + c if c != 'card_id' else c for c in cate_new.columns]"
   ]
  },
  {
   "cell_type": "code",
   "execution_count": 13,
   "metadata": {},
   "outputs": [],
   "source": [
    "def per_month(df):\n",
    "    df['log_amount'] = np.log(df.purchase_amount+0.75)\n",
    "    agg = {\n",
    "        'purchase_amount': ['count', 'sum', 'mean', 'max', 'min', 'std', np.median],\n",
    "        'installments': ['count', 'sum', 'mean', 'max', 'min', 'std', np.median],\n",
    "        'log_amount': ['sum', 'mean', 'max', 'min', 'std',np.median]\n",
    "    }\n",
    "    df_month = df.groupby(['card_id', 'month_lag']).agg(agg)\n",
    "    df_month.columns = ['._'.join(col).strip() for col in df_month.columns.values]\n",
    "    df_month.reset_index(inplace=True)\n",
    "    \n",
    "    df_final = df_month.groupby('card_id').agg(['mean', 'std', 'max', 'min', np.median])\n",
    "    df_final.columns = ['._'.join(col).strip() for col in df_final.columns.values]\n",
    "    df_final.reset_index(inplace=True)\n",
    "    \n",
    "    return df_final"
   ]
  },
  {
   "cell_type": "code",
   "execution_count": 14,
   "metadata": {},
   "outputs": [],
   "source": [
    "auth_final = per_month(auth)\n",
    "auth_final.columns = ['final_auth_' + c if c != 'card_id' else c for c in auth_final.columns]"
   ]
  },
  {
   "cell_type": "code",
   "execution_count": 15,
   "metadata": {},
   "outputs": [],
   "source": [
    "def successive_aggregates(df, field1, field2):\n",
    "    t = df.groupby(['card_id', field1])[field2].mean()\n",
    "    u = pd.DataFrame(t).reset_index().groupby('card_id')[field2].agg(['mean', 'min', 'max', 'std', np.median])\n",
    "    u.columns = [field1 + '_' + field2 + '_' + col for col in u.columns.values]\n",
    "    u.reset_index(inplace=True)\n",
    "    return u"
   ]
  },
  {
   "cell_type": "code",
   "execution_count": 16,
   "metadata": {},
   "outputs": [],
   "source": [
    "additional_fields = successive_aggregates(new, 'category_1', 'purchase_amount')\n",
    "additional_fields = additional_fields.merge(successive_aggregates(new, 'installments', 'purchase_amount'),\n",
    "                                            on = 'card_id', how='left')\n",
    "additional_fields = additional_fields.merge(successive_aggregates(new, 'city_id', 'purchase_amount'),\n",
    "                                            on = 'card_id', how='left')\n",
    "additional_fields = additional_fields.merge(successive_aggregates(new, 'category_1', 'installments'),\n",
    "                                            on = 'card_id', how='left')"
   ]
  },
  {
   "cell_type": "code",
   "execution_count": 18,
   "metadata": {},
   "outputs": [],
   "source": [
    "train = pd.merge(train, auth_flag, on='card_id', how='left')\n",
    "train = pd.merge(train, agg_auth, on='card_id', how='left')\n",
    "train = pd.merge(train, agg_unauth, on='card_id', how='left')\n",
    "train = pd.merge(train, auth_final, on='card_id', how='left')\n",
    "train = pd.merge(train, agg_new, on='card_id', how='left')\n",
    "train = pd.merge(train, cate_unauth, on='card_id', how='left')\n",
    "train = pd.merge(train, cate_auth, on='card_id', how='left')\n",
    "train = pd.merge(train, cate_new, on='card_id', how='left')\n",
    "train = pd.merge(train, additional_fields, on='card_id', how='left')"
   ]
  },
  {
   "cell_type": "code",
   "execution_count": 19,
   "metadata": {},
   "outputs": [],
   "source": [
    "test = pd.merge(test, auth_flag, on='card_id', how='left')\n",
    "test = pd.merge(test, agg_auth, on='card_id', how='left')\n",
    "test = pd.merge(test, agg_unauth, on='card_id', how='left')\n",
    "test = pd.merge(test, auth_final, on='card_id', how='left')\n",
    "test = pd.merge(test, agg_new, on='card_id', how='left')\n",
    "test = pd.merge(test, cate_unauth, on='card_id', how='left')\n",
    "test = pd.merge(test, cate_auth, on='card_id', how='left')\n",
    "test = pd.merge(test, cate_new, on='card_id', how='left')\n",
    "test = pd.merge(test, additional_fields, on='card_id', how='left')"
   ]
  },
  {
   "cell_type": "code",
   "execution_count": 20,
   "metadata": {},
   "outputs": [
    {
     "name": "stdout",
     "output_type": "stream",
     "text": [
      "first_active_month\n",
      "card_id\n",
      "auth_merchant_id_cal_mode\n",
      "unauth_merchant_id_cal_mode\n",
      "new_merchant_id_cal_mode\n"
     ]
    }
   ],
   "source": [
    "for i in train.columns:\n",
    "    if train[i].dtype == object:\n",
    "        print(i)"
   ]
  },
  {
   "cell_type": "code",
   "execution_count": 21,
   "metadata": {},
   "outputs": [],
   "source": [
    "train['first_active_month'] = (pd.to_datetime(train['first_active_month']) - startime).dt.days\n",
    "test['first_active_month'] = (pd.to_datetime(test['first_active_month']) - startime).dt.days"
   ]
  },
  {
   "cell_type": "code",
   "execution_count": 22,
   "metadata": {},
   "outputs": [],
   "source": [
    "str_label = [\n",
    "    'auth_merchant_id_cal_mode',\n",
    "    'unauth_merchant_id_cal_mode', \n",
    "    'new_merchant_id_cal_mode'\n",
    "]\n",
    "for i in str_label:\n",
    "    le = LabelEncoder()\n",
    "    unique = train[i].append(test[i]).unique().tolist()\n",
    "    le.fit(unique)\n",
    "    train[i] = le.transform(train[i].tolist())\n",
    "    test[i] = le.transform(test[i].tolist())"
   ]
  },
  {
   "cell_type": "code",
   "execution_count": 25,
   "metadata": {},
   "outputs": [],
   "source": [
    "train_drop33 = train[train.target>-30]"
   ]
  },
  {
   "cell_type": "code",
   "execution_count": 28,
   "metadata": {},
   "outputs": [],
   "source": [
    "train_drop33.to_csv('/root/tempfile/train_final121701.csv',index=False)\n",
    "test.to_csv('/root/tempfile/test_final121701.csv',index=False)"
   ]
  }
 ],
 "metadata": {
  "kernelspec": {
   "display_name": "Python 3",
   "language": "python",
   "name": "python3"
  },
  "language_info": {
   "codemirror_mode": {
    "name": "ipython",
    "version": 3
   },
   "file_extension": ".py",
   "mimetype": "text/x-python",
   "name": "python",
   "nbconvert_exporter": "python",
   "pygments_lexer": "ipython3",
   "version": "3.7.1"
  }
 },
 "nbformat": 4,
 "nbformat_minor": 2
}
